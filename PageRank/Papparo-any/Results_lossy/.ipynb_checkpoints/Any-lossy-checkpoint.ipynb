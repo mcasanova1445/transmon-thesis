{
 "cells": [
  {
   "cell_type": "code",
   "execution_count": 1,
   "metadata": {},
   "outputs": [],
   "source": [
    "%matplotlib inline\n",
    "import matplotlib.pyplot as plt\n",
    "import numpy as np\n",
    "from qutip import *"
   ]
  },
  {
   "cell_type": "code",
   "execution_count": 2,
   "metadata": {
    "scrolled": true
   },
   "outputs": [
    {
     "name": "stdout",
     "output_type": "stream",
     "text": [
      "Loaded Result object:\n",
      "Result object with mesolve data.\n",
      "--------------------------------\n",
      "states = True\n",
      "num_collapse = 0\n",
      "Loaded Result object:\n",
      "Result object with mesolve data.\n",
      "--------------------------------\n",
      "states = True\n",
      "num_collapse = 0\n",
      "Loaded Result object:\n",
      "Result object with mesolve data.\n",
      "--------------------------------\n",
      "states = True\n",
      "num_collapse = 0\n",
      "Loaded Result object:\n",
      "Result object with mesolve data.\n",
      "--------------------------------\n",
      "states = True\n",
      "num_collapse = 0\n",
      "Loaded Result object:\n",
      "Result object with mesolve data.\n",
      "--------------------------------\n",
      "states = True\n",
      "num_collapse = 0\n",
      "Loaded Result object:\n",
      "Result object with mesolve data.\n",
      "--------------------------------\n",
      "states = True\n",
      "num_collapse = 0\n",
      "Loaded Result object:\n",
      "Result object with mesolve data.\n",
      "--------------------------------\n",
      "states = True\n",
      "num_collapse = 0\n",
      "Loaded Result object:\n",
      "Result object with mesolve data.\n",
      "--------------------------------\n",
      "states = True\n",
      "num_collapse = 0\n",
      "Loaded Result object:\n",
      "Result object with mesolve data.\n",
      "--------------------------------\n",
      "states = True\n",
      "num_collapse = 0\n",
      "Loaded Result object:\n",
      "Result object with mesolve data.\n",
      "--------------------------------\n",
      "states = True\n",
      "num_collapse = 0\n",
      "Loaded Result object:\n",
      "Result object with mesolve data.\n",
      "--------------------------------\n",
      "states = True\n",
      "num_collapse = 0\n",
      "Loaded Result object:\n",
      "Result object with mesolve data.\n",
      "--------------------------------\n",
      "states = True\n",
      "num_collapse = 0\n",
      "Loaded Result object:\n",
      "Result object with mesolve data.\n",
      "--------------------------------\n",
      "states = True\n",
      "num_collapse = 0\n",
      "Loaded Result object:\n",
      "Result object with mesolve data.\n",
      "--------------------------------\n",
      "states = True\n",
      "num_collapse = 0\n",
      "Loaded Result object:\n",
      "Result object with mesolve data.\n",
      "--------------------------------\n",
      "states = True\n",
      "num_collapse = 0\n",
      "Loaded Result object:\n",
      "Result object with mesolve data.\n",
      "--------------------------------\n",
      "states = True\n",
      "num_collapse = 0\n",
      "Loaded Result object:\n",
      "Result object with mesolve data.\n",
      "--------------------------------\n",
      "states = True\n",
      "num_collapse = 0\n",
      "Loaded Result object:\n",
      "Result object with mesolve data.\n",
      "--------------------------------\n",
      "states = True\n",
      "num_collapse = 0\n",
      "Loaded Result object:\n",
      "Result object with mesolve data.\n",
      "--------------------------------\n",
      "states = True\n",
      "num_collapse = 0\n",
      "Loaded Result object:\n",
      "Result object with mesolve data.\n",
      "--------------------------------\n",
      "states = True\n",
      "num_collapse = 0\n",
      "Loaded Result object:\n",
      "Result object with mesolve data.\n",
      "--------------------------------\n",
      "states = True\n",
      "num_collapse = 0\n",
      "Loaded Result object:\n",
      "Result object with mesolve data.\n",
      "--------------------------------\n",
      "states = True\n",
      "num_collapse = 0\n",
      "Loaded Result object:\n",
      "Result object with mesolve data.\n",
      "--------------------------------\n",
      "states = True\n",
      "num_collapse = 0\n",
      "Loaded Result object:\n",
      "Result object with mesolve data.\n",
      "--------------------------------\n",
      "states = True\n",
      "num_collapse = 0\n",
      "Loaded Result object:\n",
      "Result object with mesolve data.\n",
      "--------------------------------\n",
      "states = True\n",
      "num_collapse = 0\n",
      "Loaded Result object:\n",
      "Result object with mesolve data.\n",
      "--------------------------------\n",
      "states = True\n",
      "num_collapse = 0\n",
      "Loaded Result object:\n",
      "Result object with mesolve data.\n",
      "--------------------------------\n",
      "states = True\n",
      "num_collapse = 0\n",
      "Loaded Result object:\n",
      "Result object with mesolve data.\n",
      "--------------------------------\n",
      "states = True\n",
      "num_collapse = 0\n",
      "Loaded Result object:\n",
      "Result object with mesolve data.\n",
      "--------------------------------\n",
      "states = True\n",
      "num_collapse = 0\n",
      "Loaded Result object:\n",
      "Result object with mesolve data.\n",
      "--------------------------------\n",
      "states = True\n",
      "num_collapse = 0\n",
      "Loaded Result object:\n",
      "Result object with mesolve data.\n",
      "--------------------------------\n",
      "states = True\n",
      "num_collapse = 0\n",
      "Loaded Result object:\n",
      "Result object with mesolve data.\n",
      "--------------------------------\n",
      "states = True\n",
      "num_collapse = 0\n",
      "Loaded Result object:\n",
      "Result object with mesolve data.\n",
      "--------------------------------\n",
      "states = True\n",
      "num_collapse = 0\n",
      "Loaded Result object:\n",
      "Result object with mesolve data.\n",
      "--------------------------------\n",
      "states = True\n",
      "num_collapse = 0\n",
      "Loaded Result object:\n",
      "Result object with mesolve data.\n",
      "--------------------------------\n",
      "states = True\n",
      "num_collapse = 0\n",
      "Loaded Result object:\n",
      "Result object with mesolve data.\n",
      "--------------------------------\n",
      "states = True\n",
      "num_collapse = 0\n",
      "Loaded Result object:\n",
      "Result object with mesolve data.\n",
      "--------------------------------\n",
      "states = True\n",
      "num_collapse = 0\n",
      "Loaded Result object:\n",
      "Result object with mesolve data.\n",
      "--------------------------------\n",
      "states = True\n",
      "num_collapse = 0\n",
      "Loaded Result object:\n",
      "Result object with mesolve data.\n",
      "--------------------------------\n",
      "states = True\n",
      "num_collapse = 0\n",
      "Loaded Result object:\n",
      "Result object with mesolve data.\n",
      "--------------------------------\n",
      "states = True\n",
      "num_collapse = 0\n",
      "Loaded Result object:\n",
      "Result object with mesolve data.\n",
      "--------------------------------\n",
      "states = True\n",
      "num_collapse = 0\n",
      "Loaded Result object:\n",
      "Result object with mesolve data.\n",
      "--------------------------------\n",
      "states = True\n",
      "num_collapse = 0\n",
      "Loaded Result object:\n",
      "Result object with mesolve data.\n",
      "--------------------------------\n",
      "states = True\n",
      "num_collapse = 0\n",
      "Loaded Result object:\n",
      "Result object with mesolve data.\n",
      "--------------------------------\n",
      "states = True\n",
      "num_collapse = 0\n",
      "Loaded Result object:\n",
      "Result object with mesolve data.\n",
      "--------------------------------\n",
      "states = True\n",
      "num_collapse = 0\n",
      "Loaded Result object:\n",
      "Result object with mesolve data.\n",
      "--------------------------------\n",
      "states = True\n",
      "num_collapse = 0\n",
      "Loaded Result object:\n",
      "Result object with mesolve data.\n",
      "--------------------------------\n",
      "states = True\n",
      "num_collapse = 0\n",
      "Loaded Result object:\n",
      "Result object with mesolve data.\n",
      "--------------------------------\n",
      "states = True\n",
      "num_collapse = 0\n",
      "Loaded Result object:\n",
      "Result object with mesolve data.\n",
      "--------------------------------\n",
      "states = True\n",
      "num_collapse = 0\n",
      "Loaded Result object:\n",
      "Result object with mesolve data.\n",
      "--------------------------------\n",
      "states = True\n",
      "num_collapse = 0\n",
      "Loaded Result object:\n",
      "Result object with mesolve data.\n",
      "--------------------------------\n",
      "states = True\n",
      "num_collapse = 0\n",
      "Loaded Result object:\n",
      "Result object with mesolve data.\n",
      "--------------------------------\n",
      "states = True\n",
      "num_collapse = 0\n",
      "Loaded Result object:\n",
      "Result object with mesolve data.\n",
      "--------------------------------\n",
      "states = True\n",
      "num_collapse = 0\n",
      "Loaded Result object:\n",
      "Result object with mesolve data.\n",
      "--------------------------------\n",
      "states = True\n",
      "num_collapse = 0\n",
      "Loaded Result object:\n",
      "Result object with mesolve data.\n",
      "--------------------------------\n",
      "states = True\n",
      "num_collapse = 0\n",
      "Loaded Result object:\n",
      "Result object with mesolve data.\n",
      "--------------------------------\n",
      "states = True\n",
      "num_collapse = 0\n",
      "Loaded Result object:\n",
      "Result object with mesolve data.\n",
      "--------------------------------\n",
      "states = True\n",
      "num_collapse = 0\n",
      "Loaded Result object:\n",
      "Result object with mesolve data.\n",
      "--------------------------------\n",
      "states = True\n",
      "num_collapse = 0\n",
      "Loaded Result object:\n",
      "Result object with mesolve data.\n",
      "--------------------------------\n",
      "states = True\n",
      "num_collapse = 0\n",
      "Loaded Result object:\n",
      "Result object with mesolve data.\n",
      "--------------------------------\n",
      "states = True\n",
      "num_collapse = 0\n"
     ]
    },
    {
     "data": {
      "text/latex": [
       "Quantum object: dims = [[2, 2, 2, 2], [2, 2, 2, 2]], shape = (16, 16), type = oper, isherm = True\\begin{equation*}\\left(\\begin{array}{*{11}c}0.112 & (0.003+3.594\\times10^{-04}j) & (3.985\\times10^{-04}+4.505\\times10^{-04}j) & (1.558\\times10^{-04}+8.914\\times10^{-05}j) & (0.007+0.001j) & \\cdots & (3.467\\times10^{-04}+1.261\\times10^{-04}j) & (8.671\\times10^{-04}+3.326\\times10^{-04}j) & (1.209\\times10^{-04}+7.547\\times10^{-05}j) & (2.311\\times10^{-05}+7.692\\times10^{-05}j) & (-7.485\\times10^{-05}+7.726\\times10^{-06}j)\\\\(0.003-3.594\\times10^{-04}j) & 0.053 & (3.611\\times10^{-06}+1.157\\times10^{-04}j) & (2.289\\times10^{-04}+2.170\\times10^{-04}j) & (8.620\\times10^{-04}+1.159\\times10^{-04}j) & \\cdots & (2.499\\times10^{-04}+1.302\\times10^{-04}j) & (1.858\\times10^{-04}-5.509\\times10^{-05}j) & (5.822\\times10^{-04}+5.506\\times10^{-04}j) & (8.473\\times10^{-06}-6.428\\times10^{-06}j) & (-1.437\\times10^{-05}+1.486\\times10^{-05}j)\\\\(3.985\\times10^{-04}-4.505\\times10^{-04}j) & (3.611\\times10^{-06}-1.157\\times10^{-04}j) & 0.114 & (0.001-1.319\\times10^{-05}j) & (4.068\\times10^{-06}-1.141\\times10^{-05}j) & \\cdots & (3.999\\times10^{-04}-2.890\\times10^{-04}j) & (5.177\\times10^{-06}+1.719\\times10^{-05}j) & (5.510\\times10^{-05}-1.664\\times10^{-05}j) & (0.002+0.002j) & (0.002+8.228\\times10^{-04}j)\\\\(1.558\\times10^{-04}-8.914\\times10^{-05}j) & (2.289\\times10^{-04}-2.170\\times10^{-04}j) & (0.001+1.319\\times10^{-05}j) & 0.064 & (-7.778\\times10^{-06}+1.813\\times10^{-05}j) & \\cdots & (0.007-5.746\\times10^{-04}j) & (8.536\\times10^{-06}+9.247\\times10^{-06}j) & (5.407\\times10^{-06}+1.264\\times10^{-05}j) & (4.437\\times10^{-04}+1.694\\times10^{-04}j) & (0.003+8.162\\times10^{-04}j)\\\\(0.007-0.001j) & (8.620\\times10^{-04}-1.159\\times10^{-04}j) & (4.068\\times10^{-06}+1.141\\times10^{-05}j) & (-7.778\\times10^{-06}-1.813\\times10^{-05}j) & 0.066 & \\cdots & (2.618\\times10^{-05}-9.669\\times10^{-06}j) & (0.006-4.782\\times10^{-04}j) & (1.378\\times10^{-04}+3.830\\times10^{-05}j) & (3.752\\times10^{-05}-2.129\\times10^{-04}j) & (-1.024\\times10^{-04}-5.054\\times10^{-04}j)\\\\\\vdots & \\vdots & \\vdots & \\vdots & \\vdots & \\ddots & \\vdots & \\vdots & \\vdots & \\vdots & \\vdots\\\\(3.467\\times10^{-04}-1.261\\times10^{-04}j) & (2.499\\times10^{-04}-1.302\\times10^{-04}j) & (3.999\\times10^{-04}+2.890\\times10^{-04}j) & (0.007+5.746\\times10^{-04}j) & (2.618\\times10^{-05}+9.669\\times10^{-06}j) & \\cdots & 0.058 & (-1.542\\times10^{-05}+1.413\\times10^{-05}j) & (-4.689\\times10^{-06}-2.404\\times10^{-05}j) & (0.004+6.842\\times10^{-04}j) & (0.002+3.538\\times10^{-04}j)\\\\(8.671\\times10^{-04}-3.326\\times10^{-04}j) & (1.858\\times10^{-04}+5.509\\times10^{-05}j) & (5.177\\times10^{-06}-1.719\\times10^{-05}j) & (8.536\\times10^{-06}-9.247\\times10^{-06}j) & (0.006+4.782\\times10^{-04}j) & \\cdots & (-1.542\\times10^{-05}-1.413\\times10^{-05}j) & 0.048 & (9.690\\times10^{-04}-4.199\\times10^{-06}j) & (4.900\\times10^{-05}+3.200\\times10^{-04}j) & (-5.502\\times10^{-05}+1.677\\times10^{-04}j)\\\\(1.209\\times10^{-04}-7.547\\times10^{-05}j) & (5.822\\times10^{-04}-5.506\\times10^{-04}j) & (5.510\\times10^{-05}+1.664\\times10^{-05}j) & (5.407\\times10^{-06}-1.264\\times10^{-05}j) & (1.378\\times10^{-04}-3.830\\times10^{-05}j) & \\cdots & (-4.689\\times10^{-06}+2.404\\times10^{-05}j) & (9.690\\times10^{-04}+4.199\\times10^{-06}j) & 0.027 & (-9.269\\times10^{-06}+4.892\\times10^{-06}j) & (-3.640\\times10^{-05}+2.297\\times10^{-05}j)\\\\(2.311\\times10^{-05}-7.692\\times10^{-05}j) & (8.473\\times10^{-06}+6.428\\times10^{-06}j) & (0.002-0.002j) & (4.437\\times10^{-04}-1.694\\times10^{-04}j) & (3.752\\times10^{-05}+2.129\\times10^{-04}j) & \\cdots & (0.004-6.842\\times10^{-04}j) & (4.900\\times10^{-05}-3.200\\times10^{-04}j) & (-9.269\\times10^{-06}-4.892\\times10^{-06}j) & 0.083 & (5.276\\times10^{-04}-1.332\\times10^{-05}j)\\\\(-7.485\\times10^{-05}-7.726\\times10^{-06}j) & (-1.437\\times10^{-05}-1.486\\times10^{-05}j) & (0.002-8.228\\times10^{-04}j) & (0.003-8.162\\times10^{-04}j) & (-1.024\\times10^{-04}+5.054\\times10^{-04}j) & \\cdots & (0.002-3.538\\times10^{-04}j) & (-5.502\\times10^{-05}-1.677\\times10^{-04}j) & (-3.640\\times10^{-05}-2.297\\times10^{-05}j) & (5.276\\times10^{-04}+1.332\\times10^{-05}j) & 0.037\\\\\\end{array}\\right)\\end{equation*}"
      ],
      "text/plain": [
       "Quantum object: dims = [[2, 2, 2, 2], [2, 2, 2, 2]], shape = (16, 16), type = oper, isherm = True\n",
       "Qobj data =\n",
       "[[ 1.11806691e-01+2.54789221e-14j  3.06095304e-03+3.59405621e-04j\n",
       "   3.98470350e-04+4.50508358e-04j  1.55802930e-04+8.91355632e-05j\n",
       "   6.83930470e-03+1.04923907e-03j  8.16621122e-04+2.93576423e-04j\n",
       "  -1.46213467e-04+1.13995003e-04j -1.73812991e-06-4.43347154e-05j\n",
       "   9.54977557e-03-7.12029289e-04j  2.85490273e-04-3.95215189e-05j\n",
       "   1.36201850e-04+9.78905119e-05j  3.46659150e-04+1.26133911e-04j\n",
       "   8.67080769e-04+3.32617252e-04j  1.20914601e-04+7.54725461e-05j\n",
       "   2.31058958e-05+7.69208724e-05j -7.48495347e-05+7.72558116e-06j]\n",
       " [ 3.06095304e-03-3.59405621e-04j  5.33603112e-02+6.68040932e-15j\n",
       "   3.61132318e-06+1.15690663e-04j  2.28885354e-04+2.16976820e-04j\n",
       "   8.62042702e-04+1.15935240e-04j  3.15176242e-03+5.21179076e-05j\n",
       "   1.34348132e-05+6.22236407e-06j -8.81284238e-06+2.63547921e-05j\n",
       "   2.40850122e-04-5.10027019e-05j  4.81910028e-03-3.32597394e-04j\n",
       "   4.15445275e-06+2.60845620e-05j  2.49879797e-04+1.30211386e-04j\n",
       "   1.85807173e-04-5.50873599e-05j  5.82231392e-04+5.50642363e-04j\n",
       "   8.47269756e-06-6.42775814e-06j -1.43707304e-05+1.48586539e-05j]\n",
       " [ 3.98470350e-04-4.50508358e-04j  3.61132279e-06-1.15690664e-04j\n",
       "   1.13850597e-01+2.00893855e-14j  1.46016556e-03-1.31947343e-05j\n",
       "   4.06789602e-06-1.14127913e-05j  8.00943154e-06+1.14657793e-05j\n",
       "   8.60955936e-03+5.81715305e-04j  3.37352777e-04+1.90553643e-04j\n",
       "   6.65625709e-05+1.51031926e-04j  5.87909814e-05-2.31503293e-05j\n",
       "   9.30443750e-03-7.64549525e-04j  3.99943684e-04-2.88983550e-04j\n",
       "   5.17681157e-06+1.71933666e-05j  5.50970201e-05-1.66426999e-05j\n",
       "   2.20730654e-03+1.58140787e-03j  2.26834025e-03+8.22756345e-04j]\n",
       " [ 1.55802933e-04-8.91355665e-05j  2.28885354e-04-2.16976820e-04j\n",
       "   1.46016556e-03+1.31947344e-05j  6.43960999e-02+1.85030034e-14j\n",
       "  -7.77751366e-06+1.81345320e-05j  2.72365088e-05-1.98738025e-05j\n",
       "   3.77099043e-03+6.99796722e-04j -5.61128299e-04+2.91954360e-04j\n",
       "   1.10802787e-04-5.62710228e-05j  3.85366937e-05+6.38432404e-05j\n",
       "   7.85096633e-05+8.06233399e-05j  6.81099936e-03-5.74603282e-04j\n",
       "   8.53611202e-06+9.24748252e-06j  5.40740485e-06+1.26356009e-05j\n",
       "   4.43688205e-04+1.69393620e-04j  3.16966857e-03+8.16223371e-04j]\n",
       " [ 6.83930470e-03-1.04923907e-03j  8.62042702e-04-1.15935240e-04j\n",
       "   4.06789635e-06+1.14127910e-05j -7.77751359e-06-1.81345317e-05j\n",
       "   6.62592313e-02-4.00468797e-14j  1.32861403e-03+3.80668448e-05j\n",
       "   1.09132634e-04+3.73990069e-04j -7.15725879e-05+1.08753535e-04j\n",
       "   6.67929473e-04+2.22907343e-04j  1.37547696e-04-8.59687947e-06j\n",
       "   4.33380117e-05+1.58221601e-05j  2.61803305e-05-9.66872936e-06j\n",
       "   6.35525503e-03-4.78172520e-04j  1.37807562e-04+3.82958828e-05j\n",
       "   3.75220237e-05-2.12945291e-04j -1.02350840e-04-5.05401489e-04j]\n",
       " [ 8.16621122e-04-2.93576424e-04j  3.15176242e-03-5.21179076e-05j\n",
       "   8.00943180e-06-1.14657799e-05j  2.72365087e-05+1.98738026e-05j\n",
       "   1.32861403e-03-3.80668449e-05j  3.58902172e-02-8.70170360e-15j\n",
       "  -4.84642194e-05+7.78097891e-05j -7.19388002e-06-8.52823003e-06j\n",
       "   1.29404703e-04-1.37838977e-04j  3.20837779e-04-1.42912086e-04j\n",
       "   6.26256466e-05+4.74913204e-05j  3.25517500e-05-3.15537996e-05j\n",
       "   1.52030066e-04-3.66328247e-05j  3.19522874e-03-3.61694569e-04j\n",
       "   8.84457503e-05+1.47441243e-04j  4.39353577e-05-7.17392790e-05j]\n",
       " [-1.46213468e-04-1.13995004e-04j  1.34348135e-05-6.22236400e-06j\n",
       "   8.60955936e-03-5.81715305e-04j  3.77099043e-03-6.99796722e-04j\n",
       "   1.09132635e-04-3.73990069e-04j -4.84642196e-05-7.78097901e-05j\n",
       "   8.81508285e-02-1.28787833e-14j  1.64463272e-04+5.85712308e-05j\n",
       "   8.35559096e-05+4.42219672e-06j -5.76591364e-05+1.53350892e-05j\n",
       "  -1.04189606e-03+6.76007204e-04j  4.30454430e-04-1.83790652e-04j\n",
       "   4.32067250e-05+1.49499188e-04j -4.09118356e-06-2.64950717e-05j\n",
       "   9.58408686e-03-7.33935757e-04j  3.48955633e-04-1.30016527e-05j]\n",
       " [-1.73812944e-06+4.43347145e-05j -8.81284222e-06-2.63547918e-05j\n",
       "   3.37352776e-04-1.90553644e-04j -5.61128299e-04-2.91954360e-04j\n",
       "  -7.15725777e-05-1.08753542e-04j -7.19387932e-06+8.52823073e-06j\n",
       "   1.64463272e-04-5.85712306e-05j  3.44132232e-02-1.48919620e-14j\n",
       "   1.96700743e-05-3.49848490e-05j -3.69330569e-06-2.33961304e-05j\n",
       "   1.29660920e-03-3.35307466e-04j  5.38670287e-03+2.51021113e-04j\n",
       "  -5.28468622e-05+2.77133802e-05j -1.90090882e-05+5.45911624e-05j\n",
       "   5.17278609e-04-6.16491213e-06j  3.38555552e-03-4.60069193e-04j]\n",
       " [ 9.54977557e-03+7.12029289e-04j  2.40850122e-04+5.10027019e-05j\n",
       "   6.65625710e-05-1.51031926e-04j  1.10802788e-04+5.62710224e-05j\n",
       "   6.67929473e-04-2.22907343e-04j  1.29404703e-04+1.37838977e-04j\n",
       "   8.35559100e-05-4.42219634e-06j  1.96700769e-05+3.49848514e-05j\n",
       "   6.98620265e-02+7.22880911e-14j  2.03419210e-03+1.70585879e-04j\n",
       "   1.87462010e-04+2.57840629e-04j -1.47980676e-04+6.89747784e-05j\n",
       "   5.19381677e-03+6.12996779e-04j  6.03827137e-04+1.68433291e-04j\n",
       "  -3.73819035e-05+2.05621389e-05j  1.59154153e-05-2.14077520e-05j]\n",
       " [ 2.85490273e-04+3.95215188e-05j  4.81910028e-03+3.32597394e-04j\n",
       "   5.87909814e-05+2.31503290e-05j  3.85366938e-05-6.38432404e-05j\n",
       "   1.37547696e-04+8.59687938e-06j  3.20837780e-04+1.42912086e-04j\n",
       "  -5.76591366e-05-1.53350891e-05j -3.69330597e-06+2.33961303e-05j\n",
       "   2.03419210e-03-1.70585879e-04j  3.57219889e-02+1.13000240e-14j\n",
       "  -4.09188056e-05-1.02515580e-05j  1.23120658e-04+2.07102867e-04j\n",
       "   6.90110439e-04+9.86692711e-05j  2.83028265e-03-3.98649467e-04j\n",
       "   1.55512197e-05-9.84747982e-06j  2.80952442e-06+2.39221488e-05j]\n",
       " [ 1.36201850e-04-9.78905126e-05j  4.15445216e-06-2.60845617e-05j\n",
       "   9.30443750e-03+7.64549525e-04j  7.85096633e-05-8.06233399e-05j\n",
       "   4.33380117e-05-1.58221601e-05j  6.26256462e-05-4.74913208e-05j\n",
       "  -1.04189606e-03-6.76007204e-04j  1.29660920e-03+3.35307465e-04j\n",
       "   1.87462010e-04-2.57840629e-04j -4.09188052e-05+1.02515579e-05j\n",
       "   7.32035556e-02+3.81011744e-15j  1.35883036e-03+1.14114585e-05j\n",
       "  -1.66956526e-05-1.83432402e-05j -1.32855822e-05-1.69846693e-06j\n",
       "   1.01677642e-02+8.22021917e-04j  2.37619947e-04+1.42180978e-04j]\n",
       " [ 3.46659155e-04-1.26133914e-04j  2.49879797e-04-1.30211387e-04j\n",
       "   3.99943684e-04+2.88983549e-04j  6.81099936e-03+5.74603282e-04j\n",
       "   2.61803305e-05+9.66872989e-06j  3.25517504e-05+3.15538000e-05j\n",
       "   4.30454430e-04+1.83790652e-04j  5.38670287e-03-2.51021113e-04j\n",
       "  -1.47980679e-04-6.89747755e-05j  1.23120658e-04-2.07102867e-04j\n",
       "   1.35883036e-03-1.14114585e-05j  5.82022290e-02+3.27509309e-15j\n",
       "  -1.54230156e-05+1.41340641e-05j -4.68923610e-06-2.40354304e-05j\n",
       "   3.73089021e-03+6.84243603e-04j  1.91851641e-03+3.53791975e-04j]\n",
       " [ 8.67080769e-04-3.32617253e-04j  1.85807173e-04+5.50873597e-05j\n",
       "   5.17681194e-06-1.71933663e-05j  8.53611202e-06-9.24748214e-06j\n",
       "   6.35525503e-03+4.78172520e-04j  1.52030066e-04+3.66328246e-05j\n",
       "   4.32067249e-05-1.49499188e-04j -5.28468583e-05-2.77133817e-05j\n",
       "   5.19381677e-03-6.12996779e-04j  6.90110438e-04-9.86692711e-05j\n",
       "  -1.66956526e-05+1.83432401e-05j -1.54230157e-05-1.41340642e-05j\n",
       "   4.75566867e-02-5.92098612e-14j  9.68976285e-04-4.19853137e-06j\n",
       "   4.90028654e-05+3.19998982e-04j -5.50178571e-05+1.67683351e-04j]\n",
       " [ 1.20914595e-04-7.54725447e-05j  5.82231392e-04-5.50642363e-04j\n",
       "   5.50970186e-05+1.66426901e-05j  5.40740457e-06-1.26356011e-05j\n",
       "   1.37807562e-04-3.82958828e-05j  3.19522874e-03+3.61694569e-04j\n",
       "  -4.09118333e-06+2.64950716e-05j -1.90090881e-05-5.45911624e-05j\n",
       "   6.03827137e-04-1.68433291e-04j  2.83028265e-03+3.98649467e-04j\n",
       "  -1.32855824e-05+1.69846733e-06j -4.68923594e-06+2.40354304e-05j\n",
       "   9.68976285e-04+4.19853140e-06j  2.68207091e-02-1.02116560e-14j\n",
       "  -9.26885872e-06+4.89188603e-06j -3.63950471e-05+2.29720909e-05j]\n",
       " [ 2.31058967e-05-7.69208730e-05j  8.47269739e-06+6.42775774e-06j\n",
       "   2.20730654e-03-1.58140787e-03j  4.43688205e-04-1.69393620e-04j\n",
       "   3.75220236e-05+2.12945291e-04j  8.84457502e-05-1.47441243e-04j\n",
       "   9.58408686e-03+7.33935757e-04j  5.17278609e-04+6.16491214e-06j\n",
       "  -3.73819032e-05-2.05621388e-05j  1.55512198e-05+9.84747987e-06j\n",
       "   1.01677642e-02-8.22021917e-04j  3.73089021e-03-6.84243603e-04j\n",
       "   4.90028658e-05-3.19998983e-04j -9.26885813e-06-4.89188633e-06j\n",
       "   8.30592427e-02-1.19746268e-14j  5.27569399e-04-1.33213423e-05j]\n",
       " [-7.48495330e-05-7.72558195e-06j -1.43707301e-05-1.48586540e-05j\n",
       "   2.26834021e-03-8.22756346e-04j  3.16966857e-03-8.16223372e-04j\n",
       "  -1.02350840e-04+5.05401488e-04j  4.39353580e-05+7.17392789e-05j\n",
       "   3.48955633e-04+1.30016527e-05j  3.38555552e-03+4.60069192e-04j\n",
       "   1.59154157e-05+2.14077524e-05j  2.80952423e-06-2.39221487e-05j\n",
       "   2.37619949e-04-1.42180976e-04j  1.91851641e-03-3.53791974e-04j\n",
       "  -5.50178536e-05-1.67683350e-04j -3.63950472e-05-2.29720907e-05j\n",
       "   5.27569399e-04+1.33213423e-05j  3.74463615e-02-3.48696352e-15j]]"
      ]
     },
     "execution_count": 2,
     "metadata": {},
     "output_type": "execute_result"
    }
   ],
   "source": [
    "res_list = []\n",
    "\n",
    "for i in range(60):\n",
    "    res_list.append(qload('itj_{}'.format(i+1)))\n",
    "    \n",
    "res_list[0].states[-1]"
   ]
  },
  {
   "cell_type": "code",
   "execution_count": 3,
   "metadata": {},
   "outputs": [],
   "source": [
    "res00_list = []\n",
    "res01_list = []\n",
    "res10_list = []\n",
    "res11_list = []\n",
    "\n",
    "for i in range(60):\n",
    "    if i % 2 == 1:\n",
    "        res00_list.append(expect(ptrace(res_list[i].states[-1], [2,3]), tensor(basis(2,0),basis(2,0))))\n",
    "        res01_list.append(expect(ptrace(res_list[i].states[-1], [2,3]), tensor(basis(2,0),basis(2,1))))\n",
    "        res10_list.append(expect(ptrace(res_list[i].states[-1], [2,3]), tensor(basis(2,1),basis(2,0))))\n",
    "        res11_list.append(expect(ptrace(res_list[i].states[-1], [2,3]), tensor(basis(2,1),basis(2,1))))"
   ]
  },
  {
   "cell_type": "code",
   "execution_count": 4,
   "metadata": {},
   "outputs": [
    {
     "data": {
      "text/plain": [
       "<matplotlib.legend.Legend at 0x7f7841c60780>"
      ]
     },
     "execution_count": 4,
     "metadata": {},
     "output_type": "execute_result"
    },
    {
     "data": {
      "image/png": "[encoded data removed]",
      "text/plain": [
       "<Figure size 864x576 with 1 Axes>"
      ]
     },
     "metadata": {
      "needs_background": "light"
     },
     "output_type": "display_data"
    }
   ],
   "source": [
    "fig, axes = plt.subplots(1, 1, sharex=True, figsize=(12,8))\n",
    "axes.plot(np.abs(res00_list), label='Nodo 0')\n",
    "axes.plot(np.abs(res01_list), label='Nodo 1')\n",
    "axes.plot(np.abs(res10_list), label='Nodo 2')\n",
    "axes.plot(np.abs(res11_list), label='Nodo 3')\n",
    "axes.set_xlabel('Paso')\n",
    "axes.set_ylabel('PageRank cuántico instantáneo')\n",
    "axes.set_ylim(0,1)\n",
    "axes.legend()"
   ]
  },
  {
   "cell_type": "code",
   "execution_count": 5,
   "metadata": {},
   "outputs": [
    {
     "data": {
      "text/plain": [
       "<matplotlib.legend.Legend at 0x7f784483e898>"
      ]
     },
     "execution_count": 5,
     "metadata": {},
     "output_type": "execute_result"
    },
    {
     "data": {
      "image/png": "[encoded data removed]",
      "text/plain": [
       "<Figure size 864x576 with 1 Axes>"
      ]
     },
     "metadata": {
      "needs_background": "light"
     },
     "output_type": "display_data"
    }
   ],
   "source": [
    "fig, axes = plt.subplots(1, 1, sharex=True, figsize=(12,8))\n",
    "axes.plot(np.abs([np.mean(res00_list[:i+1]) for i in range(len(res00_list))]), label='Nodo 0')\n",
    "axes.plot(np.abs([np.mean(res01_list[:i+1]) for i in range(len(res01_list))]), label='Nodo 1')\n",
    "axes.plot(np.abs([np.mean(res10_list[:i+1]) for i in range(len(res10_list))]), label='Nodo 2')\n",
    "axes.plot(np.abs([np.mean(res11_list[:i+1]) for i in range(len(res11_list))]), label='Nodo 3')\n",
    "axes.set_xlabel('Paso')\n",
    "axes.set_ylabel('PageRank cuántico promedio')\n",
    "axes.set_ylim(0,1)\n",
    "axes.legend()"
   ]
  },
  {
   "cell_type": "code",
   "execution_count": 6,
   "metadata": {},
   "outputs": [
    {
     "data": {
      "text/plain": [
       "[<matplotlib.lines.Line2D at 0x7f784482cfd0>]"
      ]
     },
     "execution_count": 6,
     "metadata": {},
     "output_type": "execute_result"
    },
    {
     "data": {
      "image/png": "[encoded data removed]",
      "text/plain": [
       "<Figure size 432x288 with 1 Axes>"
      ]
     },
     "metadata": {
      "needs_background": "light"
     },
     "output_type": "display_data"
    }
   ],
   "source": [
    "plt.plot(np.abs(res10_list))"
   ]
  },
  {
   "cell_type": "code",
   "execution_count": 7,
   "metadata": {},
   "outputs": [
    {
     "data": {
      "text/plain": [
       "[<matplotlib.lines.Line2D at 0x7f7841bd0d68>]"
      ]
     },
     "execution_count": 7,
     "metadata": {},
     "output_type": "execute_result"
    },
    {
     "data": {
      "image/png": "[encoded data removed]",
      "text/plain": [
       "<Figure size 432x288 with 1 Axes>"
      ]
     },
     "metadata": {
      "needs_background": "light"
     },
     "output_type": "display_data"
    }
   ],
   "source": [
    "plt.plot(np.abs(res11_list))"
   ]
  },
  {
   "cell_type": "code",
   "execution_count": 8,
   "metadata": {},
   "outputs": [
    {
     "data": {
      "text/plain": [
       "[0.06681866053083078,\n",
       " 0.2640731948829395,\n",
       " 0.4204820020551859,\n",
       " 0.2486261425310439]"
      ]
     },
     "execution_count": 8,
     "metadata": {},
     "output_type": "execute_result"
    }
   ],
   "source": [
    "[np.mean(res00_list),np.mean(res01_list),np.mean(res10_list),np.mean(res11_list)]"
   ]
  },
  {
   "cell_type": "code",
   "execution_count": 9,
   "metadata": {},
   "outputs": [
    {
     "data": {
      "text/plain": [
       "1.0"
      ]
     },
     "execution_count": 9,
     "metadata": {},
     "output_type": "execute_result"
    }
   ],
   "source": [
    "np.mean(res00_list)+np.mean(res01_list)+np.mean(res10_list)+np.mean(res11_list)"
   ]
  },
  {
   "cell_type": "code",
   "execution_count": null,
   "metadata": {},
   "outputs": [],
   "source": []
  }
 ],
 "metadata": {
  "kernelspec": {
   "display_name": "Python 3",
   "language": "python",
   "name": "python3"
  },
  "language_info": {
   "codemirror_mode": {
    "name": "ipython",
    "version": 3
   },
   "file_extension": ".py",
   "mimetype": "text/x-python",
   "name": "python",
   "nbconvert_exporter": "python",
   "pygments_lexer": "ipython3",
   "version": "3.7.1"
  }
 },
 "nbformat": 4,
 "nbformat_minor": 2
}
