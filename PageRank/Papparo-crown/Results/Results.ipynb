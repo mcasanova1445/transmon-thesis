{
 "cells": [
  {
   "cell_type": "code",
   "execution_count": 1,
   "metadata": {},
   "outputs": [],
   "source": [
    "%matplotlib inline\n",
    "import matplotlib.pyplot as plt\n",
    "import numpy as np\n",
    "from qutip import *"
   ]
  },
  {
   "cell_type": "code",
   "execution_count": 6,
   "metadata": {},
   "outputs": [
    {
     "name": "stdout",
     "output_type": "stream",
     "text": [
      "Loaded Result object:\n",
      "Result object with mesolve data.\n",
      "--------------------------------\n",
      "states = True\n",
      "num_collapse = 0\n",
      "Loaded Result object:\n",
      "Result object with mesolve data.\n",
      "--------------------------------\n",
      "states = True\n",
      "num_collapse = 0\n",
      "Loaded Result object:\n",
      "Result object with mesolve data.\n",
      "--------------------------------\n",
      "states = True\n",
      "num_collapse = 0\n",
      "Loaded Result object:\n",
      "Result object with mesolve data.\n",
      "--------------------------------\n",
      "states = True\n",
      "num_collapse = 0\n",
      "Loaded Result object:\n",
      "Result object with mesolve data.\n",
      "--------------------------------\n",
      "states = True\n",
      "num_collapse = 0\n",
      "Loaded Result object:\n",
      "Result object with mesolve data.\n",
      "--------------------------------\n",
      "states = True\n",
      "num_collapse = 0\n",
      "Loaded Result object:\n",
      "Result object with mesolve data.\n",
      "--------------------------------\n",
      "states = True\n",
      "num_collapse = 0\n",
      "Loaded Result object:\n",
      "Result object with mesolve data.\n",
      "--------------------------------\n",
      "states = True\n",
      "num_collapse = 0\n",
      "Loaded Result object:\n",
      "Result object with mesolve data.\n",
      "--------------------------------\n",
      "states = True\n",
      "num_collapse = 0\n",
      "Loaded Result object:\n",
      "Result object with mesolve data.\n",
      "--------------------------------\n",
      "states = True\n",
      "num_collapse = 0\n",
      "Loaded Result object:\n",
      "Result object with mesolve data.\n",
      "--------------------------------\n",
      "states = True\n",
      "num_collapse = 0\n",
      "Loaded Result object:\n",
      "Result object with mesolve data.\n",
      "--------------------------------\n",
      "states = True\n",
      "num_collapse = 0\n",
      "Loaded Result object:\n",
      "Result object with mesolve data.\n",
      "--------------------------------\n",
      "states = True\n",
      "num_collapse = 0\n",
      "Loaded Result object:\n",
      "Result object with mesolve data.\n",
      "--------------------------------\n",
      "states = True\n",
      "num_collapse = 0\n",
      "Loaded Result object:\n",
      "Result object with mesolve data.\n",
      "--------------------------------\n",
      "states = True\n",
      "num_collapse = 0\n",
      "Loaded Result object:\n",
      "Result object with mesolve data.\n",
      "--------------------------------\n",
      "states = True\n",
      "num_collapse = 0\n",
      "Loaded Result object:\n",
      "Result object with mesolve data.\n",
      "--------------------------------\n",
      "states = True\n",
      "num_collapse = 0\n",
      "Loaded Result object:\n",
      "Result object with mesolve data.\n",
      "--------------------------------\n",
      "states = True\n",
      "num_collapse = 0\n",
      "Loaded Result object:\n",
      "Result object with mesolve data.\n",
      "--------------------------------\n",
      "states = True\n",
      "num_collapse = 0\n",
      "Loaded Result object:\n",
      "Result object with mesolve data.\n",
      "--------------------------------\n",
      "states = True\n",
      "num_collapse = 0\n",
      "Loaded Result object:\n",
      "Result object with mesolve data.\n",
      "--------------------------------\n",
      "states = True\n",
      "num_collapse = 0\n"
     ]
    },
    {
     "data": {
      "text/latex": [
       "Quantum object: dims = [[2, 2, 2, 2], [2, 2, 2, 2]], shape = (16, 16), type = oper, isherm = True\\begin{equation*}\\left(\\begin{array}{*{11}c}(0.092+1.312\\times10^{-07}j) & (0.012-0.001j) & (-0.002+3.784\\times10^{-04}j) & (-0.010+0.006j) & (-0.015+9.222\\times10^{-04}j) & \\cdots & (0.002+0.006j) & (-0.022-0.010j) & (-0.011+0.003j) & (-0.001+0.010j) & (0.005+0.003j)\\\\(0.012+0.001j) & (0.065+1.098\\times10^{-06}j) & (-0.005+0.009j) & (-0.006+0.005j) & (0.016-0.009j) & \\cdots & (0.006+0.005j) & (-0.019+0.008j) & (-0.004+0.017j) & (-0.010+0.007j) & (7.562\\times10^{-04}-0.002j)\\\\(-0.002-3.813\\times10^{-04}j) & (-0.005-0.009j) & (0.041-1.226\\times10^{-06}j) & (0.006+0.004j) & (-0.007+0.004j) & \\cdots & (-7.080\\times10^{-04}-0.003j) & (0.007-0.004j) & (-0.002-0.006j) & (-0.003-0.014j) & (-0.002-4.920\\times10^{-04}j)\\\\(-0.010-0.006j) & (-0.006-0.005j) & (0.006-0.004j) & (0.026-1.891\\times10^{-06}j) & (0.003+0.004j) & \\cdots & (-0.002-0.005j) & (-0.009-4.193\\times10^{-04}j) & (-4.463\\times10^{-05}+0.004j) & (-0.004-0.002j) & (-0.003-0.002j)\\\\(-0.015-9.239\\times10^{-04}j) & (0.016+0.009j) & (-0.007-0.004j) & (0.003-0.004j) & (0.052-9.564\\times10^{-07}j) & \\cdots & (-0.003+0.004j) & (0.014+0.011j) & (0.004+0.011j) & (-0.006+1.309\\times10^{-04}j) & (0.002+0.006j)\\\\\\vdots & \\vdots & \\vdots & \\vdots & \\vdots & \\ddots & \\vdots & \\vdots & \\vdots & \\vdots & \\vdots\\\\(0.002-0.006j) & (0.006-0.005j) & (-7.103\\times10^{-04}+0.003j) & (-0.002+0.005j) & (-0.003-0.004j) & \\cdots & (0.025+8.756\\times10^{-07}j) & (-0.002-0.006j) & (-0.002-3.646\\times10^{-06}j) & (0.002+0.002j) & (3.554\\times10^{-04}-7.151\\times10^{-04}j)\\\\(-0.022+0.010j) & (-0.019-0.008j) & (0.007+0.004j) & (-0.009+4.150\\times10^{-04}j) & (0.014-0.011j) & \\cdots & (-0.002+0.006j) & (0.196-6.308\\times10^{-07}j) & (0.042-0.021j) & (0.014-3.418\\times10^{-04}j) & (-0.012-0.011j)\\\\(-0.011-0.003j) & (-0.004-0.017j) & (-0.002+0.006j) & (-3.954\\times10^{-05}-0.004j) & (0.004-0.011j) & \\cdots & (-0.002+7.648\\times10^{-06}j) & (0.042+0.021j) & (0.056-1.994\\times10^{-06}j) & (0.003+0.013j) & (0.004-0.002j)\\\\(-0.001-0.010j) & (-0.010-0.007j) & (-0.003+0.014j) & (-0.004+0.002j) & (-0.006-1.358\\times10^{-04}j) & \\cdots & (0.002-0.002j) & (0.014+3.418\\times10^{-04}j) & (0.003-0.013j) & (0.056+2.980\\times10^{-06}j) & (-0.002-0.009j)\\\\(0.005-0.003j) & (7.582\\times10^{-04}+0.002j) & (-0.002+4.925\\times10^{-04}j) & (-0.003+0.002j) & (0.002-0.006j) & \\cdots & (3.549\\times10^{-04}+7.140\\times10^{-04}j) & (-0.012+0.011j) & (0.004+0.002j) & (-0.002+0.009j) & (0.021+1.365\\times10^{-07}j)\\\\\\end{array}\\right)\\end{equation*}"
      ],
      "text/plain": [
       "Quantum object: dims = [[2, 2, 2, 2], [2, 2, 2, 2]], shape = (16, 16), type = oper, isherm = True\n",
       "Qobj data =\n",
       "[[ 9.22785641e-02+1.31233479e-07j  1.18868456e-02-1.08022135e-03j\n",
       "  -1.89098288e-03+3.78357897e-04j -9.98757147e-03+6.23118493e-03j\n",
       "  -1.48375012e-02+9.22195364e-04j  6.72148863e-03+2.16115732e-02j\n",
       "  -1.21369793e-02+9.07318950e-03j  2.00255691e-03+1.18827969e-02j\n",
       "   6.65495762e-03-2.70132188e-02j  3.68623926e-03-8.02609316e-04j\n",
       "   1.09708732e-02+1.45393213e-03j  2.05858944e-03+5.69627722e-03j\n",
       "  -2.16445910e-02-9.85261888e-03j -1.12236760e-02+2.88976442e-03j\n",
       "  -1.37892585e-03+1.03079390e-02j  4.90070768e-03+3.30084782e-03j]\n",
       " [ 1.18812377e-02+1.07680877e-03j  6.46536972e-02+1.09752576e-06j\n",
       "  -4.97497011e-03+9.47904992e-03j -6.01685697e-03+4.68204851e-03j\n",
       "   1.56689497e-02-8.78198058e-03j -5.56047467e-03+4.46019500e-03j\n",
       "  -8.99611186e-04-1.70256512e-03j  4.48127403e-04+4.48303221e-03j\n",
       "  -1.17379317e-02-1.00329566e-02j  2.06773363e-02-9.26525511e-04j\n",
       "   9.36721907e-04+9.43914225e-03j  5.83398478e-03+4.57847653e-03j\n",
       "  -1.94472242e-02+7.84417297e-03j -4.39083370e-03+1.72143928e-02j\n",
       "  -9.58643401e-03+6.55456914e-03j  7.56228510e-04-2.26714344e-03j]\n",
       " [-1.88593286e-03-3.81298538e-04j -4.97998713e-03-9.47314669e-03j\n",
       "   4.08507037e-02-1.22573330e-06j  6.12196473e-03+4.21577715e-03j\n",
       "  -6.96741129e-03+3.71821432e-03j  8.99741730e-03-5.22947302e-03j\n",
       "   6.14918398e-03-2.52747657e-03j  5.55707228e-04+3.30169811e-03j\n",
       "  -2.78334259e-03-1.04402932e-02j -5.97516675e-03-5.34597234e-03j\n",
       "  -5.44531115e-03-9.62576018e-03j -7.08036191e-04-3.11470119e-03j\n",
       "   7.05024932e-03-4.42204235e-03j -1.81814911e-03-5.74056775e-03j\n",
       "  -2.84694806e-03-1.41464952e-02j -1.91194357e-03-4.91956626e-04j]\n",
       " [-9.99162330e-03-6.23627711e-03j -6.01578724e-03-4.68587706e-03j\n",
       "   6.12436664e-03-4.21713441e-03j  2.64025886e-02-1.89141406e-06j\n",
       "   2.90990170e-03+4.31877741e-03j  3.60894756e-03-1.35453421e-02j\n",
       "   8.73141138e-03-3.22650528e-03j  4.27832035e-03+6.04301051e-04j\n",
       "  -1.37468232e-02-4.98988671e-03j -9.72073868e-03+2.71367569e-03j\n",
       "  -5.09155545e-03-4.21158298e-03j -2.33911090e-03-4.57123649e-03j\n",
       "  -8.57283771e-03-4.19321579e-04j -4.46270374e-05+3.70347041e-03j\n",
       "  -3.62877983e-03-1.61877962e-03j -2.87651285e-03-1.51485570e-03j]\n",
       " [-1.48346542e-02-9.23946509e-04j  1.56660513e-02+8.77619522e-03j\n",
       "  -6.96086037e-03-3.71743939e-03j  2.90938265e-03-4.31496424e-03j\n",
       "   5.24601395e-02-9.56448882e-07j -1.37782433e-03-8.42837795e-03j\n",
       "   5.16435914e-04+3.48709347e-03j  3.28425273e-03-6.08026274e-03j\n",
       "  -1.71383783e-02+2.39271870e-02j  9.12769145e-03+8.67003819e-04j\n",
       "   2.96640929e-03+1.00727039e-02j -3.00101963e-03+3.88060585e-03j\n",
       "   1.36762939e-02+1.07725896e-02j  4.11968707e-03+1.12910221e-02j\n",
       "  -6.14039283e-03+1.30908919e-04j  2.40238468e-03+6.40384418e-03j]\n",
       " [ 6.72501403e-03-2.16147683e-02j -5.55588534e-03-4.46038430e-03j\n",
       "   8.99522009e-03+5.22202742e-03j  3.61413278e-03+1.35421743e-02j\n",
       "  -1.37858438e-03+8.42556974e-03j  7.49873063e-02-5.30815239e-07j\n",
       "   3.44454561e-03+4.46154207e-03j  2.53827014e-04+5.36436233e-03j\n",
       "   4.85414197e-04-1.85106348e-02j -7.42838901e-03-1.20852399e-02j\n",
       "  -4.24149882e-03-1.88921755e-03j -3.62420864e-04-2.99544835e-04j\n",
       "  -1.87809841e-02-1.00488678e-02j -1.19949776e-02-9.72869503e-03j\n",
       "   3.54448912e-03-6.27148744e-03j -3.25389974e-03-5.76403545e-04j]\n",
       " [-1.21351162e-02-9.07201255e-03j -8.99261625e-04+1.70780510e-03j\n",
       "   6.14464234e-03+2.52538182e-03j  8.73831107e-03+3.22579826e-03j\n",
       "   5.14294589e-04-3.49385805e-03j  3.44085979e-03-4.46213466e-03j\n",
       "   4.28769442e-02+3.50488989e-06j  2.49885355e-03-3.43129321e-03j\n",
       "   7.88971426e-04+4.14942665e-03j -7.10648759e-03-5.05293128e-03j\n",
       "  -7.69442168e-03-6.27927349e-03j -3.65561759e-03+6.11514252e-03j\n",
       "  -6.12236039e-03+7.19360884e-03j -1.74216144e-03-5.72819854e-03j\n",
       "   8.69257877e-03-1.96974544e-02j  1.58636266e-03-2.62472192e-03j]\n",
       " [ 2.00465637e-03-1.18891021e-02j  4.47222382e-04-4.48331933e-03j\n",
       "   5.56007387e-04-3.30243317e-03j  4.28170944e-03-6.01090870e-04j\n",
       "   3.27550951e-03+6.08176944e-03j  2.51654794e-04-5.36767615e-03j\n",
       "   2.50650205e-03+3.42802773e-03j  2.29312509e-02-6.63325842e-08j\n",
       "  -1.30609047e-02+3.02580651e-03j  4.47564268e-03+2.84773913e-03j\n",
       "  -4.70037539e-03-1.03646649e-03j -1.94592385e-04+1.51991210e-03j\n",
       "  -1.37106629e-02+1.23672906e-02j -2.87016469e-03+8.66934191e-03j\n",
       "   1.74603010e-04+5.08703588e-03j  1.06665119e-03-3.24660017e-03j]\n",
       " [ 6.65084177e-03+2.70082097e-02j -1.17363126e-02+1.00318678e-02j\n",
       "  -2.78439091e-03+1.04415306e-02j -1.37448977e-02+4.98847144e-03j\n",
       "  -1.71391596e-02-2.39276483e-02j  4.84454078e-04+1.85035665e-02j\n",
       "   7.87847385e-04-4.14967405e-03j -1.30603788e-02-3.02558724e-03j\n",
       "   1.36757960e-01+6.96116626e-08j -2.10092039e-02-8.76553882e-03j\n",
       "   1.11361418e-02-1.10868676e-02j -5.85407353e-03+6.66255173e-03j\n",
       "   7.01785986e-03-7.75621948e-02j  4.50663104e-04-4.21171390e-02j\n",
       "   1.26961442e-02-1.38210932e-02j -2.52222853e-03+9.97536528e-03j]\n",
       " [ 3.68639119e-03+7.99551733e-04j  2.06777420e-02+9.27808641e-04j\n",
       "  -5.97846580e-03+5.35136958e-03j -9.72209133e-03-2.71671623e-03j\n",
       "   9.13386391e-03-8.72659899e-04j -7.42650002e-03+1.20819455e-02j\n",
       "  -7.11086121e-03+5.05467325e-03j  4.47829919e-03-2.84965060e-03j\n",
       "  -2.10059597e-02+8.76494454e-03j  5.77216463e-02-1.14459975e-06j\n",
       "   7.69270975e-04+7.46100128e-03j  5.13128092e-03+1.89260791e-03j\n",
       "  -9.32541429e-03+1.77698942e-02j -7.60382105e-04+2.26485662e-02j\n",
       "  -3.12230162e-03+1.11383894e-02j  4.65516572e-03+5.55033590e-04j]\n",
       " [ 1.09686504e-02-1.44730286e-03j  9.31744331e-04-9.44238048e-03j\n",
       "  -5.44644952e-03+9.62582079e-03j -5.08719991e-03+4.21192908e-03j\n",
       "   2.97196987e-03-1.00806958e-02j -4.22768582e-03+1.89405790e-03j\n",
       "  -7.70024599e-03+6.27293702e-03j -4.69752925e-03+1.03514775e-03j\n",
       "   1.11305539e-02+1.10916463e-02j  7.67932447e-04-7.45211947e-03j\n",
       "   3.42827398e-02-3.55619577e-07j  2.00300979e-03-1.77636189e-03j\n",
       "   1.76416634e-02-1.09690767e-02j  1.03070491e-02+5.38443494e-04j\n",
       "  -6.50657913e-04+4.96318314e-03j  1.19880810e-03-1.29530299e-03j]\n",
       " [ 2.05106075e-03-5.69374993e-03j  5.83156259e-03-4.57892349e-03j\n",
       "  -7.10262017e-04+3.11267942e-03j -2.33863311e-03+4.56953232e-03j\n",
       "  -3.00260281e-03-3.88084707e-03j -3.62284480e-04+2.93116982e-04j\n",
       "  -3.65986746e-03-6.11776836e-03j -1.93088832e-04-1.52014272e-03j\n",
       "  -5.85624345e-03-6.66140542e-03j  5.12985993e-03-1.89300632e-03j\n",
       "   2.00284676e-03+1.77670382e-03j  2.45165786e-02+8.75595990e-07j\n",
       "  -2.08330768e-03-6.49638543e-03j -2.14214390e-03-3.64591648e-06j\n",
       "   1.64805695e-03+2.15951486e-03j  3.55360494e-04-7.15058562e-04j]\n",
       " [-2.16416568e-02+9.85069937e-03j -1.94494202e-02-7.84619411e-03j\n",
       "   7.05509235e-03+4.42883770e-03j -8.56796587e-03+4.14956038e-04j\n",
       "   1.36746172e-02-1.07729984e-02j -1.87736225e-02+1.00409976e-02j\n",
       "  -6.12072663e-03-7.19281597e-03j -1.37104941e-02-1.23686335e-02j\n",
       "   7.01601913e-03+7.75615106e-02j -9.32579049e-03-1.77696293e-02j\n",
       "   1.76461507e-02+1.09754879e-02j -2.07985209e-03+6.49644588e-03j\n",
       "   1.95637880e-01-6.30750415e-07j  4.18155053e-02-2.06185186e-02j\n",
       "   1.41518977e-02-3.41765617e-04j -1.24939224e-02-1.06099260e-02j]\n",
       " [-1.12201620e-02-2.90102846e-03j -4.39064685e-03-1.72135810e-02j\n",
       "  -1.81660148e-03+5.73914922e-03j -3.95434653e-05-3.69932626e-03j\n",
       "   4.11974354e-03-1.12933284e-02j -1.19909402e-02+9.72590630e-03j\n",
       "  -1.74213849e-03+5.72747629e-03j -2.87112185e-03-8.66638398e-03j\n",
       "   4.51989912e-04+4.21193915e-02j -7.60893596e-04-2.26499125e-02j\n",
       "   1.03054692e-02-5.34251148e-04j -2.14007666e-03+7.64800881e-06j\n",
       "   4.18131677e-02+2.06173934e-02j  5.64658026e-02-1.99397503e-06j\n",
       "   2.53650329e-03+1.30686687e-02j  4.34994540e-03-2.25227799e-03j]\n",
       " [-1.38000077e-03-1.03069643e-02j -9.58393360e-03-6.55467451e-03j\n",
       "  -2.85135551e-03+1.41477102e-02j -3.62702551e-03+1.61281845e-03j\n",
       "  -6.13899346e-03-1.35753543e-04j  3.54605198e-03+6.26854731e-03j\n",
       "   8.68738764e-03+1.97002893e-02j  1.72855588e-04-5.09027051e-03j\n",
       "   1.26970324e-02+1.38263383e-02j -3.12174601e-03-1.11416185e-02j\n",
       "  -6.43677925e-04-4.95928309e-03j  1.64908179e-03-2.16228209e-03j\n",
       "   1.41566486e-02+3.41826878e-04j  2.54031887e-03-1.30649495e-02j\n",
       "   5.62754563e-02+2.98029348e-06j -2.08841673e-03-9.18791135e-03j]\n",
       " [ 4.90626191e-03-3.29348879e-03j  7.58151565e-04+2.27048065e-03j\n",
       "  -1.90869894e-03+4.92479304e-04j -2.87791024e-03+1.51410428e-03j\n",
       "   2.40572710e-03-6.39877273e-03j -3.25433247e-03+5.77437010e-04j\n",
       "   1.58317596e-03+2.62678711e-03j  1.06638620e-03+3.24857358e-03j\n",
       "  -2.52050099e-03-9.97319110e-03j  4.65587229e-03-5.54869111e-04j\n",
       "   1.19682891e-03+1.29375578e-03j  3.54896474e-04+7.14010984e-04j\n",
       "  -1.24958833e-02+1.06109705e-02j  4.34707027e-03+2.24799726e-03j\n",
       "  -2.08715983e-03+9.19081865e-03j  2.09007422e-02+1.36538556e-07j]]"
      ]
     },
     "execution_count": 6,
     "metadata": {},
     "output_type": "execute_result"
    }
   ],
   "source": [
    "res_list = []\n",
    "\n",
    "for i in range(21):\n",
    "    res_list.append(qload('it_{}'.format(i+1)))\n",
    "    \n",
    "res_list[0].states[-1]"
   ]
  },
  {
   "cell_type": "code",
   "execution_count": 34,
   "metadata": {},
   "outputs": [],
   "source": [
    "res00_list = []\n",
    "res01_list = []\n",
    "res10_list = []\n",
    "res11_list = []\n",
    "\n",
    "for i in range(21):\n",
    "    res00_list.append(expect(ptrace(res_list[i].states[-1], [2,3]), tensor(basis(2,0),basis(2,0))))\n",
    "    res01_list.append(expect(ptrace(res_list[i].states[-1], [2,3]), tensor(basis(2,0),basis(2,1))))\n",
    "    res10_list.append(expect(ptrace(res_list[i].states[-1], [2,3]), tensor(basis(2,1),basis(2,0))))\n",
    "    res11_list.append(expect(ptrace(res_list[i].states[-1], [2,3]), tensor(basis(2,1),basis(2,1))))"
   ]
  },
  {
   "cell_type": "code",
   "execution_count": 35,
   "metadata": {},
   "outputs": [
    {
     "data": {
      "text/plain": [
       "[<matplotlib.lines.Line2D at 0x7fca93553710>]"
      ]
     },
     "execution_count": 35,
     "metadata": {},
     "output_type": "execute_result"
    },
    {
     "data": {
      "image/png": "[encoded data removed]",
      "text/plain": [
       "<Figure size 432x288 with 1 Axes>"
      ]
     },
     "metadata": {},
     "output_type": "display_data"
    }
   ],
   "source": [
    "plt.plot(np.abs(res00_list))"
   ]
  },
  {
   "cell_type": "code",
   "execution_count": 36,
   "metadata": {},
   "outputs": [
    {
     "data": {
      "text/plain": [
       "[<matplotlib.lines.Line2D at 0x7fca8ed64d68>]"
      ]
     },
     "execution_count": 36,
     "metadata": {},
     "output_type": "execute_result"
    },
    {
     "data": {
      "image/png": "[encoded data removed]",
      "text/plain": [
       "<Figure size 432x288 with 1 Axes>"
      ]
     },
     "metadata": {},
     "output_type": "display_data"
    }
   ],
   "source": [
    "plt.plot(np.abs(res01_list))"
   ]
  },
  {
   "cell_type": "code",
   "execution_count": 37,
   "metadata": {},
   "outputs": [
    {
     "data": {
      "text/plain": [
       "[<matplotlib.lines.Line2D at 0x7fca8ecc2e80>]"
      ]
     },
     "execution_count": 37,
     "metadata": {},
     "output_type": "execute_result"
    },
    {
     "data": {
      "image/png": "[encoded data removed]",
      "text/plain": [
       "<Figure size 432x288 with 1 Axes>"
      ]
     },
     "metadata": {},
     "output_type": "display_data"
    }
   ],
   "source": [
    "plt.plot(np.abs(res10_list))"
   ]
  },
  {
   "cell_type": "code",
   "execution_count": 38,
   "metadata": {},
   "outputs": [
    {
     "data": {
      "text/plain": [
       "[<matplotlib.lines.Line2D at 0x7fca8ecabac8>]"
      ]
     },
     "execution_count": 38,
     "metadata": {},
     "output_type": "execute_result"
    },
    {
     "data": {
      "image/png": "[encoded data removed]",
      "text/plain": [
       "<Figure size 432x288 with 1 Axes>"
      ]
     },
     "metadata": {},
     "output_type": "display_data"
    }
   ],
   "source": [
    "plt.plot(np.abs(res11_list))"
   ]
  },
  {
   "cell_type": "code",
   "execution_count": 41,
   "metadata": {},
   "outputs": [
    {
     "data": {
      "text/plain": [
       "[(0.3157528113933971-2.477669644455191e-07j),\n",
       " (0.2680652437630535-7.971847291539887e-08j),\n",
       " (0.22740839922012196+3.535827815839702e-07j),\n",
       " (0.1887735456523386-2.6097344195019704e-08j)]"
      ]
     },
     "execution_count": 41,
     "metadata": {},
     "output_type": "execute_result"
    }
   ],
   "source": [
    "[np.mean(res00_list),np.mean(res01_list),np.mean(res10_list),np.mean(res11_list)]"
   ]
  },
  {
   "cell_type": "code",
   "execution_count": 42,
   "metadata": {},
   "outputs": [
    {
     "data": {
      "text/plain": [
       "(1.000000000028911+2.8032502449821866e-17j)"
      ]
     },
     "execution_count": 42,
     "metadata": {},
     "output_type": "execute_result"
    }
   ],
   "source": [
    "np.mean(res00_list)+np.mean(res01_list)+np.mean(res10_list)+np.mean(res11_list)"
   ]
  },
  {
   "cell_type": "code",
   "execution_count": null,
   "metadata": {},
   "outputs": [],
   "source": []
  }
 ],
 "metadata": {
  "kernelspec": {
   "display_name": "Python 3",
   "language": "python",
   "name": "python3"
  },
  "language_info": {
   "codemirror_mode": {
    "name": "ipython",
    "version": 3
   },
   "file_extension": ".py",
   "mimetype": "text/x-python",
   "name": "python",
   "nbconvert_exporter": "python",
   "pygments_lexer": "ipython3",
   "version": "3.6.5"
  }
 },
 "nbformat": 4,
 "nbformat_minor": 2
}
