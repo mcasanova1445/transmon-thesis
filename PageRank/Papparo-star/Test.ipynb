{
 "cells": [
  {
   "cell_type": "code",
   "execution_count": 1,
   "metadata": {},
   "outputs": [],
   "source": [
    "import matplotlib.pyplot as plt\n",
    "import matplotlib as mpl\n",
    "import numpy as np\n",
    "from scipy.stats import norm\n",
    "from qutip import *\n",
    "import tgates\n",
    "import time"
   ]
  },
  {
   "cell_type": "code",
   "execution_count": 2,
   "metadata": {},
   "outputs": [],
   "source": [
    "def Kb2(psi0):\n",
    "    thetay00 = -2.212560440971914 * 2\n",
    "    thetay10 = -1.9002206072069958 * 2\n",
    "    thetay11 = -0.75 * np.pi * 2\n",
    "\n",
    "    res = tgates.X(psi0, 0)\n",
    "    res = tgates.X(res.states[-1], 1)\n",
    "\n",
    "    res = tgates.CCNOT(res.states[-1], 0, 1, 3)\n",
    "    res = tgates.CCCRy(res.states[-1], 0, 1, 3, 2, thetay00)\n",
    "    res = tgates.CCNOT(res.states[-1], 0, 1, 3)\n",
    "\n",
    "    res = tgates.CCNOT(res.states[-1], 0, 1, 2)\n",
    "    res = tgates.CCCRy(res.states[-1], 0, 1, 2, 3, thetay10)\n",
    "    res = tgates.CCNOT(res.states[-1], 0, 1, 2)\n",
    "\n",
    "    res = tgates.CCCRy(res.states[-1], 0, 1, 2, 3, thetay11)\n",
    "\n",
    "    res = tgates.X(res.states[-1], 1)\n",
    "    return tgates.X(res.states[-1], 0)\n",
    "\n",
    "def Kb2d(psi0):\n",
    "    thetay00 = 2.212560440971914 * 2\n",
    "    thetay10 = 1.9002206072069958 * 2\n",
    "    thetay11 = 0.75 * np.pi * 2\n",
    "\n",
    "    res = tgates.X(psi0, 0)\n",
    "    res = tgates.X(res.states[-1], 1)\n",
    "\n",
    "    res = tgates.CCCRy(res.states[-1], 0, 1, 2, 3, thetay11)\n",
    "\n",
    "    res = tgates.CCNOT(res.states[-1], 0, 1, 2)\n",
    "    res = tgates.CCCRy(res.states[-1], 0, 1, 2, 3, thetay10)\n",
    "    res = tgates.CCNOT(res.states[-1], 0, 1, 2)\n",
    "\n",
    "    res = tgates.CCNOT(res.states[-1], 0, 1, 3)\n",
    "    res = tgates.CCCRy(res.states[-1], 0, 1, 3, 2, thetay00)\n",
    "    res = tgates.CCNOT(res.states[-1], 0, 1, 3)\n",
    "\n",
    "    res = tgates.X(res.states[-1], 1)\n",
    "    return tgates.X(res.states[-1], 0)\n",
    "\n",
    "def Kb1(psi0):\n",
    "    res = tgates.H(psi0, 2)\n",
    "    res = tgates.H(res.states[-1], 3)\n",
    "\n",
    "    res = tgates.X(res.states[-1], 0)\n",
    "    res = tgates.X(res.states[-1], 1)\n",
    "    res = tgates.CCRy(res.states[-1], 0, 1, 2, np.pi/2)\n",
    "    res = tgates.CCNOT(res.states[-1], 0, 1, 2)\n",
    "    res = tgates.CCRy(res.states[-1], 0, 1, 3, np.pi/2)\n",
    "    res = tgates.CCNOT(res.states[-1], 0, 1, 3)\n",
    "    res = tgates.X(res.states[-1], 1)\n",
    "    return tgates.X(res.states[-1], 0)\n",
    "\n",
    "def Kb1d(psi0):\n",
    "\n",
    "    res = tgates.X(psi0, 0)\n",
    "    res = tgates.X(res.states[-1], 1)\n",
    "    res = tgates.CCNOT(res.states[-1], 0, 1, 3)\n",
    "    res = tgates.CCRy(res.states[-1], 0, 1, 3, np.pi/2)\n",
    "    res = tgates.CCNOT(res.states[-1], 0, 1, 2)\n",
    "    res = tgates.CCRy(res.states[-1], 0, 1, 2, np.pi/2)\n",
    "    res = tgates.X(res.states[-1], 1)\n",
    "    res = tgates.X(res.states[-1], 0)\n",
    "\n",
    "    res = tgates.H(res.states[-1], 2)\n",
    "    return tgates.H(res.states[-1], 3)\n"
   ]
  },
  {
   "cell_type": "code",
   "execution_count": 3,
   "metadata": {},
   "outputs": [],
   "source": [
    "psi0 = tensor(basis(2,0), basis(2,0), basis(2,0), basis(2,0))"
   ]
  },
  {
   "cell_type": "code",
   "execution_count": 4,
   "metadata": {},
   "outputs": [
    {
     "data": {
      "text/latex": [
       "Quantum object: dims = [[2, 2, 2, 2], [1, 1, 1, 1]], shape = (16, 1), type = ket\\begin{equation*}\\left(\\begin{array}{*{11}c}(-0.715-0.699j)\\\\(-0.003+0.006j)\\\\(-6.172\\times10^{-04}-0.001j)\\\\(3.673\\times10^{-04}+8.952\\times10^{-04}j)\\\\(1.743\\times10^{-04}-3.511\\times10^{-04}j)\\\\\\vdots\\\\(-4.437\\times10^{-06}-3.989\\times10^{-06}j)\\\\(4.343\\times10^{-07}+1.018\\times10^{-05}j)\\\\(-4.785\\times10^{-07}+2.276\\times10^{-06}j)\\\\(-2.986\\times10^{-06}-1.302\\times10^{-06}j)\\\\(-2.054\\times10^{-06}-2.353\\times10^{-06}j)\\\\\\end{array}\\right)\\end{equation*}"
      ],
      "text/plain": [
       "Quantum object: dims = [[2, 2, 2, 2], [1, 1, 1, 1]], shape = (16, 1), type = ket\n",
       "Qobj data =\n",
       "[[-7.15269552e-01-6.98814327e-01j]\n",
       " [-2.87612527e-03+6.08745381e-03j]\n",
       " [-6.17222276e-04-1.02797400e-03j]\n",
       " [ 3.67296502e-04+8.95232100e-04j]\n",
       " [ 1.74311500e-04-3.51137224e-04j]\n",
       " [-4.17179361e-05-1.33669054e-04j]\n",
       " [ 1.14312964e-04-2.67701709e-05j]\n",
       " [ 8.29326010e-05-1.17087251e-04j]\n",
       " [ 2.33176265e-04+1.39426542e-04j]\n",
       " [ 9.30789537e-05+1.02469251e-04j]\n",
       " [-6.16411085e-06-4.34024252e-06j]\n",
       " [-4.43682345e-06-3.98945232e-06j]\n",
       " [ 4.34255240e-07+1.01794059e-05j]\n",
       " [-4.78545192e-07+2.27628372e-06j]\n",
       " [-2.98572820e-06-1.30164254e-06j]\n",
       " [-2.05353453e-06-2.35299806e-06j]]"
      ]
     },
     "execution_count": 4,
     "metadata": {},
     "output_type": "execute_result"
    }
   ],
   "source": [
    "res = Kb1(psi0)\n",
    "res.states[-1]"
   ]
  },
  {
   "cell_type": "code",
   "execution_count": 5,
   "metadata": {},
   "outputs": [
    {
     "data": {
      "text/latex": [
       "Quantum object: dims = [[2, 2, 2, 2], [1, 1, 1, 1]], shape = (16, 1), type = ket\\begin{equation*}\\left(\\begin{array}{*{11}c}(-0.009-0.192j)\\\\(-0.017-0.565j)\\\\(-0.022-0.566j)\\\\(-0.024-0.568j)\\\\(-2.148\\times10^{-04}-2.897\\times10^{-04}j)\\\\\\vdots\\\\(-1.070\\times10^{-05}+5.320\\times10^{-05}j)\\\\(-1.448\\times10^{-05}+2.141\\times10^{-05}j)\\\\(-2.150\\times10^{-06}+3.659\\times10^{-06}j)\\\\(3.702\\times10^{-06}+1.067\\times10^{-05}j)\\\\(3.416\\times10^{-06}-1.291\\times10^{-05}j)\\\\\\end{array}\\right)\\end{equation*}"
      ],
      "text/plain": [
       "Quantum object: dims = [[2, 2, 2, 2], [1, 1, 1, 1]], shape = (16, 1), type = ket\n",
       "Qobj data =\n",
       "[[-9.14427675e-03-1.91705574e-01j]\n",
       " [-1.73494780e-02-5.65009872e-01j]\n",
       " [-2.24607332e-02-5.65999731e-01j]\n",
       " [-2.38582027e-02-5.67623086e-01j]\n",
       " [-2.14795619e-04-2.89718601e-04j]\n",
       " [ 5.40927884e-04-6.78925281e-04j]\n",
       " [ 8.44941922e-05-5.10035174e-04j]\n",
       " [ 3.86845758e-04-2.78405621e-04j]\n",
       " [-3.44459808e-05-2.85651616e-05j]\n",
       " [-4.35686743e-05+1.00403009e-03j]\n",
       " [-2.81926370e-04+5.99760283e-04j]\n",
       " [-1.06971793e-05+5.31957024e-05j]\n",
       " [-1.44820265e-05+2.14127257e-05j]\n",
       " [-2.15042374e-06+3.65863603e-06j]\n",
       " [ 3.70247657e-06+1.06718510e-05j]\n",
       " [ 3.41611989e-06-1.29137977e-05j]]"
      ]
     },
     "execution_count": 5,
     "metadata": {},
     "output_type": "execute_result"
    }
   ],
   "source": [
    "res = Kb2(res.states[-1])\n",
    "res.states[-1]"
   ]
  },
  {
   "cell_type": "code",
   "execution_count": 8,
   "metadata": {},
   "outputs": [
    {
     "name": "stdout",
     "output_type": "stream",
     "text": [
      "[[-0.00914428-0.19170557j]]\n",
      "[[-0.01734948-0.56500987j]]\n",
      "[[-0.02246073-0.56599973j]]\n",
      "[[-0.0238582-0.56762309j]]\n",
      "[[-0.0002148-0.00028972j]]\n",
      "[[0.00054093-0.00067893j]]\n",
      "[[8.44941922e-05-0.00051004j]]\n",
      "[[0.00038685-0.00027841j]]\n",
      "[[-3.44459808e-05-2.85651616e-05j]]\n",
      "[[-4.35686743e-05+0.00100403j]]\n",
      "[[-0.00028193+0.00059976j]]\n",
      "[[-1.06971793e-05+5.31957024e-05j]]\n",
      "[[-1.44820265e-05+2.14127257e-05j]]\n",
      "[[-2.15042374e-06+3.65863603e-06j]]\n",
      "[[3.70247657e-06+1.0671851e-05j]]\n",
      "[[3.41611989e-06-1.29137977e-05j]]\n"
     ]
    }
   ],
   "source": [
    "for i in range(16):\n",
    "    print(res.states[-1][i])"
   ]
  },
  {
   "cell_type": "code",
   "execution_count": null,
   "metadata": {},
   "outputs": [],
   "source": []
  }
 ],
 "metadata": {
  "kernelspec": {
   "display_name": "Python 3",
   "language": "python",
   "name": "python3"
  },
  "language_info": {
   "codemirror_mode": {
    "name": "ipython",
    "version": 3
   },
   "file_extension": ".py",
   "mimetype": "text/x-python",
   "name": "python",
   "nbconvert_exporter": "python",
   "pygments_lexer": "ipython3",
   "version": "3.7.0"
  }
 },
 "nbformat": 4,
 "nbformat_minor": 2
}
