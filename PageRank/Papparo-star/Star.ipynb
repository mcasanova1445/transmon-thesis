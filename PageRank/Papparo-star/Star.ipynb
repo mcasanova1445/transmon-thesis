{
 "cells": [
  {
   "cell_type": "code",
   "execution_count": 1,
   "metadata": {},
   "outputs": [],
   "source": [
    "%matplotlib inline\n",
    "import matplotlib.pyplot as plt\n",
    "import numpy as np\n",
    "from qutip import *"
   ]
  },
  {
   "cell_type": "code",
   "execution_count": 7,
   "metadata": {},
   "outputs": [
    {
     "name": "stdout",
     "output_type": "stream",
     "text": [
      "Loaded Result object:\n",
      "Result object with mesolve data.\n",
      "--------------------------------\n",
      "states = True\n",
      "num_collapse = 0\n",
      "Loaded Result object:\n",
      "Result object with mesolve data.\n",
      "--------------------------------\n",
      "states = True\n",
      "num_collapse = 0\n",
      "Loaded Result object:\n",
      "Result object with mesolve data.\n",
      "--------------------------------\n",
      "states = True\n",
      "num_collapse = 0\n",
      "Loaded Result object:\n",
      "Result object with mesolve data.\n",
      "--------------------------------\n",
      "states = True\n",
      "num_collapse = 0\n",
      "Loaded Result object:\n",
      "Result object with mesolve data.\n",
      "--------------------------------\n",
      "states = True\n",
      "num_collapse = 0\n"
     ]
    },
    {
     "data": {
      "text/latex": [
       "Quantum object: dims = [[2, 2, 2, 2], [2, 2, 2, 2]], shape = (16, 16), type = oper, isherm = True\\begin{equation*}\\left(\\begin{array}{*{11}c}0.016 & (7.060\\times10^{-04}-8.184\\times10^{-05}j) & (5.529\\times10^{-05}-2.603\\times10^{-05}j) & (-2.189\\times10^{-04}+9.706\\times10^{-05}j) & (4.903\\times10^{-04}+1.497\\times10^{-04}j) & \\cdots & (3.449\\times10^{-04}+1.081\\times10^{-04}j) & (3.847\\times10^{-05}-4.103\\times10^{-05}j) & (1.082\\times10^{-05}+1.025\\times10^{-05}j) & (3.230\\times10^{-05}+3.662\\times10^{-06}j) & (-1.183\\times10^{-04}-1.272\\times10^{-04}j)\\\\(7.060\\times10^{-04}+8.184\\times10^{-05}j) & 0.035 & (-2.269\\times10^{-04}-7.305\\times10^{-05}j) & (5.572\\times10^{-04}+3.015\\times10^{-04}j) & (1.473\\times10^{-05}+6.730\\times10^{-05}j) & \\cdots & (2.073\\times10^{-04}+6.919\\times10^{-05}j) & (3.476\\times10^{-06}+1.240\\times10^{-07}j) & (3.391\\times10^{-04}+1.924\\times10^{-04}j) & (-1.918\\times10^{-05}-9.285\\times10^{-06}j) & (3.917\\times10^{-05}-2.608\\times10^{-06}j)\\\\(5.529\\times10^{-05}+2.603\\times10^{-05}j) & (-2.269\\times10^{-04}+7.305\\times10^{-05}j) & 0.065 & (0.014-6.747\\times10^{-04}j) & (1.184\\times10^{-05}+9.999\\times10^{-06}j) & \\cdots & (9.283\\times10^{-04}-5.950\\times10^{-04}j) & (6.015\\times10^{-06}-1.311\\times10^{-06}j) & (5.102\\times10^{-06}+7.084\\times10^{-06}j) & (6.487\\times10^{-04}+3.464\\times10^{-04}j) & (7.794\\times10^{-05}+1.230\\times10^{-05}j)\\\\(-2.189\\times10^{-04}-9.706\\times10^{-05}j) & (5.572\\times10^{-04}-3.015\\times10^{-04}j) & (0.014+6.747\\times10^{-04}j) & 0.240 & (3.740\\times10^{-04}-1.930\\times10^{-04}j) & \\cdots & (0.023+0.001j) & (-3.135\\times10^{-04}+1.713\\times10^{-04}j) & (1.322\\times10^{-04}-3.085\\times10^{-04}j) & (9.675\\times10^{-05}+1.553\\times10^{-04}j) & (0.003+0.002j)\\\\(4.903\\times10^{-04}-1.497\\times10^{-04}j) & (1.473\\times10^{-05}-6.730\\times10^{-05}j) & (1.184\\times10^{-05}-9.999\\times10^{-06}j) & (3.740\\times10^{-04}+1.930\\times10^{-04}j) & 0.010 & \\cdots & (8.685\\times10^{-05}-2.290\\times10^{-05}j) & (6.818\\times10^{-04}+4.904\\times10^{-06}j) & (4.177\\times10^{-06}-2.104\\times10^{-05}j) & (3.185\\times10^{-05}+2.334\\times10^{-05}j) & (-2.197\\times10^{-04}-1.640\\times10^{-04}j)\\\\\\vdots & \\vdots & \\vdots & \\vdots & \\vdots & \\ddots & \\vdots & \\vdots & \\vdots & \\vdots & \\vdots\\\\(3.449\\times10^{-04}-1.081\\times10^{-04}j) & (2.073\\times10^{-04}-6.919\\times10^{-05}j) & (9.283\\times10^{-04}+5.950\\times10^{-04}j) & (0.023-0.001j) & (8.685\\times10^{-05}+2.290\\times10^{-05}j) & \\cdots & 0.147 & (-3.758\\times10^{-06}-2.239\\times10^{-04}j) & (-1.282\\times10^{-05}-1.034\\times10^{-04}j) & (0.001+5.452\\times10^{-04}j) & (0.024+0.003j)\\\\(3.847\\times10^{-05}+4.103\\times10^{-05}j) & (3.476\\times10^{-06}-1.240\\times10^{-07}j) & (6.015\\times10^{-06}+1.311\\times10^{-06}j) & (-3.135\\times10^{-04}-1.713\\times10^{-04}j) & (6.818\\times10^{-04}-4.904\\times10^{-06}j) & \\cdots & (-3.758\\times10^{-06}+2.239\\times10^{-04}j) & 0.007 & (2.397\\times10^{-04}-4.406\\times10^{-05}j) & (-2.596\\times10^{-05}+2.037\\times10^{-05}j) & (-1.943\\times10^{-04}+8.121\\times10^{-05}j)\\\\(1.082\\times10^{-05}-1.025\\times10^{-05}j) & (3.391\\times10^{-04}-1.924\\times10^{-04}j) & (5.102\\times10^{-06}-7.084\\times10^{-06}j) & (1.322\\times10^{-04}+3.085\\times10^{-04}j) & (4.177\\times10^{-06}+2.104\\times10^{-05}j) & \\cdots & (-1.282\\times10^{-05}+1.034\\times10^{-04}j) & (2.397\\times10^{-04}+4.406\\times10^{-05}j) & 0.017 & (-1.250\\times10^{-04}-4.487\\times10^{-06}j) & (1.687\\times10^{-04}+1.760\\times10^{-04}j)\\\\(3.230\\times10^{-05}-3.662\\times10^{-06}j) & (-1.918\\times10^{-05}+9.285\\times10^{-06}j) & (6.487\\times10^{-04}-3.464\\times10^{-04}j) & (9.675\\times10^{-05}-1.553\\times10^{-04}j) & (3.185\\times10^{-05}-2.334\\times10^{-05}j) & \\cdots & (0.001-5.452\\times10^{-04}j) & (-2.596\\times10^{-05}-2.037\\times10^{-05}j) & (-1.250\\times10^{-04}+4.487\\times10^{-06}j) & 0.032 & (0.006-6.351\\times10^{-04}j)\\\\(-1.183\\times10^{-04}+1.272\\times10^{-04}j) & (3.917\\times10^{-05}+2.608\\times10^{-06}j) & (7.794\\times10^{-05}-1.230\\times10^{-05}j) & (0.003-0.002j) & (-2.197\\times10^{-04}+1.640\\times10^{-04}j) & \\cdots & (0.024-0.003j) & (-1.943\\times10^{-04}-8.121\\times10^{-05}j) & (1.687\\times10^{-04}-1.760\\times10^{-04}j) & (0.006+6.351\\times10^{-04}j) & 0.118\\\\\\end{array}\\right)\\end{equation*}"
      ],
      "text/plain": [
       "Quantum object: dims = [[2, 2, 2, 2], [2, 2, 2, 2]], shape = (16, 16), type = oper, isherm = True\n",
       "Qobj data =\n",
       "[[ 1.55358775e-02+3.01882236e-14j  7.05997290e-04-8.18400402e-05j\n",
       "   5.52948497e-05-2.60260438e-05j -2.18876821e-04+9.70629266e-05j\n",
       "   4.90323100e-04+1.49733095e-04j  9.66257690e-05-2.00771767e-05j\n",
       "  -1.68314546e-05+1.54155987e-05j -3.12598700e-05+5.09677001e-05j\n",
       "   7.16251123e-04+2.54273625e-05j  5.71015779e-05-3.35125543e-05j\n",
       "   5.13572411e-05-1.73130958e-06j  3.44881180e-04+1.08054866e-04j\n",
       "   3.84717271e-05-4.10268882e-05j  1.08238916e-05+1.02476086e-05j\n",
       "   3.22953466e-05+3.66159344e-06j -1.18279018e-04-1.27243646e-04j]\n",
       " [ 7.05997290e-04+8.18400401e-05j  3.52533668e-02-1.17348505e-14j\n",
       "  -2.26908824e-04-7.30534920e-05j  5.57213989e-04+3.01539382e-04j\n",
       "   1.47330505e-05+6.72978417e-05j  3.29880976e-03+2.73939389e-05j\n",
       "  -4.68139286e-05+2.16944015e-05j  1.20916572e-04-1.33479853e-04j\n",
       "  -1.10816304e-06+3.93078679e-05j  2.88438436e-03+1.05624141e-04j\n",
       "   3.39104868e-06-2.33146625e-05j  2.07336488e-04+6.91884549e-05j\n",
       "   3.47648563e-06+1.23966002e-07j  3.39103074e-04+1.92363423e-04j\n",
       "  -1.91842190e-05-9.28513688e-06j  3.91703908e-05-2.60761635e-06j]\n",
       " [ 5.52948498e-05+2.60260440e-05j -2.26908824e-04+7.30534920e-05j\n",
       "   6.51394841e-02+3.52834882e-14j  1.40275163e-02-6.74671923e-04j\n",
       "   1.18354388e-05+9.99905962e-06j  3.31442497e-05+1.07012206e-05j\n",
       "   5.84446726e-03+3.34111765e-04j  1.18135405e-03-1.95423647e-04j\n",
       "   6.49535757e-06+8.57620764e-05j  5.08580847e-06+4.40195996e-05j\n",
       "   5.54206538e-03+4.43991523e-04j  9.28343551e-04-5.94984602e-04j\n",
       "   6.01537056e-06-1.31114917e-06j  5.10225904e-06+7.08374346e-06j\n",
       "   6.48713014e-04+3.46430190e-04j  7.79354848e-05+1.23034160e-05j]\n",
       " [-2.18876834e-04-9.70629288e-05j  5.57213989e-04-3.01539382e-04j\n",
       "   1.40275163e-02+6.74671923e-04j  2.40281325e-01+6.85993523e-14j\n",
       "   3.73999050e-04-1.92959798e-04j -1.25844597e-04-2.34495088e-04j\n",
       "   1.21492290e-03+7.00294699e-04j  2.51563732e-02+8.57424940e-04j\n",
       "   2.21035670e-04-2.28716118e-04j  3.36832811e-04+6.77266619e-04j\n",
       "   9.90365492e-04+7.07626231e-04j  2.28852750e-02+1.03386194e-03j\n",
       "  -3.13454336e-04+1.71269788e-04j  1.32243468e-04-3.08480001e-04j\n",
       "   9.67494823e-05+1.55320888e-04j  3.10791230e-03+1.58854075e-03j]\n",
       " [ 4.90323100e-04-1.49733095e-04j  1.47330506e-05-6.72978415e-05j\n",
       "   1.18354379e-05-9.99905915e-06j  3.73999050e-04+1.92959788e-04j\n",
       "   1.02714075e-02-2.34202446e-14j  3.96636036e-04-6.15327038e-05j\n",
       "   2.10408336e-05+4.31134465e-06j -3.84092136e-04-3.50584738e-05j\n",
       "   7.14562389e-05-2.69354038e-05j -1.40829044e-05+1.01774959e-05j\n",
       "   8.94974933e-06-1.62452146e-05j  8.68525230e-05-2.28953520e-05j\n",
       "   6.81830172e-04+4.90368970e-06j  4.17736350e-06-2.10424737e-05j\n",
       "   3.18505509e-05+2.33392244e-05j -2.19711194e-04-1.63953010e-04j]\n",
       " [ 9.66257686e-05+2.00771767e-05j  3.29880976e-03-2.73939387e-05j\n",
       "   3.31442489e-05-1.07012214e-05j -1.25844599e-04+2.34495090e-04j\n",
       "   3.96636036e-04+6.15327038e-05j  2.53646868e-02+2.43580577e-14j\n",
       "  -1.85175448e-04-2.00242185e-05j  3.94105113e-04+1.17134413e-04j\n",
       "  -2.36041081e-06+1.27885030e-05j  9.30501990e-05+1.23531193e-04j\n",
       "   4.30867298e-06-2.78361266e-06j  3.79178300e-05+3.25777567e-06j\n",
       "   1.88218847e-06+2.54762447e-05j  1.96386808e-03+1.53614291e-04j\n",
       "   1.12723909e-05+1.00689625e-06j  1.56519509e-04+5.67725658e-05j]\n",
       " [-1.68314548e-05-1.54155987e-05j -4.68139281e-05-2.16944015e-05j\n",
       "   5.84446726e-03-3.34111764e-04j  1.21492290e-03-7.00294698e-04j\n",
       "   2.10408335e-05-4.31134461e-06j -1.85175448e-04+2.00242186e-05j\n",
       "   4.52718959e-02-4.39894296e-14j  8.83985475e-03-8.23276284e-04j\n",
       "  -3.06739813e-07-2.08351089e-06j  4.07081187e-06+3.01393013e-05j\n",
       "   1.69954567e-04+9.85664816e-05j  3.21660740e-05-8.08950589e-05j\n",
       "  -3.23065318e-06+5.36998526e-05j  2.86777484e-06+3.13611444e-05j\n",
       "   3.70097963e-03+3.10004242e-04j  5.24360688e-04-4.11648950e-04j]\n",
       " [-3.12598680e-05-5.09676967e-05j  1.20916572e-04+1.33479853e-04j\n",
       "   1.18135405e-03+1.95423647e-04j  2.51563732e-02-8.57424940e-04j\n",
       "  -3.84092132e-04+3.50584757e-05j  3.94105113e-04-1.17134413e-04j\n",
       "   8.83985475e-03+8.23276284e-04j  1.70749371e-01+3.77592478e-14j\n",
       "  -1.77175964e-05+2.55447480e-05j -4.12067649e-05-1.37256231e-05j\n",
       "   3.68588115e-05+1.43356437e-05j  8.58080193e-04+1.13500408e-03j\n",
       "  -1.68727738e-04+1.21063454e-04j  2.75345782e-04+4.51320403e-04j\n",
       "   6.39064669e-04+4.88137025e-04j  1.56504676e-02+1.36354589e-03j]\n",
       " [ 7.16251123e-04-2.54273625e-05j -1.10816306e-06-3.93078679e-05j\n",
       "   6.49535747e-06-8.57620763e-05j  2.21035664e-04+2.28716109e-04j\n",
       "   7.14562388e-05+2.69354039e-05j -2.36041072e-06-1.27885031e-05j\n",
       "  -3.06739981e-07+2.08351086e-06j -1.77175941e-05-2.55447470e-05j\n",
       "   9.56582584e-03+4.51822610e-15j  4.02639000e-04-5.50466298e-05j\n",
       "  -8.47214574e-06+1.25205181e-05j  1.41638688e-04+6.61628572e-06j\n",
       "   5.67723213e-04+1.20139137e-04j  9.63925473e-05+1.20178975e-05j\n",
       "  -7.80770553e-06+7.86180338e-06j -1.81534717e-04-8.14601810e-05j]\n",
       " [ 5.71015781e-05+3.35125546e-05j  2.88438436e-03-1.05624141e-04j\n",
       "   5.08580854e-06-4.40195994e-05j  3.36832812e-04-6.77266618e-04j\n",
       "  -1.40829048e-05-1.01774959e-05j  9.30501993e-05-1.23531193e-04j\n",
       "   4.07081149e-06-3.01393006e-05j -4.12067645e-05+1.37256232e-05j\n",
       "   4.02639000e-04+5.50466298e-05j  2.15261360e-02-4.69555461e-15j\n",
       "  -1.42654616e-04-2.85759993e-05j  2.01794016e-04+2.44420389e-04j\n",
       "   2.32431975e-05+2.32567553e-05j  3.02221923e-03+2.94443649e-04j\n",
       "  -5.08174602e-05+2.90717464e-05j  9.32399389e-05-9.08734893e-05j]\n",
       " [ 5.13572405e-05+1.73130893e-06j  3.39104854e-06+2.33146624e-05j\n",
       "   5.54206538e-03-4.43991523e-04j  9.90365492e-04-7.07626231e-04j\n",
       "   8.94974959e-06+1.62452139e-05j  4.30867219e-06+2.78361201e-06j\n",
       "   1.69954567e-04-9.85664816e-05j  3.68588114e-05-1.43356437e-05j\n",
       "  -8.47214573e-06-1.25205180e-05j -1.42654616e-04+2.85759994e-05j\n",
       "   4.08687575e-02+2.18725327e-14j  8.22475648e-03-6.58911046e-04j\n",
       "   7.72226585e-06+1.14968254e-05j  1.41329239e-05+2.09765668e-05j\n",
       "   5.72384279e-03+6.42226964e-04j  1.17450428e-03+1.54223994e-04j]\n",
       " [ 3.44881190e-04-1.08054818e-04j  2.07336488e-04-6.91884564e-05j\n",
       "   9.28343551e-04+5.94984602e-04j  2.28852750e-02-1.03386194e-03j\n",
       "   8.68524987e-05+2.28953651e-05j  3.79178257e-05-3.25777472e-06j\n",
       "   3.21660738e-05+8.08950591e-05j  8.58080193e-04-1.13500408e-03j\n",
       "   1.41638694e-04-6.61628037e-06j  2.01794016e-04-2.44420389e-04j\n",
       "   8.22475648e-03+6.58911046e-04j  1.46723407e-01-4.60878568e-14j\n",
       "  -3.75765446e-06-2.23946762e-04j -1.28190033e-05-1.03372268e-04j\n",
       "   1.20545261e-03+5.45237813e-04j  2.36750932e-02+2.88506867e-03j]\n",
       " [ 3.84717268e-05+4.10268880e-05j  3.47648525e-06-1.23966129e-07j\n",
       "   6.01537094e-06+1.31114903e-06j -3.13454349e-04-1.71269789e-04j\n",
       "   6.81830172e-04-4.90368966e-06j  1.88218841e-06-2.54762446e-05j\n",
       "  -3.23065335e-06-5.36998527e-05j -1.68727739e-04-1.21063456e-04j\n",
       "   5.67723213e-04-1.20139138e-04j  2.32431973e-05-2.32567554e-05j\n",
       "   7.72226628e-06-1.14968259e-05j -3.75764821e-06+2.23946775e-04j\n",
       "   6.75976026e-03-1.10810197e-14j  2.39731579e-04-4.40572599e-05j\n",
       "  -2.59607826e-05+2.03723765e-05j -1.94306274e-04+8.12051307e-05j]\n",
       " [ 1.08238920e-05-1.02476086e-05j  3.39103074e-04-1.92363423e-04j\n",
       "   5.10226017e-06-7.08374239e-06j  1.32243471e-04+3.08480028e-04j\n",
       "   4.17736352e-06+2.10424737e-05j  1.96386808e-03-1.53614291e-04j\n",
       "   2.86777487e-06-3.13611446e-05j  2.75345783e-04-4.51320403e-04j\n",
       "   9.63925475e-05-1.20178974e-05j  3.02221924e-03-2.94443650e-04j\n",
       "   1.41329246e-05-2.09765661e-05j -1.28189985e-05+1.03372266e-04j\n",
       "   2.39731579e-04+4.40572599e-05j  1.71602038e-02-8.85524880e-15j\n",
       "  -1.25000373e-04-4.48660878e-06j  1.68702931e-04+1.76048879e-04j]\n",
       " [ 3.22953458e-05-3.66159022e-06j -1.91842185e-05+9.28513123e-06j\n",
       "   6.48713014e-04-3.46430190e-04j  9.67494824e-05-1.55320888e-04j\n",
       "   3.18505506e-05-2.33392232e-05j  1.12723923e-05-1.00689432e-06j\n",
       "   3.70097963e-03-3.10004242e-04j  6.39064669e-04-4.88137025e-04j\n",
       "  -7.80770561e-06-7.86180330e-06j -5.08174609e-05-2.90717467e-05j\n",
       "   5.72384279e-03-6.42226964e-04j  1.20545261e-03-5.45237813e-04j\n",
       "  -2.59607826e-05-2.03723762e-05j -1.25000372e-04+4.48660879e-06j\n",
       "   3.15646541e-02-1.14625841e-14j  6.02340891e-03-6.35147339e-04j]\n",
       " [-1.18279008e-04+1.27243642e-04j  3.91703904e-05+2.60761667e-06j\n",
       "   7.79354847e-05-1.23034160e-05j  3.10791230e-03-1.58854075e-03j\n",
       "  -2.19711194e-04+1.63953006e-04j  1.56519509e-04-5.67725651e-05j\n",
       "   5.24360688e-04+4.11648950e-04j  1.56504676e-02-1.36354589e-03j\n",
       "  -1.81534716e-04+8.14601802e-05j  9.32399389e-05+9.08734893e-05j\n",
       "   1.17450428e-03-1.54223994e-04j  2.36750932e-02-2.88506867e-03j\n",
       "  -1.94306273e-04-8.12051278e-05j  1.68702932e-04-1.76048879e-04j\n",
       "   6.02340891e-03+6.35147339e-04j  1.17963841e-01-6.12006261e-14j]]"
      ]
     },
     "execution_count": 7,
     "metadata": {},
     "output_type": "execute_result"
    }
   ],
   "source": [
    "res_list = []\n",
    "\n",
    "for i in range(55,60):\n",
    "    res_list.append(qload('itj_{}'.format(i+1)))\n",
    "    \n",
    "res_list[0].states[-1]"
   ]
  },
  {
   "cell_type": "code",
   "execution_count": 9,
   "metadata": {},
   "outputs": [],
   "source": [
    "res00_list = []\n",
    "res01_list = []\n",
    "res10_list = []\n",
    "res11_list = []\n",
    "\n",
    "for i in range(5):\n",
    "    if i % 2 == 1:\n",
    "        res00_list.append(expect(ptrace(res_list[i].states[-1], [2,3]), tensor(basis(2,0),basis(2,0))))\n",
    "        res01_list.append(expect(ptrace(res_list[i].states[-1], [2,3]), tensor(basis(2,0),basis(2,1))))\n",
    "        res10_list.append(expect(ptrace(res_list[i].states[-1], [2,3]), tensor(basis(2,1),basis(2,0))))\n",
    "        res11_list.append(expect(ptrace(res_list[i].states[-1], [2,3]), tensor(basis(2,1),basis(2,1))))"
   ]
  },
  {
   "cell_type": "code",
   "execution_count": 10,
   "metadata": {},
   "outputs": [
    {
     "data": {
      "text/plain": [
       "[<matplotlib.lines.Line2D at 0x7f5d9fdd3588>]"
      ]
     },
     "execution_count": 10,
     "metadata": {},
     "output_type": "execute_result"
    },
    {
     "data": {
      "image/png": "[encoded data removed]",
      "text/plain": [
       "<Figure size 432x288 with 1 Axes>"
      ]
     },
     "metadata": {
      "needs_background": "light"
     },
     "output_type": "display_data"
    }
   ],
   "source": [
    "plt.plot(np.abs(res00_list))"
   ]
  },
  {
   "cell_type": "code",
   "execution_count": 11,
   "metadata": {},
   "outputs": [
    {
     "data": {
      "text/plain": [
       "[<matplotlib.lines.Line2D at 0x7f5d9fda38d0>]"
      ]
     },
     "execution_count": 11,
     "metadata": {},
     "output_type": "execute_result"
    },
    {
     "data": {
      "image/png": "[encoded data removed]",
      "text/plain": [
       "<Figure size 432x288 with 1 Axes>"
      ]
     },
     "metadata": {
      "needs_background": "light"
     },
     "output_type": "display_data"
    }
   ],
   "source": [
    "plt.plot(np.abs(res01_list))"
   ]
  },
  {
   "cell_type": "code",
   "execution_count": 12,
   "metadata": {},
   "outputs": [
    {
     "data": {
      "text/plain": [
       "[<matplotlib.lines.Line2D at 0x7f5d9fcfcc50>]"
      ]
     },
     "execution_count": 12,
     "metadata": {},
     "output_type": "execute_result"
    },
    {
     "data": {
      "image/png": "[encoded data removed]",
      "text/plain": [
       "<Figure size 432x288 with 1 Axes>"
      ]
     },
     "metadata": {
      "needs_background": "light"
     },
     "output_type": "display_data"
    }
   ],
   "source": [
    "plt.plot(np.abs(res10_list))"
   ]
  },
  {
   "cell_type": "code",
   "execution_count": 13,
   "metadata": {},
   "outputs": [
    {
     "data": {
      "text/plain": [
       "[<matplotlib.lines.Line2D at 0x7f5d9fcd1ac8>]"
      ]
     },
     "execution_count": 13,
     "metadata": {},
     "output_type": "execute_result"
    },
    {
     "data": {
      "image/png": "[encoded data removed]",
      "text/plain": [
       "<Figure size 432x288 with 1 Axes>"
      ]
     },
     "metadata": {
      "needs_background": "light"
     },
     "output_type": "display_data"
    }
   ],
   "source": [
    "plt.plot(np.abs(res11_list))"
   ]
  },
  {
   "cell_type": "code",
   "execution_count": 9,
   "metadata": {},
   "outputs": [
    {
     "data": {
      "text/plain": [
       "[0.4536539489825907,\n",
       " 0.18211889783084304,\n",
       " 0.18897356160038464,\n",
       " 0.17525359158618167]"
      ]
     },
     "execution_count": 9,
     "metadata": {},
     "output_type": "execute_result"
    }
   ],
   "source": [
    "[np.mean(res00_list),np.mean(res01_list),np.mean(res10_list),np.mean(res11_list)]"
   ]
  },
  {
   "cell_type": "code",
   "execution_count": 25,
   "metadata": {},
   "outputs": [
    {
     "data": {
      "text/plain": [
       "1.0"
      ]
     },
     "execution_count": 25,
     "metadata": {},
     "output_type": "execute_result"
    }
   ],
   "source": [
    "np.mean(res00_list)+np.mean(res01_list)+np.mean(res10_list)+np.mean(res11_list)"
   ]
  },
  {
   "cell_type": "code",
   "execution_count": null,
   "metadata": {},
   "outputs": [],
   "source": []
  }
 ],
 "metadata": {
  "kernelspec": {
   "display_name": "Python 3",
   "language": "python",
   "name": "python3"
  },
  "language_info": {
   "codemirror_mode": {
    "name": "ipython",
    "version": 3
   },
   "file_extension": ".py",
   "mimetype": "text/x-python",
   "name": "python",
   "nbconvert_exporter": "python",
   "pygments_lexer": "ipython3",
   "version": "3.7.1"
  }
 },
 "nbformat": 4,
 "nbformat_minor": 2
}
