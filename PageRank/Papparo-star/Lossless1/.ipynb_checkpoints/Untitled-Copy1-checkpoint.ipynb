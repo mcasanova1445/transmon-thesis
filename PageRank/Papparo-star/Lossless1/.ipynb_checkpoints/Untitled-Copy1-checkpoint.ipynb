{
 "cells": [
  {
   "cell_type": "code",
   "execution_count": 2,
   "metadata": {},
   "outputs": [],
   "source": [
    "%matplotlib inline\n",
    "import matplotlib.pyplot as plt\n",
    "import numpy as np\n",
    "from qutip import *"
   ]
  },
  {
   "cell_type": "code",
   "execution_count": 3,
   "metadata": {},
   "outputs": [
    {
     "name": "stdout",
     "output_type": "stream",
     "text": [
      "Loaded Result object:\n",
      "Result object with sesolve data.\n",
      "--------------------------------\n",
      "states = True\n",
      "num_collapse = 0\n",
      "Loaded Result object:\n",
      "Result object with sesolve data.\n",
      "--------------------------------\n",
      "states = True\n",
      "num_collapse = 0\n",
      "Loaded Result object:\n",
      "Result object with sesolve data.\n",
      "--------------------------------\n",
      "states = True\n",
      "num_collapse = 0\n",
      "Loaded Result object:\n",
      "Result object with sesolve data.\n",
      "--------------------------------\n",
      "states = True\n",
      "num_collapse = 0\n",
      "Loaded Result object:\n",
      "Result object with sesolve data.\n",
      "--------------------------------\n",
      "states = True\n",
      "num_collapse = 0\n",
      "Loaded Result object:\n",
      "Result object with sesolve data.\n",
      "--------------------------------\n",
      "states = True\n",
      "num_collapse = 0\n",
      "Loaded Result object:\n",
      "Result object with sesolve data.\n",
      "--------------------------------\n",
      "states = True\n",
      "num_collapse = 0\n",
      "Loaded Result object:\n",
      "Result object with sesolve data.\n",
      "--------------------------------\n",
      "states = True\n",
      "num_collapse = 0\n",
      "Loaded Result object:\n",
      "Result object with sesolve data.\n",
      "--------------------------------\n",
      "states = True\n",
      "num_collapse = 0\n",
      "Loaded Result object:\n",
      "Result object with sesolve data.\n",
      "--------------------------------\n",
      "states = True\n",
      "num_collapse = 0\n",
      "Loaded Result object:\n",
      "Result object with sesolve data.\n",
      "--------------------------------\n",
      "states = True\n",
      "num_collapse = 0\n",
      "Loaded Result object:\n",
      "Result object with sesolve data.\n",
      "--------------------------------\n",
      "states = True\n",
      "num_collapse = 0\n",
      "Loaded Result object:\n",
      "Result object with sesolve data.\n",
      "--------------------------------\n",
      "states = True\n",
      "num_collapse = 0\n",
      "Loaded Result object:\n",
      "Result object with sesolve data.\n",
      "--------------------------------\n",
      "states = True\n",
      "num_collapse = 0\n",
      "Loaded Result object:\n",
      "Result object with sesolve data.\n",
      "--------------------------------\n",
      "states = True\n",
      "num_collapse = 0\n",
      "Loaded Result object:\n",
      "Result object with sesolve data.\n",
      "--------------------------------\n",
      "states = True\n",
      "num_collapse = 0\n",
      "Loaded Result object:\n",
      "Result object with sesolve data.\n",
      "--------------------------------\n",
      "states = True\n",
      "num_collapse = 0\n",
      "Loaded Result object:\n",
      "Result object with sesolve data.\n",
      "--------------------------------\n",
      "states = True\n",
      "num_collapse = 0\n",
      "Loaded Result object:\n",
      "Result object with sesolve data.\n",
      "--------------------------------\n",
      "states = True\n",
      "num_collapse = 0\n",
      "Loaded Result object:\n",
      "Result object with sesolve data.\n",
      "--------------------------------\n",
      "states = True\n",
      "num_collapse = 0\n",
      "Loaded Result object:\n",
      "Result object with sesolve data.\n",
      "--------------------------------\n",
      "states = True\n",
      "num_collapse = 0\n"
     ]
    },
    {
     "data": {
      "text/latex": [
       "Quantum object: dims = [[2, 2, 2, 2], [1, 1, 1, 1]], shape = (16, 1), type = ket\\begin{equation*}\\left(\\begin{array}{*{11}c}(-0.005-0.008j)\\\\(0.002-5.820\\times10^{-04}j)\\\\(-0.001+0.001j)\\\\(2.043\\times10^{-05}+2.821\\times10^{-05}j)\\\\(3.064\\times10^{-04}+0.001j)\\\\\\vdots\\\\(3.892\\times10^{-06}+1.697\\times10^{-07}j)\\\\(0.459-0.544j)\\\\(0.001-0.002j)\\\\(-0.002+6.143\\times10^{-04}j)\\\\(-4.733\\times10^{-05}+3.203\\times10^{-05}j)\\\\\\end{array}\\right)\\end{equation*}"
      ],
      "text/plain": [
       "Quantum object: dims = [[2, 2, 2, 2], [1, 1, 1, 1]], shape = (16, 1), type = ket\n",
       "Qobj data =\n",
       "[[-5.19892974e-03-7.68858424e-03j]\n",
       " [ 2.25628165e-03-5.82005061e-04j]\n",
       " [-1.13749876e-03+1.02663698e-03j]\n",
       " [ 2.04290693e-05+2.82145322e-05j]\n",
       " [ 3.06375197e-04+1.31590730e-03j]\n",
       " [-6.14088730e-04-3.66502503e-04j]\n",
       " [ 5.45678606e-04-7.21419263e-04j]\n",
       " [-3.50136083e-06-1.64967023e-05j]\n",
       " [-4.41842289e-01+5.45991458e-01j]\n",
       " [ 1.27358740e-03+2.07281424e-04j]\n",
       " [-6.96614484e-04+6.62622828e-04j]\n",
       " [ 3.89229938e-06+1.69686063e-07j]\n",
       " [ 4.59105676e-01-5.43860547e-01j]\n",
       " [ 1.00812958e-03-1.58218376e-03j]\n",
       " [-1.68427844e-03+6.14315505e-04j]\n",
       " [-4.73349901e-05+3.20317049e-05j]]"
      ]
     },
     "execution_count": 3,
     "metadata": {},
     "output_type": "execute_result"
    }
   ],
   "source": [
    "res_list = []\n",
    "\n",
    "for i in range(21):\n",
    "    res_list.append(qload('itj_{}'.format(i+1)))\n",
    "    \n",
    "res_list[0].states[-1]"
   ]
  },
  {
   "cell_type": "code",
   "execution_count": 4,
   "metadata": {},
   "outputs": [],
   "source": [
    "res00_list = []\n",
    "res01_list = []\n",
    "res10_list = []\n",
    "res11_list = []\n",
    "\n",
    "for i in range(10):\n",
    "    res00_list.append(expect(ptrace(res_list[2*i].states[-1], [2,3]), tensor(basis(2,0),basis(2,0))))\n",
    "    res01_list.append(expect(ptrace(res_list[2*i].states[-1], [2,3]), tensor(basis(2,0),basis(2,1))))\n",
    "    res10_list.append(expect(ptrace(res_list[2*i].states[-1], [2,3]), tensor(basis(2,1),basis(2,0))))\n",
    "    res11_list.append(expect(ptrace(res_list[2*i].states[-1], [2,3]), tensor(basis(2,1),basis(2,1))))"
   ]
  },
  {
   "cell_type": "code",
   "execution_count": 5,
   "metadata": {},
   "outputs": [
    {
     "data": {
      "text/plain": [
       "[<matplotlib.lines.Line2D at 0x7fd26145a7b8>]"
      ]
     },
     "execution_count": 5,
     "metadata": {},
     "output_type": "execute_result"
    },
    {
     "data": {
      "image/png": "[encoded data removed]",
      "text/plain": [
       "<Figure size 432x288 with 1 Axes>"
      ]
     },
     "metadata": {
      "needs_background": "light"
     },
     "output_type": "display_data"
    }
   ],
   "source": [
    "plt.plot(np.abs(res00_list))"
   ]
  },
  {
   "cell_type": "code",
   "execution_count": 6,
   "metadata": {},
   "outputs": [
    {
     "data": {
      "text/plain": [
       "[<matplotlib.lines.Line2D at 0x7fd2613e7160>]"
      ]
     },
     "execution_count": 6,
     "metadata": {},
     "output_type": "execute_result"
    },
    {
     "data": {
      "image/png": "[encoded data removed]",
      "text/plain": [
       "<Figure size 432x288 with 1 Axes>"
      ]
     },
     "metadata": {
      "needs_background": "light"
     },
     "output_type": "display_data"
    }
   ],
   "source": [
    "plt.plot(np.abs(res01_list))"
   ]
  },
  {
   "cell_type": "code",
   "execution_count": 7,
   "metadata": {},
   "outputs": [
    {
     "data": {
      "text/plain": [
       "[<matplotlib.lines.Line2D at 0x7fd26133af60>]"
      ]
     },
     "execution_count": 7,
     "metadata": {},
     "output_type": "execute_result"
    },
    {
     "data": {
      "image/png": "[encoded data removed]",
      "text/plain": [
       "<Figure size 432x288 with 1 Axes>"
      ]
     },
     "metadata": {
      "needs_background": "light"
     },
     "output_type": "display_data"
    }
   ],
   "source": [
    "plt.plot(np.abs(res10_list))"
   ]
  },
  {
   "cell_type": "code",
   "execution_count": 8,
   "metadata": {},
   "outputs": [
    {
     "data": {
      "text/plain": [
       "[<matplotlib.lines.Line2D at 0x7fd261311898>]"
      ]
     },
     "execution_count": 8,
     "metadata": {},
     "output_type": "execute_result"
    },
    {
     "data": {
      "image/png": "[encoded data removed]",
      "text/plain": [
       "<Figure size 432x288 with 1 Axes>"
      ]
     },
     "metadata": {
      "needs_background": "light"
     },
     "output_type": "display_data"
    }
   ],
   "source": [
    "plt.plot(np.abs(res11_list))"
   ]
  },
  {
   "cell_type": "code",
   "execution_count": 9,
   "metadata": {},
   "outputs": [
    {
     "data": {
      "text/plain": [
       "[0.3359640415913139,\n",
       " 0.15065358311573168,\n",
       " 0.2943222867104016,\n",
       " 0.21906008858255271]"
      ]
     },
     "execution_count": 9,
     "metadata": {},
     "output_type": "execute_result"
    }
   ],
   "source": [
    "[np.mean(res00_list),np.mean(res01_list),np.mean(res10_list),np.mean(res11_list)]"
   ]
  },
  {
   "cell_type": "code",
   "execution_count": 9,
   "metadata": {},
   "outputs": [
    {
     "data": {
      "text/plain": [
       "1.0"
      ]
     },
     "execution_count": 9,
     "metadata": {},
     "output_type": "execute_result"
    }
   ],
   "source": [
    "np.mean(res00_list)+np.mean(res01_list)+np.mean(res10_list)+np.mean(res11_list)"
   ]
  },
  {
   "cell_type": "code",
   "execution_count": null,
   "metadata": {},
   "outputs": [],
   "source": []
  }
 ],
 "metadata": {
  "kernelspec": {
   "display_name": "Python 3",
   "language": "python",
   "name": "python3"
  },
  "language_info": {
   "codemirror_mode": {
    "name": "ipython",
    "version": 3
   },
   "file_extension": ".py",
   "mimetype": "text/x-python",
   "name": "python",
   "nbconvert_exporter": "python",
   "pygments_lexer": "ipython3",
   "version": "3.7.0"
  }
 },
 "nbformat": 4,
 "nbformat_minor": 2
}
