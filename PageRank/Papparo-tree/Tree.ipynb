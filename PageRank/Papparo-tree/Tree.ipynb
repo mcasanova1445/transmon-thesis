{
 "cells": [
  {
   "cell_type": "code",
   "execution_count": 1,
   "metadata": {},
   "outputs": [],
   "source": [
    "%matplotlib inline\n",
    "import matplotlib.pyplot as plt\n",
    "import numpy as np\n",
    "from qutip import *"
   ]
  },
  {
   "cell_type": "code",
   "execution_count": 2,
   "metadata": {
    "scrolled": true
   },
   "outputs": [
    {
     "name": "stdout",
     "output_type": "stream",
     "text": [
      "Loaded Result object:\n",
      "Result object with mesolve data.\n",
      "--------------------------------\n",
      "states = True\n",
      "num_collapse = 0\n",
      "Loaded Result object:\n",
      "Result object with mesolve data.\n",
      "--------------------------------\n",
      "states = True\n",
      "num_collapse = 0\n",
      "Loaded Result object:\n",
      "Result object with mesolve data.\n",
      "--------------------------------\n",
      "states = True\n",
      "num_collapse = 0\n",
      "Loaded Result object:\n",
      "Result object with mesolve data.\n",
      "--------------------------------\n",
      "states = True\n",
      "num_collapse = 0\n",
      "Loaded Result object:\n",
      "Result object with mesolve data.\n",
      "--------------------------------\n",
      "states = True\n",
      "num_collapse = 0\n",
      "Loaded Result object:\n",
      "Result object with mesolve data.\n",
      "--------------------------------\n",
      "states = True\n",
      "num_collapse = 0\n",
      "Loaded Result object:\n",
      "Result object with mesolve data.\n",
      "--------------------------------\n",
      "states = True\n",
      "num_collapse = 0\n",
      "Loaded Result object:\n",
      "Result object with mesolve data.\n",
      "--------------------------------\n",
      "states = True\n",
      "num_collapse = 0\n",
      "Loaded Result object:\n",
      "Result object with mesolve data.\n",
      "--------------------------------\n",
      "states = True\n",
      "num_collapse = 0\n",
      "Loaded Result object:\n",
      "Result object with mesolve data.\n",
      "--------------------------------\n",
      "states = True\n",
      "num_collapse = 0\n",
      "Loaded Result object:\n",
      "Result object with mesolve data.\n",
      "--------------------------------\n",
      "states = True\n",
      "num_collapse = 0\n",
      "Loaded Result object:\n",
      "Result object with mesolve data.\n",
      "--------------------------------\n",
      "states = True\n",
      "num_collapse = 0\n",
      "Loaded Result object:\n",
      "Result object with mesolve data.\n",
      "--------------------------------\n",
      "states = True\n",
      "num_collapse = 0\n",
      "Loaded Result object:\n",
      "Result object with mesolve data.\n",
      "--------------------------------\n",
      "states = True\n",
      "num_collapse = 0\n",
      "Loaded Result object:\n",
      "Result object with mesolve data.\n",
      "--------------------------------\n",
      "states = True\n",
      "num_collapse = 0\n",
      "Loaded Result object:\n",
      "Result object with mesolve data.\n",
      "--------------------------------\n",
      "states = True\n",
      "num_collapse = 0\n",
      "Loaded Result object:\n",
      "Result object with mesolve data.\n",
      "--------------------------------\n",
      "states = True\n",
      "num_collapse = 0\n",
      "Loaded Result object:\n",
      "Result object with mesolve data.\n",
      "--------------------------------\n",
      "states = True\n",
      "num_collapse = 0\n",
      "Loaded Result object:\n",
      "Result object with mesolve data.\n",
      "--------------------------------\n",
      "states = True\n",
      "num_collapse = 0\n",
      "Loaded Result object:\n",
      "Result object with mesolve data.\n",
      "--------------------------------\n",
      "states = True\n",
      "num_collapse = 0\n",
      "Loaded Result object:\n",
      "Result object with mesolve data.\n",
      "--------------------------------\n",
      "states = True\n",
      "num_collapse = 0\n",
      "Loaded Result object:\n",
      "Result object with mesolve data.\n",
      "--------------------------------\n",
      "states = True\n",
      "num_collapse = 0\n",
      "Loaded Result object:\n",
      "Result object with mesolve data.\n",
      "--------------------------------\n",
      "states = True\n",
      "num_collapse = 0\n",
      "Loaded Result object:\n",
      "Result object with mesolve data.\n",
      "--------------------------------\n",
      "states = True\n",
      "num_collapse = 0\n",
      "Loaded Result object:\n",
      "Result object with mesolve data.\n",
      "--------------------------------\n",
      "states = True\n",
      "num_collapse = 0\n",
      "Loaded Result object:\n",
      "Result object with mesolve data.\n",
      "--------------------------------\n",
      "states = True\n",
      "num_collapse = 0\n",
      "Loaded Result object:\n",
      "Result object with mesolve data.\n",
      "--------------------------------\n",
      "states = True\n",
      "num_collapse = 0\n",
      "Loaded Result object:\n",
      "Result object with mesolve data.\n",
      "--------------------------------\n",
      "states = True\n",
      "num_collapse = 0\n",
      "Loaded Result object:\n",
      "Result object with mesolve data.\n",
      "--------------------------------\n",
      "states = True\n",
      "num_collapse = 0\n",
      "Loaded Result object:\n",
      "Result object with mesolve data.\n",
      "--------------------------------\n",
      "states = True\n",
      "num_collapse = 0\n",
      "Loaded Result object:\n",
      "Result object with mesolve data.\n",
      "--------------------------------\n",
      "states = True\n",
      "num_collapse = 0\n",
      "Loaded Result object:\n",
      "Result object with mesolve data.\n",
      "--------------------------------\n",
      "states = True\n",
      "num_collapse = 0\n",
      "Loaded Result object:\n",
      "Result object with mesolve data.\n",
      "--------------------------------\n",
      "states = True\n",
      "num_collapse = 0\n",
      "Loaded Result object:\n",
      "Result object with mesolve data.\n",
      "--------------------------------\n",
      "states = True\n",
      "num_collapse = 0\n",
      "Loaded Result object:\n",
      "Result object with mesolve data.\n",
      "--------------------------------\n",
      "states = True\n",
      "num_collapse = 0\n",
      "Loaded Result object:\n",
      "Result object with mesolve data.\n",
      "--------------------------------\n",
      "states = True\n",
      "num_collapse = 0\n",
      "Loaded Result object:\n",
      "Result object with mesolve data.\n",
      "--------------------------------\n",
      "states = True\n",
      "num_collapse = 0\n",
      "Loaded Result object:\n",
      "Result object with mesolve data.\n",
      "--------------------------------\n",
      "states = True\n",
      "num_collapse = 0\n",
      "Loaded Result object:\n",
      "Result object with mesolve data.\n",
      "--------------------------------\n",
      "states = True\n",
      "num_collapse = 0\n",
      "Loaded Result object:\n",
      "Result object with mesolve data.\n",
      "--------------------------------\n",
      "states = True\n",
      "num_collapse = 0\n",
      "Loaded Result object:\n",
      "Result object with mesolve data.\n",
      "--------------------------------\n",
      "states = True\n",
      "num_collapse = 0\n",
      "Loaded Result object:\n",
      "Result object with mesolve data.\n",
      "--------------------------------\n",
      "states = True\n",
      "num_collapse = 0\n",
      "Loaded Result object:\n",
      "Result object with mesolve data.\n",
      "--------------------------------\n",
      "states = True\n",
      "num_collapse = 0\n",
      "Loaded Result object:\n",
      "Result object with mesolve data.\n",
      "--------------------------------\n",
      "states = True\n",
      "num_collapse = 0\n",
      "Loaded Result object:\n",
      "Result object with mesolve data.\n",
      "--------------------------------\n",
      "states = True\n",
      "num_collapse = 0\n",
      "Loaded Result object:\n",
      "Result object with mesolve data.\n",
      "--------------------------------\n",
      "states = True\n",
      "num_collapse = 0\n",
      "Loaded Result object:\n",
      "Result object with mesolve data.\n",
      "--------------------------------\n",
      "states = True\n",
      "num_collapse = 0\n",
      "Loaded Result object:\n",
      "Result object with mesolve data.\n",
      "--------------------------------\n",
      "states = True\n",
      "num_collapse = 0\n",
      "Loaded Result object:\n",
      "Result object with mesolve data.\n",
      "--------------------------------\n",
      "states = True\n",
      "num_collapse = 0\n",
      "Loaded Result object:\n",
      "Result object with mesolve data.\n",
      "--------------------------------\n",
      "states = True\n",
      "num_collapse = 0\n",
      "Loaded Result object:\n",
      "Result object with mesolve data.\n",
      "--------------------------------\n",
      "states = True\n",
      "num_collapse = 0\n",
      "Loaded Result object:\n",
      "Result object with mesolve data.\n",
      "--------------------------------\n",
      "states = True\n",
      "num_collapse = 0\n",
      "Loaded Result object:\n",
      "Result object with mesolve data.\n",
      "--------------------------------\n",
      "states = True\n",
      "num_collapse = 0\n"
     ]
    },
    {
     "data": {
      "text/latex": [
       "Quantum object: dims = [[2, 2, 2, 2], [2, 2, 2, 2]], shape = (16, 16), type = oper, isherm = True\\begin{equation*}\\left(\\begin{array}{*{11}c}0.027 & (8.426\\times10^{-04}+1.243\\times10^{-05}j) & (3.765\\times10^{-04}+1.542\\times10^{-04}j) & (-2.008\\times10^{-04}+1.605\\times10^{-04}j) & (0.002+1.372\\times10^{-04}j) & \\cdots & (2.840\\times10^{-05}+3.296\\times10^{-04}j) & (2.739\\times10^{-04}+1.349\\times10^{-05}j) & (2.091\\times10^{-05}-6.072\\times10^{-06}j) & (9.787\\times10^{-05}+2.722\\times10^{-04}j) & (4.863\\times10^{-05}+2.080\\times10^{-04}j)\\\\(8.426\\times10^{-04}-1.243\\times10^{-05}j) & 0.016 & (-1.777\\times10^{-04}+2.250\\times10^{-04}j) & (1.584\\times10^{-05}+9.390\\times10^{-05}j) & (1.490\\times10^{-04}+5.900\\times10^{-05}j) & \\cdots & (1.480\\times10^{-05}+1.501\\times10^{-04}j) & (6.572\\times10^{-05}+4.492\\times10^{-06}j) & (6.426\\times10^{-04}+1.987\\times10^{-04}j) & (5.369\\times10^{-05}+4.322\\times10^{-05}j) & (5.892\\times10^{-06}+5.153\\times10^{-05}j)\\\\(3.765\\times10^{-04}-1.542\\times10^{-04}j) & (-1.777\\times10^{-04}-2.250\\times10^{-04}j) & 0.131 & (0.012-4.651\\times10^{-04}j) & (-9.158\\times10^{-06}+4.063\\times10^{-05}j) & \\cdots & (0.003-1.195\\times10^{-04}j) & (6.265\\times10^{-05}-5.083\\times10^{-05}j) & (-2.117\\times10^{-05}+1.434\\times10^{-05}j) & (0.008+1.838\\times10^{-06}j) & (0.001-1.823\\times10^{-04}j)\\\\(-2.008\\times10^{-04}-1.605\\times10^{-04}j) & (1.584\\times10^{-05}-9.390\\times10^{-05}j) & (0.012+4.651\\times10^{-04}j) & 0.092 & (1.855\\times10^{-04}+1.318\\times10^{-04}j) & \\cdots & (0.020+2.253\\times10^{-04}j) & (-1.096\\times10^{-04}-6.876\\times10^{-05}j) & (2.502\\times10^{-05}+5.694\\times10^{-05}j) & (9.906\\times10^{-04}-1.295\\times10^{-04}j) & (0.006-2.813\\times10^{-04}j)\\\\(0.002-1.372\\times10^{-04}j) & (1.490\\times10^{-04}-5.900\\times10^{-05}j) & (-9.158\\times10^{-06}-4.063\\times10^{-05}j) & (1.855\\times10^{-04}-1.318\\times10^{-04}j) & 0.017 & \\cdots & (1.263\\times10^{-04}-2.813\\times10^{-04}j) & (0.002+1.188\\times10^{-05}j) & (1.195\\times10^{-04}+1.951\\times10^{-06}j) & (1.280\\times10^{-04}+1.756\\times10^{-04}j) & (4.669\\times10^{-05}+5.369\\times10^{-05}j)\\\\\\vdots & \\vdots & \\vdots & \\vdots & \\vdots & \\ddots & \\vdots & \\vdots & \\vdots & \\vdots & \\vdots\\\\(2.840\\times10^{-05}-3.296\\times10^{-04}j) & (1.480\\times10^{-05}-1.501\\times10^{-04}j) & (0.003+1.195\\times10^{-04}j) & (0.020-2.253\\times10^{-04}j) & (1.263\\times10^{-04}+2.813\\times10^{-04}j) & \\cdots & 0.093 & (8.524\\times10^{-05}+3.591\\times10^{-05}j) & (-6.845\\times10^{-06}-6.309\\times10^{-05}j) & (0.003+7.384\\times10^{-05}j) & (0.024+2.444\\times10^{-04}j)\\\\(2.739\\times10^{-04}-1.349\\times10^{-05}j) & (6.572\\times10^{-05}-4.492\\times10^{-06}j) & (6.265\\times10^{-05}+5.083\\times10^{-05}j) & (-1.096\\times10^{-04}+6.876\\times10^{-05}j) & (0.002-1.188\\times10^{-05}j) & \\cdots & (8.524\\times10^{-05}-3.591\\times10^{-05}j) & 0.013 & (4.939\\times10^{-04}+1.796\\times10^{-05}j) & (-1.363\\times10^{-04}+3.086\\times10^{-04}j) & (-9.041\\times10^{-05}+4.803\\times10^{-05}j)\\\\(2.091\\times10^{-05}+6.072\\times10^{-06}j) & (6.426\\times10^{-04}-1.987\\times10^{-04}j) & (-2.117\\times10^{-05}-1.434\\times10^{-05}j) & (2.502\\times10^{-05}-5.694\\times10^{-05}j) & (1.195\\times10^{-04}-1.951\\times10^{-06}j) & \\cdots & (-6.845\\times10^{-06}+6.309\\times10^{-05}j) & (4.939\\times10^{-04}-1.796\\times10^{-05}j) & 0.012 & (3.172\\times10^{-06}+2.225\\times10^{-04}j) & (-6.094\\times10^{-05}+1.662\\times10^{-04}j)\\\\(9.787\\times10^{-05}-2.722\\times10^{-04}j) & (5.369\\times10^{-05}-4.322\\times10^{-05}j) & (0.008-1.838\\times10^{-06}j) & (9.906\\times10^{-04}+1.295\\times10^{-04}j) & (1.280\\times10^{-04}-1.756\\times10^{-04}j) & \\cdots & (0.003-7.384\\times10^{-05}j) & (-1.363\\times10^{-04}-3.086\\times10^{-04}j) & (3.172\\times10^{-06}-2.225\\times10^{-04}j) & 0.127 & (0.011+4.308\\times10^{-04}j)\\\\(4.863\\times10^{-05}-2.080\\times10^{-04}j) & (5.892\\times10^{-06}-5.153\\times10^{-05}j) & (0.001+1.823\\times10^{-04}j) & (0.006+2.813\\times10^{-04}j) & (4.669\\times10^{-05}-5.369\\times10^{-05}j) & \\cdots & (0.024-2.444\\times10^{-04}j) & (-9.041\\times10^{-05}-4.803\\times10^{-05}j) & (-6.094\\times10^{-05}-1.662\\times10^{-04}j) & (0.011-4.308\\times10^{-04}j) & 0.087\\\\\\end{array}\\right)\\end{equation*}"
      ],
      "text/plain": [
       "Quantum object: dims = [[2, 2, 2, 2], [2, 2, 2, 2]], shape = (16, 16), type = oper, isherm = True\n",
       "Qobj data =\n",
       "[[ 2.74591264e-02-2.30197287e-14j  8.42569364e-04+1.24272628e-05j\n",
       "   3.76511509e-04+1.54196336e-04j -2.00762204e-04+1.60474364e-04j\n",
       "   1.92762820e-03+1.37224484e-04j  1.89512289e-04+3.38449086e-05j\n",
       "   9.31857675e-05+2.55552172e-04j -1.78956197e-04+1.37072336e-04j\n",
       "   1.89991860e-03+1.35773644e-04j  1.27445952e-04+1.34063406e-05j\n",
       "   1.63209029e-04+3.69953351e-04j  2.83954582e-05+3.29552082e-04j\n",
       "   2.73877411e-04+1.34909849e-05j  2.09099302e-05-6.07228223e-06j\n",
       "   9.78725086e-05+2.72155980e-04j  4.86253674e-05+2.08009108e-04j]\n",
       " [ 8.42569364e-04-1.24272628e-05j  1.60937027e-02-1.50583448e-14j\n",
       "  -1.77661841e-04+2.24961021e-04j  1.58443097e-05+9.39040044e-05j\n",
       "   1.49032845e-04+5.89978830e-05j  2.73508169e-03+1.18984900e-05j\n",
       "   9.93936073e-05+9.15623198e-05j -2.07441911e-05+7.42390795e-05j\n",
       "   9.06703572e-05-2.49722138e-05j  1.90618229e-03-1.85726731e-05j\n",
       "  -1.34090564e-05+2.20211269e-04j  1.48007399e-05+1.50108294e-04j\n",
       "   6.57242549e-05+4.49242119e-06j  6.42551666e-04+1.98702587e-04j\n",
       "   5.36866771e-05+4.32194222e-05j  5.89234549e-06+5.15263651e-05j]\n",
       " [ 3.76511512e-04-1.54196333e-04j -1.77661836e-04-2.24961020e-04j\n",
       "   1.31461602e-01-5.23393075e-14j  1.23931021e-02-4.65131793e-04j\n",
       "  -9.15816615e-06+4.06336607e-05j  3.10271411e-05+1.66714735e-04j\n",
       "   4.07876859e-02+1.38873959e-03j  4.45871418e-03-2.21159375e-05j\n",
       "  -7.40892889e-05+1.18746562e-04j  6.28735606e-05+7.24965143e-05j\n",
       "   2.72951846e-02+3.60260932e-04j  2.92494840e-03-1.19538825e-04j\n",
       "   6.26527983e-05-5.08342614e-05j -2.11665752e-05+1.43393006e-05j\n",
       "   8.22063662e-03+1.83834415e-06j  1.04607019e-03-1.82337022e-04j]\n",
       " [-2.00762205e-04-1.60474364e-04j  1.58443095e-05-9.39040043e-05j\n",
       "   1.23931021e-02+4.65131793e-04j  9.15456514e-02+2.21548606e-14j\n",
       "   1.85459708e-04+1.31824953e-04j  4.04004253e-05-5.73690897e-05j\n",
       "   4.35988889e-03+2.61431173e-04j  2.92203138e-02+5.20772110e-04j\n",
       "   1.06624532e-04+4.69464033e-05j -8.45186725e-06+5.56127149e-05j\n",
       "   3.00793506e-03-8.86184694e-05j  1.98234262e-02+2.25300185e-04j\n",
       "  -1.09620356e-04-6.87588068e-05j  2.50187864e-05+5.69369004e-05j\n",
       "   9.90569439e-04-1.29540543e-04j  6.00899524e-03-2.81308740e-04j]\n",
       " [ 1.92762820e-03-1.37224484e-04j  1.49032845e-04-5.89978831e-05j\n",
       "  -9.15816695e-06-4.06336614e-05j  1.85459707e-04-1.31824953e-04j\n",
       "   1.71115675e-02+3.79368324e-14j  6.19322734e-04+2.66087758e-07j\n",
       "   1.14161817e-04+1.32140353e-04j -2.37127788e-05+2.65833949e-05j\n",
       "   3.15080322e-04+2.19734194e-06j  3.24226253e-05-1.36011644e-05j\n",
       "  -5.01799297e-05-6.64035539e-05j  1.26343443e-04-2.81345967e-04j\n",
       "   1.75571035e-03+1.18772847e-05j  1.19541042e-04+1.95109074e-06j\n",
       "   1.27950493e-04+1.75552124e-04j  4.66904418e-05+5.36887762e-05j]\n",
       " [ 1.89512289e-04-3.38449085e-05j  2.73508169e-03-1.18984901e-05j\n",
       "   3.10271402e-05-1.66714735e-04j  4.04004253e-05+5.73690897e-05j\n",
       "   6.19322734e-04-2.66087783e-07j  1.23859715e-02+1.42374954e-14j\n",
       "  -1.25863226e-04+3.34997002e-04j  6.97870747e-05+1.06165672e-04j\n",
       "   3.69919052e-05+1.59041985e-07j  1.94999169e-04+5.05725730e-05j\n",
       "  -6.65543672e-05-1.73430723e-04j  3.21378546e-05+8.99580630e-06j\n",
       "   1.11468713e-04-3.40876839e-06j  9.16978161e-04+2.59250526e-05j\n",
       "   1.24440577e-04+1.69987224e-04j  6.73549853e-05+1.15349144e-04j]\n",
       " [ 9.31857690e-05-2.55552170e-04j  9.93936116e-05-9.15623216e-05j\n",
       "   4.07876859e-02-1.38873959e-03j  4.35988889e-03-2.61431173e-04j\n",
       "   1.14161816e-04-1.32140352e-04j -1.25863225e-04-3.34997002e-04j\n",
       "   1.21745315e-01-3.62623910e-16j  1.10125599e-02-2.75994117e-04j\n",
       "  -1.32924065e-04+8.93589103e-05j  3.56638999e-05+2.88733613e-04j\n",
       "   9.29165446e-03+2.99298082e-04j  1.04599067e-03+4.14930070e-05j\n",
       "  -2.41568261e-05+2.23869252e-04j  8.37442831e-05+2.53079627e-04j\n",
       "   2.81443655e-02+2.96205926e-04j  2.88191475e-03-5.76309767e-05j]\n",
       " [-1.78956198e-04-1.37072336e-04j -2.07441911e-05-7.42390795e-05j\n",
       "   4.45871418e-03+2.21159375e-05j  2.92203138e-02-5.20772110e-04j\n",
       "  -2.37127783e-05-2.65833950e-05j  6.97870750e-05-1.06165673e-04j\n",
       "   1.10125599e-02+2.75994117e-04j  8.40765888e-02+6.11158082e-14j\n",
       "   1.06966282e-04+2.35400831e-05j -8.07490920e-06+1.00475577e-05j\n",
       "   1.07875452e-03-1.25078724e-04j  6.56544417e-03+3.88152277e-04j\n",
       "  -4.28715649e-06-3.86436615e-05j  2.85007253e-05+8.36189452e-05j\n",
       "   2.89066452e-03-1.08289832e-04j  1.99624598e-02+3.35026091e-04j]\n",
       " [ 1.89991860e-03-1.35773644e-04j  9.06703571e-05+2.49722138e-05j\n",
       "  -7.40892894e-05-1.18746562e-04j  1.06624531e-04-4.69464031e-05j\n",
       "   3.15080322e-04-2.19734197e-06j  3.69919053e-05-1.59042007e-07j\n",
       "  -1.32924064e-04-8.93589105e-05j  1.06966282e-04-2.35400831e-05j\n",
       "   1.95247223e-02+2.14931309e-14j  6.82978620e-04-5.55954458e-06j\n",
       "   6.36774034e-05+3.73534822e-04j -1.56984820e-04+8.83178936e-05j\n",
       "   1.17794979e-03+1.32449144e-04j  1.26244947e-04+1.50665963e-05j\n",
       "   1.04405404e-04+2.80904610e-04j -1.35762203e-04+7.88787904e-05j]\n",
       " [ 1.27445952e-04-1.34063406e-05j  1.90618229e-03+1.85726731e-05j\n",
       "   6.28735704e-05-7.24965014e-05j -8.45186685e-06-5.56127150e-05j\n",
       "   3.24226253e-05+1.36011643e-05j  1.94999169e-04-5.05725730e-05j\n",
       "   3.56638997e-05-2.88733600e-04j -8.07490884e-06-1.00475576e-05j\n",
       "   6.82978620e-04+5.55954447e-06j  1.17500988e-02-5.58160066e-14j\n",
       "   9.04943214e-05+3.39736091e-04j -6.05591363e-05+1.04980280e-04j\n",
       "   9.78320164e-05+2.39560412e-05j  1.98992930e-03+2.34442928e-04j\n",
       "   6.00936526e-05-2.91153292e-04j -4.37264063e-05+1.00868273e-04j]\n",
       " [ 1.63209027e-04-3.69953353e-04j -1.34090563e-05-2.20211272e-04j\n",
       "   2.72951846e-02-3.60260931e-04j  3.00793506e-03+8.86184694e-05j\n",
       "  -5.01799304e-05+6.64035548e-05j -6.65543646e-05+1.73430727e-04j\n",
       "   9.29165446e-03-2.99298082e-04j  1.07875452e-03+1.25078724e-04j\n",
       "   6.36774037e-05-3.73534823e-04j  9.04943156e-05-3.39736073e-04j\n",
       "   1.34975633e-01+2.74611011e-14j  1.17907302e-02+1.27103512e-04j\n",
       "   8.61696627e-05+7.75748165e-05j  7.90616017e-05+8.98316881e-05j\n",
       "   3.48516442e-02+1.20645778e-03j  3.49794998e-03+1.42001397e-04j]\n",
       " [ 2.83954584e-05-3.29552082e-04j  1.48007395e-05-1.50108294e-04j\n",
       "   2.92494840e-03+1.19538825e-04j  1.98234262e-02-2.25300185e-04j\n",
       "   1.26343442e-04+2.81345970e-04j  3.21378543e-05-8.99580648e-06j\n",
       "   1.04599067e-03-4.14930070e-05j  6.56544417e-03-3.88152277e-04j\n",
       "  -1.56984820e-04-8.83178935e-05j -6.05591361e-05-1.04980280e-04j\n",
       "   1.17907302e-02-1.27103512e-04j  9.25055479e-02-8.40426501e-14j\n",
       "   8.52435464e-05+3.59130072e-05j -6.84542727e-06-6.30898852e-05j\n",
       "   3.45696669e-03+7.38443665e-05j  2.41899218e-02+2.44372335e-04j]\n",
       " [ 2.73877411e-04-1.34909849e-05j  6.57242549e-05-4.49242123e-06j\n",
       "   6.26527984e-05+5.08342618e-05j -1.09620357e-04+6.87588067e-05j\n",
       "   1.75571035e-03-1.18772846e-05j  1.11468713e-04+3.40876844e-06j\n",
       "  -2.41568260e-05-2.23869252e-04j -4.28715809e-06+3.86436610e-05j\n",
       "   1.17794979e-03-1.32449144e-04j  9.78320163e-05-2.39560412e-05j\n",
       "   8.61696626e-05-7.75748167e-05j  8.52435464e-05-3.59130074e-05j\n",
       "   1.28968530e-02-3.25493858e-14j  4.93949914e-04+1.79580690e-05j\n",
       "  -1.36297275e-04+3.08603533e-04j -9.04051540e-05+4.80264374e-05j]\n",
       " [ 2.09099302e-05+6.07228223e-06j  6.42551666e-04-1.98702587e-04j\n",
       "  -2.11665739e-05-1.43392983e-05j  2.50187863e-05-5.69369005e-05j\n",
       "   1.19541042e-04-1.95109072e-06j  9.16978161e-04-2.59250527e-05j\n",
       "   8.37442839e-05-2.53079621e-04j  2.85007252e-05-8.36189453e-05j\n",
       "   1.26244947e-04-1.50665963e-05j  1.98992930e-03-2.34442928e-04j\n",
       "   7.90616097e-05-8.98316835e-05j -6.84542744e-06+6.30898852e-05j\n",
       "   4.93949914e-04-1.79580691e-05j  1.24952743e-02+5.82712432e-14j\n",
       "   3.17205187e-06+2.22480215e-04j -6.09383692e-05+1.66215960e-04j]\n",
       " [ 9.78725088e-05-2.72155982e-04j  5.36866776e-05-4.32194236e-05j\n",
       "   8.22063662e-03-1.83834421e-06j  9.90569439e-04+1.29540543e-04j\n",
       "   1.27950493e-04-1.75552124e-04j  1.24440577e-04-1.69987228e-04j\n",
       "   2.81443655e-02-2.96205926e-04j  2.89066452e-03+1.08289832e-04j\n",
       "   1.04405404e-04-2.80904610e-04j  6.00936584e-05+2.91153302e-04j\n",
       "   3.48516442e-02-1.20645778e-03j  3.45696669e-03-7.38443665e-05j\n",
       "  -1.36297275e-04-3.08603534e-04j  3.17205458e-06-2.22480212e-04j\n",
       "   1.27357299e-01+3.59947313e-15j  1.05595536e-02+4.30777622e-04j]\n",
       " [ 4.86253679e-05-2.08009107e-04j  5.89234535e-06-5.15263653e-05j\n",
       "   1.04607019e-03+1.82337022e-04j  6.00899524e-03+2.81308739e-04j\n",
       "   4.66904415e-05-5.36887742e-05j  6.73549855e-05-1.15349144e-04j\n",
       "   2.88191475e-03+5.76309767e-05j  1.99624598e-02-3.35026091e-04j\n",
       "  -1.35762203e-04-7.88787902e-05j -4.37264062e-05-1.00868272e-04j\n",
       "   3.49794998e-03-1.42001397e-04j  2.41899218e-02-2.44372335e-04j\n",
       "  -9.04051533e-05-4.80264381e-05j -6.09383692e-05-1.66215960e-04j\n",
       "   1.05595536e-02-4.30777622e-04j  8.66150463e-02+1.69165840e-14j]]"
      ]
     },
     "execution_count": 2,
     "metadata": {},
     "output_type": "execute_result"
    }
   ],
   "source": [
    "res_list = []\n",
    "\n",
    "for i in range(53):\n",
    "    res_list.append(qload('itj_{}'.format(i+1)))\n",
    "    \n",
    "res_list[0].states[-1]"
   ]
  },
  {
   "cell_type": "code",
   "execution_count": 15,
   "metadata": {},
   "outputs": [
    {
     "data": {
      "text/latex": [
       "Quantum object: dims = [[2, 2], [2, 2]], shape = (4, 4), type = oper, isherm = False\\begin{equation*}\\left(\\begin{array}{*{11}c}0.086 & (0.002+6.833\\times10^{-05}j) & (4.763\\times10^{-04}+0.001j) & (-4.652\\times10^{-04}+2.985\\times10^{-04}j)\\\\(0.002-6.833\\times10^{-05}j) & 0.061 & (9.443\\times10^{-04}+5.511\\times10^{-04}j) & (-1.585\\times10^{-05}+4.421\\times10^{-04}j)\\\\(4.763\\times10^{-04}-0.001j) & (9.443\\times10^{-04}-5.511\\times10^{-04}j) & 0.501 & (0.040+2.575\\times10^{-04}j)\\\\(-4.652\\times10^{-04}-2.985\\times10^{-04}j) & (-1.585\\times10^{-05}-4.421\\times10^{-04}j) & (0.040-2.575\\times10^{-04}j) & 0.352\\\\\\end{array}\\right)\\end{equation*}"
      ],
      "text/plain": [
       "Quantum object: dims = [[2, 2], [2, 2]], shape = (4, 4), type = oper, isherm = False\n",
       "Qobj data =\n",
       "[[ 8.60948371e-02+0.00000000e+00j  2.32956124e-03+6.83327809e-05j\n",
       "   4.76348049e-04+1.11642312e-03j -4.65195979e-04+2.98522481e-04j]\n",
       " [ 2.32956124e-03-6.83327806e-05j  6.08192762e-02+0.00000000e+00j\n",
       "   9.44258969e-04+5.51081424e-04j -1.58457060e-05+4.42065314e-04j]\n",
       " [ 4.76348048e-04-1.11642312e-03j  9.44258969e-04-5.51081426e-04j\n",
       "   5.00804177e-01+0.00000000e+00j  3.95001538e-02+2.57518732e-04j]\n",
       " [-4.65195979e-04-2.98522484e-04j -1.58457061e-05-4.42065314e-04j\n",
       "   3.95001538e-02-2.57518732e-04j  3.52281710e-01+0.00000000e+00j]]"
      ]
     },
     "execution_count": 15,
     "metadata": {},
     "output_type": "execute_result"
    }
   ],
   "source": [
    "ptrace(res_list[-1].states[-1], [2,3])"
   ]
  },
  {
   "cell_type": "code",
   "execution_count": 3,
   "metadata": {},
   "outputs": [],
   "source": [
    "res00_list = []\n",
    "res01_list = []\n",
    "res10_list = []\n",
    "res11_list = []\n",
    "\n",
    "for i in range(53):\n",
    "    if i % 2 == 1:\n",
    "        res00_list.append(expect(ptrace(res_list[i].states[-1], [2,3]), tensor(basis(2,0),basis(2,0))))\n",
    "        res01_list.append(expect(ptrace(res_list[i].states[-1], [2,3]), tensor(basis(2,0),basis(2,1))))\n",
    "        res10_list.append(expect(ptrace(res_list[i].states[-1], [2,3]), tensor(basis(2,1),basis(2,0))))\n",
    "        res11_list.append(expect(ptrace(res_list[i].states[-1], [2,3]), tensor(basis(2,1),basis(2,1))))"
   ]
  },
  {
   "cell_type": "code",
   "execution_count": 4,
   "metadata": {},
   "outputs": [
    {
     "data": {
      "text/plain": [
       "[<matplotlib.lines.Line2D at 0x7f53c53332b0>]"
      ]
     },
     "execution_count": 4,
     "metadata": {},
     "output_type": "execute_result"
    },
    {
     "data": {
      "image/png": "[encoded data removed]",
      "text/plain": [
       "<Figure size 432x288 with 1 Axes>"
      ]
     },
     "metadata": {
      "needs_background": "light"
     },
     "output_type": "display_data"
    }
   ],
   "source": [
    "plt.plot(np.abs(res00_list))"
   ]
  },
  {
   "cell_type": "code",
   "execution_count": 5,
   "metadata": {},
   "outputs": [
    {
     "data": {
      "text/plain": [
       "[<matplotlib.lines.Line2D at 0x7f53c52d4d30>]"
      ]
     },
     "execution_count": 5,
     "metadata": {},
     "output_type": "execute_result"
    },
    {
     "data": {
      "image/png": "[encoded data removed]",
      "text/plain": [
       "<Figure size 432x288 with 1 Axes>"
      ]
     },
     "metadata": {
      "needs_background": "light"
     },
     "output_type": "display_data"
    }
   ],
   "source": [
    "plt.plot(np.abs(res01_list))"
   ]
  },
  {
   "cell_type": "code",
   "execution_count": 6,
   "metadata": {},
   "outputs": [
    {
     "data": {
      "text/plain": [
       "[<matplotlib.lines.Line2D at 0x7f53c7d852b0>]"
      ]
     },
     "execution_count": 6,
     "metadata": {},
     "output_type": "execute_result"
    },
    {
     "data": {
      "image/png": "[encoded data removed]",
      "text/plain": [
       "<Figure size 432x288 with 1 Axes>"
      ]
     },
     "metadata": {
      "needs_background": "light"
     },
     "output_type": "display_data"
    }
   ],
   "source": [
    "plt.plot(np.abs(res10_list))"
   ]
  },
  {
   "cell_type": "code",
   "execution_count": 7,
   "metadata": {},
   "outputs": [
    {
     "data": {
      "text/plain": [
       "[<matplotlib.lines.Line2D at 0x7f53c7db4470>]"
      ]
     },
     "execution_count": 7,
     "metadata": {},
     "output_type": "execute_result"
    },
    {
     "data": {
      "image/png": "[encoded data removed]",
      "text/plain": [
       "<Figure size 432x288 with 1 Axes>"
      ]
     },
     "metadata": {
      "needs_background": "light"
     },
     "output_type": "display_data"
    }
   ],
   "source": [
    "plt.plot(np.abs(res11_list))"
   ]
  },
  {
   "cell_type": "code",
   "execution_count": 8,
   "metadata": {},
   "outputs": [
    {
     "data": {
      "text/plain": [
       "[(0.08608267882146449+0j),\n",
       " (0.06081121483424387+0j),\n",
       " (0.5008161733911131+0j),\n",
       " (0.35228993299384553+0j)]"
      ]
     },
     "execution_count": 8,
     "metadata": {},
     "output_type": "execute_result"
    }
   ],
   "source": [
    "[np.mean(res00_list),np.mean(res01_list),np.mean(res10_list),np.mean(res11_list)]"
   ]
  },
  {
   "cell_type": "code",
   "execution_count": 10,
   "metadata": {},
   "outputs": [
    {
     "data": {
      "text/plain": [
       "1.0"
      ]
     },
     "execution_count": 10,
     "metadata": {},
     "output_type": "execute_result"
    }
   ],
   "source": [
    "np.mean(res00_list)+np.mean(res01_list)+np.mean(res10_list)+np.mean(res11_list)"
   ]
  },
  {
   "cell_type": "code",
   "execution_count": null,
   "metadata": {},
   "outputs": [],
   "source": []
  }
 ],
 "metadata": {
  "kernelspec": {
   "display_name": "Python 3",
   "language": "python",
   "name": "python3"
  },
  "language_info": {
   "codemirror_mode": {
    "name": "ipython",
    "version": 3
   },
   "file_extension": ".py",
   "mimetype": "text/x-python",
   "name": "python",
   "nbconvert_exporter": "python",
   "pygments_lexer": "ipython3",
   "version": "3.7.1"
  }
 },
 "nbformat": 4,
 "nbformat_minor": 2
}
