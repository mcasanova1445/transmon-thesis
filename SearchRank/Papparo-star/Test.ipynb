{
 "cells": [
  {
   "cell_type": "code",
   "execution_count": 3,
   "metadata": {},
   "outputs": [],
   "source": [
    "import matplotlib.pyplot as plt\n",
    "import matplotlib as mpl\n",
    "import numpy as np\n",
    "from scipy.stats import norm\n",
    "from qutip import *\n",
    "import tgates\n",
    "import time"
   ]
  },
  {
   "cell_type": "code",
   "execution_count": 4,
   "metadata": {},
   "outputs": [],
   "source": [
    "def Kb1(psi0):\n",
    "    # theta target trigger_state\n",
    "    # \\[Theta]y00 -> 1.85806, \\[Theta]y10 -> \\ 2.48274, \\[Theta]y11 -> 1.5708\n",
    "    thetay00 = 1.85806\n",
    "    thetay10 = 2.48274\n",
    "    thetay11 = 1.5708\n",
    "\n",
    "    res = tgates.X(psi0, 0)\n",
    "    res = tgates.X(res.states[-1], 1)\n",
    "\n",
    "    res = tgates.X(res.states[-1], 3)\n",
    "    res = tgates.CCCRy(res.states[-1], 0, 1, 3, 2, thetay00)\n",
    "    res = tgates.X(res.states[-1], 3)\n",
    "\n",
    "    res = tgates.X(res.states[-1], 2)\n",
    "    res = tgates.CCCRy(res.states[-1], 0, 1, 2, 3, thetay10)\n",
    "    res = tgates.X(res.states[-1], 2)\n",
    "\n",
    "    res = tgates.CCCRy(res.states[-1], 0, 1, 2, 3, thetay11)\n",
    "\n",
    "    res = tgates.X(res.states[-1], 1)\n",
    "    return tgates.X(res.states[-1], 0)\n",
    "\n",
    "def Kb1d(psi0):\n",
    "    thetay00 = 1.85806\n",
    "    thetay10 = 2.48274\n",
    "    thetay11 = 1.5708\n",
    "\n",
    "    res = tgates.X(psi0, 0)\n",
    "    res = tgates.X(res.states[-1], 1)\n",
    "\n",
    "    res = tgates.CCCRy(res.states[-1], 0, 1, 2, 3, -thetay11)\n",
    "\n",
    "    res = tgates.X(res.states[-1], 2)\n",
    "    res = tgates.CCCRy(res.states[-1], 0, 1, 2, 3, -thetay10)\n",
    "    res = tgates.X(res.states[-1], 2)\n",
    "\n",
    "    res = tgates.X(res.states[-1], 3)\n",
    "    res = tgates.CCCRy(res.states[-1], 0, 1, 3, 2, -thetay00)\n",
    "    res = tgates.X(res.states[-1], 3)\n",
    "\n",
    "    res = tgates.X(res.states[-1], 1)\n",
    "    return tgates.X(res.states[-1], 0)\n",
    "\n",
    "def Kb2(psi0):\n",
    "    # \\[Theta]y00 -> 0.554811, \\[Theta]y10 -> \\ 0.405465, \\[Theta]y11 -> 1.5708\n",
    "    thetay00 = 0.554811\n",
    "    thetay10 = 0.405465\n",
    "    thetay11 = 1.5708\n",
    "\n",
    "    res = tgates.X(psi0, 3)\n",
    "    res = tgates.CRy(res.states[-1], 3, 2, thetay00)\n",
    "    res = tgates.X(res.states[-1], 3)\n",
    "\n",
    "    res = tgates.X(res.states[-1], 2)\n",
    "    res = tgates.CRy(res.states[-1], 2, 3, thetay10)\n",
    "    res = tgates.X(res.states[-1], 2)\n",
    "\n",
    "    res = tgates.CRy(res.states[-1], 2, 3, thetay11)\n",
    "\n",
    "\n",
    "    res = tgates.X(res.states[-1], 0)\n",
    "    res = tgates.X(res.states[-1], 1)\n",
    "\n",
    "    res = tgates.CCCRy(res.states[-1], 0, 1, 2, 3, -thetay11)\n",
    "\n",
    "    res = tgates.X(res.states[-1], 2)\n",
    "    res = tgates.CCCRy(res.states[-1], 0, 1, 2, 3, -thetay10)\n",
    "    res = tgates.X(res.states[-1], 2)\n",
    "\n",
    "    res = tgates.X(res.states[-1], 3)\n",
    "    res = tgates.CCCRy(res.states[-1], 0, 1, 3, 2, -thetay00)\n",
    "    res = tgates.X(res.states[-1], 3)\n",
    "\n",
    "    res = tgates.X(res.states[-1], 1)\n",
    "    return tgates.X(res.states[-1], 0)\n",
    "\n",
    "def Kb2d(psi0):\n",
    "    thetay00 = 0.554811\n",
    "    thetay10 = 0.405465\n",
    "    thetay11 = 1.5708\n",
    "\n",
    "    res = tgates.X(psi0, 0)\n",
    "    res = tgates.X(res.states[-1], 1)\n",
    "\n",
    "    res = tgates.X(res.states[-1], 3)\n",
    "    res = tgates.CCCRy(res.states[-1], 0, 1, 3, 2, thetay00)\n",
    "    res = tgates.X(res.states[-1], 3)\n",
    "\n",
    "    res = tgates.X(res.states[-1], 2)\n",
    "    res = tgates.CCCRy(res.states[-1], 0, 1, 2, 3, thetay10)\n",
    "    res = tgates.X(res.states[-1], 2)\n",
    "\n",
    "    res = tgates.CCCRy(res.states[-1], 0, 1, 2, 3, thetay11)\n",
    "\n",
    "    res = tgates.X(res.states[-1], 1)\n",
    "    res = tgates.X(res.states[-1], 0)\n",
    "\n",
    "\n",
    "    res = tgates.CRy(res.states[-1], 2, 3, -thetay11)\n",
    "\n",
    "    res = tgates.X(res.states[-1], 2)\n",
    "    res = tgates.CRy(res.states[-1], 2, 3, -thetay10)\n",
    "    res = tgates.X(res.states[-1], 2)\n",
    "\n",
    "    res = tgates.X(res.states[-1], 3)\n",
    "    res = tgates.CRy(res.states[-1], 3, 2, -thetay00)\n",
    "    return tgates.X(res.states[-1], 3)\n"
   ]
  },
  {
   "cell_type": "code",
   "execution_count": 5,
   "metadata": {},
   "outputs": [],
   "source": [
    "psi0 = tensor(basis(2,0), basis(2,0), basis(2,0), basis(2,0))"
   ]
  },
  {
   "cell_type": "code",
   "execution_count": 6,
   "metadata": {},
   "outputs": [],
   "source": [
    "res1 = tgates.H(psi0,0)\n",
    "res2 = tgates.H(res1.states[-1],1)"
   ]
  },
  {
   "cell_type": "code",
   "execution_count": 8,
   "metadata": {},
   "outputs": [
    {
     "data": {
      "text/latex": [
       "Quantum object: dims = [[2, 2, 2, 2], [1, 1, 1, 1]], shape = (16, 1), type = ket\\begin{equation*}\\left(\\begin{array}{*{11}c}(-0.067+0.070j)\\\\(-0.197+0.203j)\\\\(-0.196+0.201j)\\\\(-0.196+0.202j)\\\\(-0.351+0.358j)\\\\\\vdots\\\\(-1.547\\times10^{-04}+3.856\\times10^{-04}j)\\\\(-0.354+0.347j)\\\\(-4.406\\times10^{-04}+6.784\\times10^{-04}j)\\\\(-3.397\\times10^{-04}-6.637\\times10^{-04}j)\\\\(-1.085\\times10^{-04}+4.419\\times10^{-04}j)\\\\\\end{array}\\right)\\end{equation*}"
      ],
      "text/plain": [
       "Quantum object: dims = [[2, 2, 2, 2], [1, 1, 1, 1]], shape = (16, 1), type = ket\n",
       "Qobj data =\n",
       "[[-6.66190019e-02+7.04375094e-02j]\n",
       " [-1.97146574e-01+2.02935577e-01j]\n",
       " [-1.96170355e-01+2.01428230e-01j]\n",
       " [-1.95922354e-01+2.02002502e-01j]\n",
       " [-3.51106723e-01+3.58002689e-01j]\n",
       " [ 2.62362820e-05-1.41526700e-04j]\n",
       " [ 2.92032521e-04-4.67166791e-04j]\n",
       " [-1.64771555e-04+1.22879123e-04j]\n",
       " [-3.58196067e-01+3.55751161e-01j]\n",
       " [ 5.54854615e-04-4.24804040e-04j]\n",
       " [ 2.05898518e-04-3.90965402e-04j]\n",
       " [-1.54721213e-04+3.85637460e-04j]\n",
       " [-3.54466993e-01+3.46914210e-01j]\n",
       " [-4.40601903e-04+6.78396588e-04j]\n",
       " [-3.39716769e-04-6.63694681e-04j]\n",
       " [-1.08465350e-04+4.41854837e-04j]]"
      ]
     },
     "execution_count": 8,
     "metadata": {},
     "output_type": "execute_result"
    }
   ],
   "source": [
    "#res3 = Kb1(res2.states[-1])\n",
    "res3.states[-1]"
   ]
  },
  {
   "cell_type": "code",
   "execution_count": 9,
   "metadata": {},
   "outputs": [
    {
     "name": "stdout",
     "output_type": "stream",
     "text": [
      "[[0.09695119]]\n",
      "[[0.28293042]]\n",
      "[[0.28116924]]\n",
      "[[0.28140821]]\n",
      "[[0.50143978]]\n",
      "[[0.00014394]]\n",
      "[[0.00055093]]\n",
      "[[0.00020555]]\n",
      "[[0.50483989]]\n",
      "[[0.0006988]]\n",
      "[[0.00044187]]\n",
      "[[0.00041552]]\n",
      "[[0.49598016]]\n",
      "[[0.00080892]]\n",
      "[[0.00074559]]\n",
      "[[0.00045497]]\n"
     ]
    }
   ],
   "source": [
    "for i in range(16):\n",
    "    print(np.abs(res3.states[-1][i]))"
   ]
  },
  {
   "cell_type": "code",
   "execution_count": 10,
   "metadata": {},
   "outputs": [
    {
     "data": {
      "text/latex": [
       "Quantum object: dims = [[2, 2, 2, 2], [1, 1, 1, 1]], shape = (16, 1), type = ket\\begin{equation*}\\left(\\begin{array}{*{11}c}(0.097-0.003j)\\\\(0.281-0.006j)\\\\(0.278-0.006j)\\\\(0.279-0.005j)\\\\(0.474-0.009j)\\\\\\vdots\\\\(0.099+8.216\\times10^{-04}j)\\\\(0.464+0.007j)\\\\(0.097+0.001j)\\\\(0.095+0.003j)\\\\(0.097+0.003j)\\\\\\end{array}\\right)\\end{equation*}"
      ],
      "text/plain": [
       "Quantum object: dims = [[2, 2, 2, 2], [1, 1, 1, 1]], shape = (16, 1), type = ket\n",
       "Qobj data =\n",
       "[[0.097194  -3.45599088e-03j]\n",
       " [0.28085724-6.44037965e-03j]\n",
       " [0.27802407-6.25659738e-03j]\n",
       " [0.27896239-5.27230932e-03j]\n",
       " [0.47418272-8.88216789e-03j]\n",
       " [0.09790542-1.55066008e-03j]\n",
       " [0.09660101-1.81657067e-03j]\n",
       " [0.09747895-9.52794187e-04j]\n",
       " [0.48088155+2.08823424e-03j]\n",
       " [0.09782506+6.80794204e-05j]\n",
       " [0.09814121+5.83371120e-04j]\n",
       " [0.09912429+8.21556020e-04j]\n",
       " [0.4635378 +7.46385330e-03j]\n",
       " [0.0974927 +1.04771497e-03j]\n",
       " [0.09510781+2.64436789e-03j]\n",
       " [0.0965052 +2.54330108e-03j]]"
      ]
     },
     "execution_count": 10,
     "metadata": {},
     "output_type": "execute_result"
    }
   ],
   "source": [
    "res4 = Kb2(res3.states[-1])\n",
    "res4.states[-1]"
   ]
  },
  {
   "cell_type": "code",
   "execution_count": 11,
   "metadata": {},
   "outputs": [
    {
     "name": "stdout",
     "output_type": "stream",
     "text": [
      "[[0.09725542]]\n",
      "[[0.28093107]]\n",
      "[[0.27809446]]\n",
      "[[0.27901221]]\n",
      "[[0.4742659]]\n",
      "[[0.0979177]]\n",
      "[[0.09661809]]\n",
      "[[0.09748361]]\n",
      "[[0.48088608]]\n",
      "[[0.09782508]]\n",
      "[[0.09814294]]\n",
      "[[0.09912769]]\n",
      "[[0.46359789]]\n",
      "[[0.09749833]]\n",
      "[[0.09514456]]\n",
      "[[0.09653871]]\n"
     ]
    }
   ],
   "source": [
    "for i in range(16):\n",
    "    print(abs(res4.states[-1][i]))"
   ]
  },
  {
   "cell_type": "code",
   "execution_count": null,
   "metadata": {},
   "outputs": [],
   "source": []
  }
 ],
 "metadata": {
  "kernelspec": {
   "display_name": "Python 3",
   "language": "python",
   "name": "python3"
  },
  "language_info": {
   "codemirror_mode": {
    "name": "ipython",
    "version": 3
   },
   "file_extension": ".py",
   "mimetype": "text/x-python",
   "name": "python",
   "nbconvert_exporter": "python",
   "pygments_lexer": "ipython3",
   "version": "3.7.0"
  }
 },
 "nbformat": 4,
 "nbformat_minor": 2
}
