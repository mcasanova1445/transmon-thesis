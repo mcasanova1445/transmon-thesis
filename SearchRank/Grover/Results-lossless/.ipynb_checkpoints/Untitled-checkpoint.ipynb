{
 "cells": [
  {
   "cell_type": "code",
   "execution_count": 1,
   "metadata": {},
   "outputs": [],
   "source": [
    "%matplotlib inline\n",
    "import numpy as np\n",
    "import matplotlib.pyplot as plt\n",
    "from qutip import *"
   ]
  },
  {
   "cell_type": "code",
   "execution_count": 2,
   "metadata": {},
   "outputs": [
    {
     "name": "stdout",
     "output_type": "stream",
     "text": [
      "Loaded Result object:\n",
      "Result object with sesolve data.\n",
      "--------------------------------\n",
      "states = True\n",
      "num_collapse = 0\n",
      "Loaded Result object:\n",
      "Result object with sesolve data.\n",
      "--------------------------------\n",
      "states = True\n",
      "num_collapse = 0\n",
      "Loaded Result object:\n",
      "Result object with sesolve data.\n",
      "--------------------------------\n",
      "states = True\n",
      "num_collapse = 0\n",
      "Loaded Result object:\n",
      "Result object with sesolve data.\n",
      "--------------------------------\n",
      "states = True\n",
      "num_collapse = 0\n",
      "Loaded Result object:\n",
      "Result object with sesolve data.\n",
      "--------------------------------\n",
      "states = True\n",
      "num_collapse = 0\n",
      "Loaded Result object:\n",
      "Result object with sesolve data.\n",
      "--------------------------------\n",
      "states = True\n",
      "num_collapse = 0\n",
      "Loaded Result object:\n",
      "Result object with sesolve data.\n",
      "--------------------------------\n",
      "states = True\n",
      "num_collapse = 0\n"
     ]
    }
   ],
   "source": [
    "res = []\n",
    "\n",
    "for i in range(7): #7\n",
    "    res.append(qload('it_{}'.format(i+1)))"
   ]
  },
  {
   "cell_type": "code",
   "execution_count": 23,
   "metadata": {},
   "outputs": [
    {
     "data": {
      "text/plain": [
       "array([[0.00524138-0.76875489j]])"
      ]
     },
     "execution_count": 23,
     "metadata": {},
     "output_type": "execute_result"
    }
   ],
   "source": [
    "np.abs(res[3].states[-1][15][0,0])**2\n",
    "res[3].states[-1][15]"
   ]
  },
  {
   "cell_type": "code",
   "execution_count": 4,
   "metadata": {},
   "outputs": [],
   "source": [
    "a = [[],[],[],[],[],[],[],[],[],[],[],[],[],[],[],[]]\n",
    "\n",
    "for i in range(2):\n",
    "    for j in range(2):\n",
    "        for k in range(2):\n",
    "            for l in range(2):\n",
    "                for m in range(7): #7\n",
    "                    a[8*i+4*j+2*k+l].append(np.abs(res[m].states[-1][8*i+4*j+2*k+l][0,0]))\n"
   ]
  },
  {
   "cell_type": "code",
   "execution_count": 19,
   "metadata": {},
   "outputs": [
    {
     "name": "stdout",
     "output_type": "stream",
     "text": [
      "0.9999999999999993\n"
     ]
    }
   ],
   "source": [
    "sum = 0\n",
    "for i in range(16):\n",
    "    sum += (a[i][-1])**2\n",
    "    \n",
    "print(sum)"
   ]
  },
  {
   "cell_type": "code",
   "execution_count": 17,
   "metadata": {},
   "outputs": [
    {
     "data": {
      "image/png": "[encoded data removed]",
      "text/plain": [
       "<Figure size 432x288 with 1 Axes>"
      ]
     },
     "metadata": {},
     "output_type": "display_data"
    }
   ],
   "source": [
    "for i in range(16):\n",
    "    if i != 15:\n",
    "        plt.plot(np.abs([1/np.sqrt(16)]+a[i])**2, c='k')\n",
    "    else:\n",
    "        plt.plot(np.abs([1/np.sqrt(16)]+a[i])**2, c='b')"
   ]
  },
  {
   "cell_type": "code",
   "execution_count": 18,
   "metadata": {},
   "outputs": [
    {
     "data": {
      "text/plain": [
       "[<matplotlib.lines.Line2D at 0x7f27ff0f27f0>]"
      ]
     },
     "execution_count": 18,
     "metadata": {},
     "output_type": "execute_result"
    },
    {
     "data": {
      "image/png": "[encoded data removed]",
      "text/plain": [
       "<Figure size 432x288 with 1 Axes>"
      ]
     },
     "metadata": {},
     "output_type": "display_data"
    }
   ],
   "source": [
    "plt.plot(np.abs([1/np.sqrt(16)]+a[0])**2, c='r')\n",
    "plt.plot(np.abs([1/np.sqrt(16)]+a[-1])**2, c='b')"
   ]
  },
  {
   "cell_type": "code",
   "execution_count": null,
   "metadata": {},
   "outputs": [],
   "source": []
  }
 ],
 "metadata": {
  "kernelspec": {
   "display_name": "Python 3",
   "language": "python",
   "name": "python3"
  },
  "language_info": {
   "codemirror_mode": {
    "name": "ipython",
    "version": 3
   },
   "file_extension": ".py",
   "mimetype": "text/x-python",
   "name": "python",
   "nbconvert_exporter": "python",
   "pygments_lexer": "ipython3",
   "version": "3.7.0"
  }
 },
 "nbformat": 4,
 "nbformat_minor": 2
}
