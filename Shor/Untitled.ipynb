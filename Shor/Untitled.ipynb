{
 "cells": [
  {
   "cell_type": "code",
   "execution_count": 1,
   "metadata": {},
   "outputs": [],
   "source": [
    "%matplotlib inline\n",
    "import numpy as np\n",
    "import matplotlib.pyplot as plt\n",
    "from qutip import *\n",
    "import tgates8"
   ]
  },
  {
   "cell_type": "code",
   "execution_count": 2,
   "metadata": {},
   "outputs": [],
   "source": [
    "psi0 = tensor(basis(2,0),\n",
    "             basis(2,0),\n",
    "             basis(2,0),\n",
    "             basis(2,0),\n",
    "             basis(2,0),\n",
    "             basis(2,0),\n",
    "             basis(2,0),\n",
    "             basis(2,0))"
   ]
  },
  {
   "cell_type": "code",
   "execution_count": null,
   "metadata": {},
   "outputs": [],
   "source": [
    "res = tgates8.CCCCNOT(psi0, 0, 1, 2, 3, 7)"
   ]
  },
  {
   "cell_type": "code",
   "execution_count": 6,
   "metadata": {},
   "outputs": [
    {
     "data": {
      "text/latex": [
       "Quantum object: dims = [[2, 2], [2, 2]], shape = (4, 4), type = oper, isherm = True\\begin{equation*}\\left(\\begin{array}{*{11}c}0.472 & (0.004-0.031j) & (-0.009-0.150j) & (0.472+0.110j)\\\\(0.004+0.031j) & 0.032 & (0.022-0.133j) & (0.017+0.173j)\\\\(-0.009+0.150j) & (0.022+0.133j) & 0.023 & (3.765\\times10^{-04}+0.024j)\\\\(0.472-0.110j) & (0.017-0.173j) & (3.765\\times10^{-04}-0.024j) & 0.473\\\\\\end{array}\\right)\\end{equation*}"
      ],
      "text/plain": [
       "Quantum object: dims = [[2, 2], [2, 2]], shape = (4, 4), type = oper, isherm = True\n",
       "Qobj data =\n",
       "[[ 4.71920359e-01+0.j          3.55174150e-03-0.03068312j\n",
       "  -9.13261431e-03-0.14980527j  4.71931025e-01+0.11046903j]\n",
       " [ 3.55174150e-03+0.03068312j  3.16987624e-02+0.j\n",
       "   2.24484570e-02-0.13297602j  1.67871114e-02+0.17271622j]\n",
       " [-9.13261431e-03+0.14980527j  2.24484570e-02+0.13297602j\n",
       "   2.34946023e-02+0.j          3.76546707e-04+0.02396453j]\n",
       " [ 4.71931025e-01-0.11046903j  1.67871114e-02-0.17271622j\n",
       "   3.76546707e-04-0.02396453j  4.72886276e-01+0.j        ]]"
      ]
     },
     "execution_count": 6,
     "metadata": {},
     "output_type": "execute_result"
    }
   ],
   "source": [
    "ptrace(res.states[-1], [3,6])"
   ]
  },
  {
   "cell_type": "code",
   "execution_count": null,
   "metadata": {},
   "outputs": [],
   "source": []
  }
 ],
 "metadata": {
  "kernelspec": {
   "display_name": "Python 3",
   "language": "python",
   "name": "python3"
  },
  "language_info": {
   "codemirror_mode": {
    "name": "ipython",
    "version": 3
   },
   "file_extension": ".py",
   "mimetype": "text/x-python",
   "name": "python",
   "nbconvert_exporter": "python",
   "pygments_lexer": "ipython3",
   "version": "3.7.0"
  }
 },
 "nbformat": 4,
 "nbformat_minor": 2
}
