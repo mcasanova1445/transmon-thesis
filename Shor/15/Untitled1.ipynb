{
 "cells": [
  {
   "cell_type": "code",
   "execution_count": 9,
   "metadata": {},
   "outputs": [],
   "source": [
    "%matplotlib inline\n",
    "import numpy as np\n",
    "import matplotlib.pyplot as plt\n",
    "from qutip import *"
   ]
  },
  {
   "cell_type": "code",
   "execution_count": 10,
   "metadata": {},
   "outputs": [
    {
     "name": "stdout",
     "output_type": "stream",
     "text": [
      "Loaded Result object:\n",
      "Result object with sesolve data.\n",
      "--------------------------------\n",
      "states = True\n",
      "num_collapse = 0\n"
     ]
    }
   ],
   "source": [
    "res = qload('rp_6')"
   ]
  },
  {
   "cell_type": "code",
   "execution_count": 11,
   "metadata": {},
   "outputs": [],
   "source": [
    "fres = ptrace(res.states[-1], [0,1,2,3])"
   ]
  },
  {
   "cell_type": "code",
   "execution_count": 12,
   "metadata": {},
   "outputs": [],
   "source": [
    "a = [0]*16\n",
    "for i in range(2):\n",
    "    for j in range(2):\n",
    "        for k in range(2):\n",
    "            for l in range(2):\n",
    "                a[8*i+4*j+2*k+l] = expect(fres, tensor(basis(2,i),basis(2,j),basis(2,k),basis(2,l)))"
   ]
  },
  {
   "cell_type": "code",
   "execution_count": 13,
   "metadata": {},
   "outputs": [
    {
     "data": {
      "text/plain": [
       "(0, 0.3)"
      ]
     },
     "execution_count": 13,
     "metadata": {},
     "output_type": "execute_result"
    },
    {
     "data": {
      "image/png": "[encoded data removed]",
      "text/plain": [
       "<Figure size 864x576 with 1 Axes>"
      ]
     },
     "metadata": {
      "needs_background": "light"
     },
     "output_type": "display_data"
    }
   ],
   "source": [
    "#a = [0.25, 3.49075e-34, 7.70372e-34, 3.00927e-34, 0.25, 3.00927e-34, 7.70372e-34, 3.49075e-34, 0.25, 3.49075e-34, 7.70372e-34, 3.00927e-34, 0.25, 3.00927e-34, 7.70372e-34, 3.49075e-34]\n",
    "fig, axes = plt.subplots(1, 1, sharex=True, figsize=(12,8))\n",
    "axes.plot([i/16 for i in range(16)],a, 'ro', c='b')\n",
    "axes.set_xlabel('Fracción de fase')\n",
    "axes.set_ylabel('Probabilidad')\n",
    "axes.set_ylim(0,0.3)\n"
   ]
  },
  {
   "cell_type": "code",
   "execution_count": 6,
   "metadata": {},
   "outputs": [
    {
     "data": {
      "text/plain": [
       "[0.18265120316248348,\n",
       " 0.030148605498127055,\n",
       " 0.0117556126084082,\n",
       " 0.027068348030583445,\n",
       " 0.17700021614033762,\n",
       " 0.028491802773181096,\n",
       " 0.011881438650927171,\n",
       " 0.028510782606300467,\n",
       " 0.17917422966710292,\n",
       " 0.029450553218688075,\n",
       " 0.012081135256705483,\n",
       " 0.027710388875941253,\n",
       " 0.18489803932544116,\n",
       " 0.02936951642045106,\n",
       " 0.012035158723792341,\n",
       " 0.027772969041529337]"
      ]
     },
     "execution_count": 6,
     "metadata": {},
     "output_type": "execute_result"
    }
   ],
   "source": [
    "a"
   ]
  },
  {
   "cell_type": "code",
   "execution_count": 9,
   "metadata": {},
   "outputs": [
    {
     "data": {
      "text/plain": [
       "array(Quantum object: dims = [[2, 2, 2, 2, 2, 2, 2, 2], [1, 1, 1, 1, 1, 1, 1, 1]], shape = (256, 1), type = ket\n",
       "Qobj data =\n",
       "[[ 3.24431432e-02-2.11019772e-02j]\n",
       " [ 1.02238627e-01+1.24186877e-01j]\n",
       " [-1.45872508e-02+4.96195402e-03j]\n",
       " [-7.81068904e-03+7.09523404e-03j]\n",
       " [ 7.89289508e-02+1.97589772e-01j]\n",
       " [-1.74289260e-02-6.61375235e-04j]\n",
       " [-1.66469627e-02+3.29708049e-02j]\n",
       " [-7.98806725e-03+5.22655053e-03j]\n",
       " [-2.65665129e-02+9.93207704e-03j]\n",
       " [ 2.72681717e-01+5.71253089e-02j]\n",
       " [ 4.82214712e-03+1.10914123e-02j]\n",
       " [ 2.47704819e-03+1.76146365e-02j]\n",
       " [-5.73127575e-03+9.45364516e-03j]\n",
       " [ 1.74563760e-03+1.90200848e-02j]\n",
       " [ 1.67259537e-01-2.30814665e-02j]\n",
       " [-2.24126180e-03+3.48766354e-03j]\n",
       " [ 4.41642019e-03+2.18451914e-02j]\n",
       " [-5.80938172e-02-1.17904207e-02j]\n",
       " [ 2.65251042e-03-5.24678821e-03j]\n",
       " [-2.26521884e-03-7.29353557e-03j]\n",
       " [-4.93872898e-02-5.07250577e-02j]\n",
       " [ 1.20899822e-02-9.78980372e-03j]\n",
       " [ 1.52013976e-02-1.42193034e-02j]\n",
       " [-2.73932038e-03-1.20902479e-03j]\n",
       " [ 1.47753762e-02+2.15513493e-03j]\n",
       " [-9.38437851e-02-6.06473173e-02j]\n",
       " [ 2.21025588e-03-7.32968668e-03j]\n",
       " [ 3.36388018e-03-1.38997208e-02j]\n",
       " [ 7.20764199e-03-2.08755256e-03j]\n",
       " [ 1.20895844e-03-4.65499102e-03j]\n",
       " [-2.59213299e-02-8.07315917e-02j]\n",
       " [-5.29979789e-03-8.99123224e-03j]\n",
       " [ 7.84008183e-03+2.81311848e-03j]\n",
       " [-5.85863830e-02-3.40458264e-02j]\n",
       " [ 6.11675268e-04-9.65960619e-04j]\n",
       " [ 1.40205268e-04-4.07909503e-03j]\n",
       " [ 2.10364419e-05+1.29817745e-03j]\n",
       " [ 2.95498593e-03+1.19362151e-03j]\n",
       " [ 1.35713901e-03-4.50325557e-04j]\n",
       " [ 3.26442441e-03+1.77182351e-03j]\n",
       " [ 7.91816112e-04+3.91951975e-03j]\n",
       " [-1.30147863e-02-4.78718682e-03j]\n",
       " [ 1.07890983e-03-6.37235340e-03j]\n",
       " [-1.66899547e-03-4.15538038e-03j]\n",
       " [ 6.19561748e-03-5.55077986e-04j]\n",
       " [ 2.33533008e-04-1.53531579e-03j]\n",
       " [-5.70778698e-02-5.88743301e-02j]\n",
       " [ 3.71172112e-03-1.82633029e-04j]\n",
       " [ 1.74692822e-03-1.88658529e-02j]\n",
       " [-1.25335029e-02-6.17552570e-02j]\n",
       " [-4.68834126e-03+4.48119124e-04j]\n",
       " [ 3.04165295e-03+5.22675219e-04j]\n",
       " [ 8.94724706e-02+5.34445807e-02j]\n",
       " [-3.07136185e-03+5.40117622e-03j]\n",
       " [-5.31108660e-03+7.31560766e-03j]\n",
       " [ 6.41061140e-03+6.22118295e-03j]\n",
       " [-5.52459320e-03-1.58815760e-03j]\n",
       " [ 2.19972441e-02+9.24437489e-02j]\n",
       " [ 4.12710613e-03-3.46505576e-03j]\n",
       " [-4.28237158e-03-3.48443275e-04j]\n",
       " [ 5.09409735e-03+5.53835820e-03j]\n",
       " [-4.46491415e-03+3.30492700e-03j]\n",
       " [-4.10479621e-02-2.47476631e-02j]\n",
       " [ 1.21789810e-02+1.27782420e-03j]\n",
       " [-2.39899333e-02-3.27997485e-04j]\n",
       " [ 1.00954532e-01+1.19728506e-01j]\n",
       " [ 1.28190993e-02-1.83356551e-03j]\n",
       " [-8.14937348e-03+9.65545937e-03j]\n",
       " [-7.53773282e-02-1.95097027e-01j]\n",
       " [ 3.35479599e-03-9.55414844e-03j]\n",
       " [ 1.61872740e-02-1.64045104e-02j]\n",
       " [-2.99261777e-03+1.42397143e-03j]\n",
       " [ 1.62911122e-02+2.02219483e-02j]\n",
       " [ 5.16435561e-02-2.70750026e-01j]\n",
       " [-6.30330690e-03+9.33537976e-03j]\n",
       " [ 1.52994212e-02-1.28782400e-03j]\n",
       " [-4.31392447e-03-7.86590476e-03j]\n",
       " [ 1.33725767e-02-2.37420551e-03j]\n",
       " [ 2.34188670e-02+1.70079621e-01j]\n",
       " [-5.92290964e-03+1.99037876e-02j]\n",
       " [ 1.78999749e-03-1.27558796e-02j]\n",
       " [-6.12507886e-02-1.15077600e-02j]\n",
       " [-2.86051274e-03+3.88692057e-03j]\n",
       " [-2.96213243e-03-8.52199708e-03j]\n",
       " [ 4.84337101e-02+5.28657517e-02j]\n",
       " [ 1.02534673e-03+6.85537087e-03j]\n",
       " [-3.56407034e-03+1.39478459e-02j]\n",
       " [-1.96323756e-03-3.70896419e-03j]\n",
       " [-1.31786668e-02-6.60857674e-03j]\n",
       " [-5.75942374e-02+9.04335199e-02j]\n",
       " [ 3.86320447e-03+1.89986774e-03j]\n",
       " [-1.19803203e-02-4.12834900e-03j]\n",
       " [ 1.22946498e-03+7.66719965e-03j]\n",
       " [-4.25852691e-03+4.51304547e-04j]\n",
       " [ 7.83158224e-02-2.74467476e-02j]\n",
       " [-1.02448158e-03-8.08967470e-03j]\n",
       " [-5.69865622e-03+8.07414730e-03j]\n",
       " [-5.80881209e-02-3.40693675e-02j]\n",
       " [-6.04158211e-05+4.70102169e-04j]\n",
       " [-1.67746746e-04-3.26756981e-03j]\n",
       " [-1.89527659e-03-3.75576220e-04j]\n",
       " [ 7.41312604e-04-5.38172541e-04j]\n",
       " [ 2.20728488e-03-4.32021665e-03j]\n",
       " [-5.12912274e-04-1.04847579e-04j]\n",
       " [ 3.43387446e-04-4.20872604e-03j]\n",
       " [-2.33072833e-03+7.81405261e-03j]\n",
       " [ 5.26095129e-03+1.27777405e-03j]\n",
       " [-2.98608640e-03-7.24923300e-04j]\n",
       " [ 1.92726164e-03+4.69234001e-03j]\n",
       " [-2.33686130e-03+1.71322340e-03j]\n",
       " [ 5.99449625e-02-5.80664204e-02j]\n",
       " [-1.92347336e-03+9.13764348e-03j]\n",
       " [-3.17452340e-03+1.42943206e-02j]\n",
       " [-8.97880238e-03-6.09778297e-02j]\n",
       " [ 3.55662411e-03-1.05045156e-04j]\n",
       " [ 2.36781537e-03+2.09125248e-03j]\n",
       " [-9.25853172e-02-5.45889433e-02j]\n",
       " [-2.91675529e-03+7.32837080e-03j]\n",
       " [ 5.26278318e-03-1.72292993e-02j]\n",
       " [ 1.05355035e-03+4.36032149e-03j]\n",
       " [-5.32322899e-03+3.38978342e-03j]\n",
       " [ 9.54100320e-02-2.38335421e-02j]\n",
       " [ 3.82165673e-03+1.48612259e-03j]\n",
       " [ 1.13276978e-03+4.41412712e-04j]\n",
       " [-5.47328332e-03+2.09339193e-03j]\n",
       " [ 1.05345980e-03+3.52358951e-03j]\n",
       " [ 2.74635006e-02-4.15962646e-02j]\n",
       " [ 8.06728868e-03+1.37578465e-02j]\n",
       " [ 2.21006496e-02-1.22035463e-02j]\n",
       " [ 1.00590082e-01+1.13151451e-01j]\n",
       " [-8.03277421e-03+6.60826171e-04j]\n",
       " [-8.23236320e-03+6.93019472e-03j]\n",
       " [ 7.69967614e-02+1.94126036e-01j]\n",
       " [-1.39725194e-02-3.45444977e-03j]\n",
       " [-3.31670789e-02+1.20125997e-02j]\n",
       " [-1.47675880e-03+6.72546321e-03j]\n",
       " [ 1.11744921e-02-2.15371439e-02j]\n",
       " [-2.75556248e-01-4.75415805e-02j]\n",
       " [-6.17480692e-03-5.60149427e-03j]\n",
       " [-4.49127827e-03-2.00237314e-02j]\n",
       " [ 7.11954991e-04+3.24414788e-05j]\n",
       " [-3.27004197e-03-1.65557707e-02j]\n",
       " [-1.72070587e-01+2.54405633e-02j]\n",
       " [-2.20414612e-02+4.97103595e-03j]\n",
       " [ 7.39300689e-04+1.88552953e-02j]\n",
       " [-5.97720216e-02-5.51417593e-03j]\n",
       " [ 9.70385586e-04-3.31119091e-03j]\n",
       " [-4.08082684e-03-6.79847854e-03j]\n",
       " [-4.93468777e-02-5.10662906e-02j]\n",
       " [ 1.09579874e-02-8.75123556e-03j]\n",
       " [ 4.66769126e-03-1.22227076e-03j]\n",
       " [ 3.16353214e-03-4.30160008e-03j]\n",
       " [ 1.36629002e-03+4.60393490e-03j]\n",
       " [ 9.81955357e-02+5.74190311e-02j]\n",
       " [-2.91957524e-03+5.13310366e-03j]\n",
       " [-4.44502966e-03+1.04568377e-02j]\n",
       " [-4.94029015e-03+3.74081065e-04j]\n",
       " [-2.79955766e-03+3.86883993e-03j]\n",
       " [ 2.93358784e-02+7.79345261e-02j]\n",
       " [-2.32205832e-03+3.43439129e-03j]\n",
       " [ 1.14651901e-02+2.98044773e-03j]\n",
       " [-5.83128633e-02-3.40070932e-02j]\n",
       " [-1.19695852e-03+8.11533952e-04j]\n",
       " [-5.78893484e-04-3.25730034e-03j]\n",
       " [ 1.14475775e-03+1.70412251e-03j]\n",
       " [ 2.64845757e-03+8.42087983e-04j]\n",
       " [ 2.70234197e-03+8.78696485e-03j]\n",
       " [-4.45413269e-04-3.35088272e-03j]\n",
       " [ 6.35519433e-04-2.78831134e-03j]\n",
       " [ 1.26018100e-02+3.02467697e-03j]\n",
       " [-2.62947646e-03+4.82693195e-03j]\n",
       " [-3.49804439e-04+5.10897988e-04j]\n",
       " [-4.50990228e-03+4.02218991e-03j]\n",
       " [ 1.28631269e-03+6.83154718e-04j]\n",
       " [ 5.72104637e-02+6.05879948e-02j]\n",
       " [-8.58485785e-03-6.61632394e-05j]\n",
       " [-4.50108591e-03-1.66532739e-02j]\n",
       " [-9.68803171e-03-6.43437722e-02j]\n",
       " [-5.38854386e-03+4.59682206e-03j]\n",
       " [ 1.66753699e-03+1.73262288e-03j]\n",
       " [ 8.88747537e-02+5.52416411e-02j]\n",
       " [-1.88547798e-03+3.36643404e-03j]\n",
       " [ 5.43270829e-03+1.82955577e-02j]\n",
       " [ 3.20408091e-03-6.97924334e-04j]\n",
       " [ 6.27047705e-03-2.81294521e-03j]\n",
       " [-2.26862305e-02-9.32823032e-02j]\n",
       " [-2.50176843e-03+9.75975625e-04j]\n",
       " [ 2.83075060e-03-2.78653034e-03j]\n",
       " [-1.12811546e-03-1.97393218e-03j]\n",
       " [ 4.22024913e-03-1.27919654e-03j]\n",
       " [ 4.16686348e-02+2.62433598e-02j]\n",
       " [-3.20388258e-04+6.81494960e-03j]\n",
       " [-1.54549534e-02+9.00110519e-03j]\n",
       " [ 9.33394937e-02+1.22034567e-01j]\n",
       " [ 1.07893904e-02-7.71254449e-03j]\n",
       " [-7.31670989e-03+5.00517107e-03j]\n",
       " [-7.65493962e-02-1.97449248e-01j]\n",
       " [ 3.31024250e-03-7.57087326e-03j]\n",
       " [ 3.34153963e-02-2.99924577e-02j]\n",
       " [-4.40298768e-03+1.09014353e-02j]\n",
       " [-1.17082324e-02-7.71347740e-03j]\n",
       " [-5.42704223e-02+2.81920363e-01j]\n",
       " [ 1.08901518e-02-4.52191778e-03j]\n",
       " [-1.74616223e-02-1.02630300e-03j]\n",
       " [ 7.23260034e-03-4.21595374e-03j]\n",
       " [-1.66926122e-02-3.68845781e-04j]\n",
       " [-2.39170831e-02-1.70350605e-01j]\n",
       " [-1.92727730e-02-1.65141675e-02j]\n",
       " [-1.18730122e-03-9.15949956e-03j]\n",
       " [-5.78451488e-02-1.01749602e-02j]\n",
       " [-5.73292543e-04+4.95599595e-03j]\n",
       " [-4.08155568e-03-5.57019023e-03j]\n",
       " [ 5.04031200e-02+5.00932827e-02j]\n",
       " [-6.90578359e-05+6.93723783e-03j]\n",
       " [-1.56019547e-02+1.81805101e-03j]\n",
       " [ 3.87874031e-04-2.27350645e-03j]\n",
       " [ 1.53182012e-03+5.36556080e-03j]\n",
       " [ 6.00372775e-02-9.67703434e-02j]\n",
       " [-8.27421768e-03-1.41455344e-03j]\n",
       " [ 9.72166999e-03-4.65322885e-04j]\n",
       " [-3.00749938e-03-4.87725473e-03j]\n",
       " [ 7.37923547e-03-1.17441616e-04j]\n",
       " [-7.96997041e-02+2.80432157e-02j]\n",
       " [-2.92756263e-03-3.52415805e-03j]\n",
       " [-5.57505441e-03+3.94341463e-03j]\n",
       " [-5.93459791e-02-3.46223057e-02j]\n",
       " [ 5.33027210e-04+4.04467575e-04j]\n",
       " [-2.18824918e-04-3.92018701e-03j]\n",
       " [-1.83374798e-03-1.52857641e-03j]\n",
       " [ 1.53624424e-03-6.66747407e-04j]\n",
       " [-6.60545079e-03-4.05926329e-03j]\n",
       " [ 3.44990530e-03-2.09768402e-03j]\n",
       " [ 4.40244428e-03-4.95469876e-03j]\n",
       " [ 2.58094818e-03-1.43892521e-02j]\n",
       " [-5.85073523e-03-2.18460239e-03j]\n",
       " [ 1.76126870e-03-3.74818277e-03j]\n",
       " [-3.65903160e-03-7.08193873e-03j]\n",
       " [ 3.40411913e-03-1.23530951e-03j]\n",
       " [-5.99058307e-02+5.60276664e-02j]\n",
       " [-2.10162474e-03-6.66487765e-03j]\n",
       " [ 6.48087757e-05+2.17214568e-02j]\n",
       " [-1.08346385e-02-6.29203556e-02j]\n",
       " [ 6.08863661e-03-2.68853888e-03j]\n",
       " [ 2.37015713e-03+3.80237773e-04j]\n",
       " [-9.06176305e-02-5.46590356e-02j]\n",
       " [-9.76805593e-04+6.95795453e-03j]\n",
       " [-6.26861470e-03-8.26105855e-03j]\n",
       " [ 8.26188576e-03+1.19453724e-04j]\n",
       " [ 5.09341614e-03+7.33449275e-04j]\n",
       " [-9.40447313e-02+2.18603144e-02j]\n",
       " [-1.00479960e-03-4.19215444e-03j]\n",
       " [-1.77228154e-03-4.08992470e-03j]\n",
       " [ 2.55274868e-03-5.60714147e-03j]\n",
       " [-6.45623812e-05-3.50909192e-03j]\n",
       " [-2.30383647e-02+4.15708464e-02j]\n",
       " [ 4.40610948e-03-5.87936195e-03j]], dtype=object)"
      ]
     },
     "execution_count": 9,
     "metadata": {},
     "output_type": "execute_result"
    }
   ],
   "source": [
    "np.array(res.states[-1])"
   ]
  },
  {
   "cell_type": "code",
   "execution_count": 11,
   "metadata": {},
   "outputs": [
    {
     "data": {
      "text/plain": [
       "0.7237236882953652"
      ]
     },
     "execution_count": 11,
     "metadata": {},
     "output_type": "execute_result"
    }
   ],
   "source": [
    "0.18265120316248348+0.17700021614033762+0.17917422966710292+0.18489803932544116"
   ]
  },
  {
   "cell_type": "code",
   "execution_count": null,
   "metadata": {},
   "outputs": [],
   "source": []
  }
 ],
 "metadata": {
  "kernelspec": {
   "display_name": "Python 3",
   "language": "python",
   "name": "python3"
  },
  "language_info": {
   "codemirror_mode": {
    "name": "ipython",
    "version": 3
   },
   "file_extension": ".py",
   "mimetype": "text/x-python",
   "name": "python",
   "nbconvert_exporter": "python",
   "pygments_lexer": "ipython3",
   "version": "3.7.1"
  }
 },
 "nbformat": 4,
 "nbformat_minor": 2
}
