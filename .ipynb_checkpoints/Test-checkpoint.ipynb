{
 "cells": [
  {
   "cell_type": "code",
   "execution_count": 1,
   "metadata": {
    "autoscroll": false,
    "ein.tags": "worksheet-0",
    "slideshow": {
     "slide_type": "-"
    }
   },
   "outputs": [],
   "source": [
    "%matplotlib inline\n",
    "import matplotlib.pyplot as plt\n",
    "import matplotlib as mpl\n",
    "import numpy as np\n",
    "from qutip import *\n",
    "import tgates"
   ]
  },
  {
   "cell_type": "code",
   "execution_count": 2,
   "metadata": {
    "autoscroll": false,
    "ein.tags": "worksheet-0",
    "slideshow": {
     "slide_type": "-"
    }
   },
   "outputs": [
    {
     "data": {
      "text/latex": [
       "Quantum object: dims = [[2, 2, 2, 2], [1, 1, 1, 1]], shape = (16, 1), type = ket\\begin{equation*}\\left(\\begin{array}{*{11}c}0.250\\\\0.250\\\\0.250\\\\0.250\\\\0.250\\\\\\vdots\\\\0.250\\\\0.250\\\\0.250\\\\0.250\\\\0.250\\\\\\end{array}\\right)\\end{equation*}"
      ],
      "text/plain": [
       "Quantum object: dims = [[2, 2, 2, 2], [1, 1, 1, 1]], shape = (16, 1), type = ket\n",
       "Qobj data =\n",
       "[[0.25]\n",
       " [0.25]\n",
       " [0.25]\n",
       " [0.25]\n",
       " [0.25]\n",
       " [0.25]\n",
       " [0.25]\n",
       " [0.25]\n",
       " [0.25]\n",
       " [0.25]\n",
       " [0.25]\n",
       " [0.25]\n",
       " [0.25]\n",
       " [0.25]\n",
       " [0.25]\n",
       " [0.25]]"
      ]
     },
     "execution_count": 2,
     "metadata": {},
     "output_type": "execute_result"
    }
   ],
   "source": [
    "'''\n",
    "psi0 = tensor(\n",
    "    basis(50,0),\n",
    "    (basis(2,0)+basis(2,1))/np.sqrt(2),\n",
    "    (basis(2,0)+basis(2,1))/np.sqrt(2),\n",
    "    (basis(2,0)+basis(2,1))/np.sqrt(2),\n",
    "    (basis(2,0)+basis(2,1))/np.sqrt(2))\n",
    "'''\n",
    "\n",
    "psi0 = tensor(\n",
    "    (basis(2,0)+basis(2,1))/np.sqrt(2),\n",
    "    (basis(2,0)+basis(2,1))/np.sqrt(2),\n",
    "    (basis(2,0)+basis(2,1))/np.sqrt(2),\n",
    "    (basis(2,0)+basis(2,1))/np.sqrt(2))\n",
    "\n",
    "psi0"
   ]
  },
  {
   "cell_type": "code",
   "execution_count": 5,
   "metadata": {},
   "outputs": [
    {
     "data": {
      "text/latex": [
       "Quantum object: dims = [[2, 2, 2, 2], [1, 1, 1, 1]], shape = (16, 1), type = ket\\begin{equation*}\\left(\\begin{array}{*{11}c}(-0.139+0.205j)\\\\(0.140-0.209j)\\\\(0.140-0.207j)\\\\(0.139-0.206j)\\\\(0.139-0.206j)\\\\\\vdots\\\\(0.139-0.208j)\\\\(0.138-0.208j)\\\\(0.138-0.208j)\\\\(0.138-0.208j)\\\\(0.136-0.208j)\\\\\\end{array}\\right)\\end{equation*}"
      ],
      "text/plain": [
       "Quantum object: dims = [[2, 2, 2, 2], [1, 1, 1, 1]], shape = (16, 1), type = ket\n",
       "Qobj data =\n",
       "[[-0.13903635+0.2054539j ]\n",
       " [ 0.14033228-0.20872011j]\n",
       " [ 0.1398721 -0.20665533j]\n",
       " [ 0.1388741 -0.20646547j]\n",
       " [ 0.13946494-0.20617673j]\n",
       " [ 0.14031474-0.20935229j]\n",
       " [ 0.14043732-0.20823744j]\n",
       " [ 0.13868713-0.20771862j]\n",
       " [ 0.13888333-0.20731741j]\n",
       " [ 0.13934727-0.20955659j]\n",
       " [ 0.13975701-0.20925553j]\n",
       " [ 0.13884085-0.20843365j]\n",
       " [ 0.13775778-0.20765128j]\n",
       " [ 0.13761897-0.20765737j]\n",
       " [ 0.13826644-0.20839371j]\n",
       " [ 0.13625225-0.20775984j]]"
      ]
     },
     "execution_count": 5,
     "metadata": {},
     "output_type": "execute_result"
    }
   ],
   "source": [
    "res = tgates.CCCP(psi0, 3, 2, 1, 0, np.pi, b = 0b00)\n",
    "A=res.states[-1]\n",
    "A"
   ]
  },
  {
   "cell_type": "code",
   "execution_count": 7,
   "metadata": {},
   "outputs": [
    {
     "name": "stdout",
     "output_type": "stream",
     "text": [
      "(r_i, r_m, r_d) = (1, 15, 0)\n",
      "(i_i, i_m, i_d) = (1, 15, 0)\n",
      "(-0.1390363475598627+0.2054538990159875j)\n",
      "(0.1403322832122144-0.20872011415593253j)\n",
      "(0.13987210271089084-0.20665533398705846j)\n",
      "(0.13887410343570755-0.20646547299509846j)\n",
      "(0.1394649405982614-0.20617672608608512j)\n",
      "(0.14031473853424825-0.2093522929556935j)\n",
      "(0.14043732111417762-0.208237435597493j)\n",
      "(0.13868713414688594-0.2077186206128286j)\n",
      "(0.13888332757143787-0.2073174050645267j)\n",
      "(0.13934727361448496-0.20955658829477486j)\n",
      "(0.13975701457617315-0.2092555285551265j)\n",
      "(0.13884084866114405-0.20843365005221826j)\n",
      "(0.1377577814401383-0.20765127971639466j)\n",
      "(0.13761897290814157-0.2076573668829716j)\n",
      "(0.13826643854811962-0.20839370743091817j)\n",
      "(0.13625224949201797-0.20775984259867555j)\n"
     ]
    }
   ],
   "source": [
    "r_i, i_i, r_m, i_m, r_d, i_d = 0, 0, 0, 0, 0, 0\n",
    "for i in range(16):\n",
    "    if np.abs(np.real(A[0,0]) - np.real(A[i,0])) < 1e-2:\n",
    "        r_i += 1\n",
    "    elif np.abs(np.real(A[0,0]) + np.real(A[i,0])) < 1e-2:\n",
    "        r_m += 1\n",
    "    else:\n",
    "        r_d += 1\n",
    "    \n",
    "    if np.abs(np.imag(A[0,0]) - np.imag(A[i,0])) < 1e-2:\n",
    "        i_i += 1\n",
    "    elif np.abs(np.imag(A[0,0]) + np.imag(A[i,0])) < 1e-2:\n",
    "        i_m += 1\n",
    "    else:\n",
    "        i_d += 1\n",
    "\n",
    "print(\"(r_i, r_m, r_d) = ({}, {}, {})\".format(r_i, r_m, r_d))\n",
    "print(\"(i_i, i_m, i_d) = ({}, {}, {})\".format(i_i, i_m, i_d))\n",
    "\n",
    "for i in range(16):\n",
    "    print(A[i,0])"
   ]
  },
  {
   "cell_type": "code",
   "execution_count": null,
   "metadata": {},
   "outputs": [],
   "source": [
    "A=ptrace(res.states[-1], [1,3])\n",
    "A"
   ]
  },
  {
   "cell_type": "code",
   "execution_count": null,
   "metadata": {
    "autoscroll": false,
    "ein.tags": "worksheet-0",
    "slideshow": {
     "slide_type": "-"
    }
   },
   "outputs": [],
   "source": [
    "qsave(res,'displaced_system2')"
   ]
  },
  {
   "cell_type": "code",
   "execution_count": null,
   "metadata": {
    "autoscroll": false,
    "ein.tags": "worksheet-0",
    "slideshow": {
     "slide_type": "-"
    }
   },
   "outputs": [],
   "source": [
    "res = qload('displaced_system2')"
   ]
  },
  {
   "cell_type": "code",
   "execution_count": null,
   "metadata": {
    "autoscroll": false,
    "ein.tags": "worksheet-0",
    "slideshow": {
     "slide_type": "-"
    }
   },
   "outputs": [],
   "source": [
    "fig = plt.figure(figsize=(8, 8))\n",
    "\n",
    "ax = fig.add_subplot(1, 1, 1)\n",
    "plot_wigner(ptrace(res.states[-1],0), fig=fig, ax=ax, alpha_max=10)"
   ]
  },
  {
   "cell_type": "code",
   "execution_count": null,
   "metadata": {},
   "outputs": [],
   "source": [
    "A=res.states[-1]\n",
    "B=tensor(basis(2,1),basis(2,1),basis(2,1),basis(2,1))"
   ]
  },
  {
   "cell_type": "code",
   "execution_count": null,
   "metadata": {},
   "outputs": [],
   "source": [
    "fidelity(A,B)"
   ]
  },
  {
   "cell_type": "code",
   "execution_count": null,
   "metadata": {},
   "outputs": [],
   "source": [
    "A"
   ]
  },
  {
   "cell_type": "code",
   "execution_count": null,
   "metadata": {},
   "outputs": [],
   "source": []
  }
 ],
 "metadata": {
  "kernelspec": {
   "display_name": "Python 3",
   "language": "python",
   "name": "python3"
  },
  "language_info": {
   "codemirror_mode": {
    "name": "ipython",
    "version": 3
   },
   "file_extension": ".py",
   "mimetype": "text/x-python",
   "name": "python",
   "nbconvert_exporter": "python",
   "pygments_lexer": "ipython3",
   "version": "3.6.6"
  },
  "name": "Untitled.ipynb"
 },
 "nbformat": 4,
 "nbformat_minor": 2
}
