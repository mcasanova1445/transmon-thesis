{
 "cells": [
  {
   "cell_type": "code",
   "execution_count": 1,
   "metadata": {},
   "outputs": [],
   "source": [
    "import matplotlib as mpl\n",
    "mpl.use(\"Agg\")\n",
    "%matplotlib inline\n",
    "import matplotlib.pyplot as plt\n",
    "import matplotlib.animation as manimation\n",
    "plt.rcParams['animation.ffmpeg_path'] = '/usr/bin/ffmpeg'\n",
    "import numpy as np\n",
    "from numpy import *\n",
    "from qutip import *\n",
    "from scipy.stats import norm"
   ]
  },
  {
   "cell_type": "code",
   "execution_count": 2,
   "metadata": {},
   "outputs": [],
   "source": [
    "N = 50\n",
    "\n",
    "wr = 10.0 * 2 * pi\n",
    "wq1 = 9.0 * 2 * pi\n",
    "\n",
    "g1 = 0.1 * 2 * pi\n",
    "\n",
    "chi1 = g1**2 / abs(wr-wq1)\n",
    "\n",
    "wd1 = 10.0 * 2 * pi"
   ]
  },
  {
   "cell_type": "code",
   "execution_count": 3,
   "metadata": {},
   "outputs": [],
   "source": [
    "tlist = np.linspace(0, 0.20, 10000)"
   ]
  },
  {
   "cell_type": "code",
   "execution_count": 4,
   "metadata": {},
   "outputs": [],
   "source": [
    "# cavity operators\n",
    "a = tensor(destroy(N), qeye(2))\n",
    "n = a.dag() * a\n",
    "\n",
    "# operators for qubit 1\n",
    "sm1 = tensor(qeye(N), destroy(2))\n",
    "sz1 = tensor(qeye(N), sigmaz())\n",
    "n1 = sm1.dag() * sm1"
   ]
  },
  {
   "cell_type": "code",
   "execution_count": null,
   "metadata": {},
   "outputs": [],
   "source": [
    "Hsyst = wr*n + wq1*sz1/2 + g1*(a*sm1.dag() + a.dag()*sm1)"
   ]
  },
  {
   "cell_type": "code",
   "execution_count": null,
   "metadata": {},
   "outputs": [],
   "source": [
    "Hsyst"
   ]
  },
  {
   "cell_type": "code",
   "execution_count": null,
   "metadata": {},
   "outputs": [],
   "source": [
    "def gaussianpulse(x,ts,tf):\n",
    "    s = (tf-ts)/4\n",
    "    m = (ts+tf)/2\n",
    "    return (np.heaviside(x-m+2*s,1)-np.heaviside(x-m-2*s,1))*norm.pdf(x, loc = m, scale = s)/0.9544997361\n",
    "\n",
    "def step_t(w1, w2, t0, width, t):\n",
    "    \"\"\"\n",
    "    Step function that goes from w1 to w2 at time t0\n",
    "    as a function of t. \n",
    "    \"\"\"\n",
    "    return w1 + (w2 - w1) * (t > t0)\n",
    "\n",
    "\n",
    "fig, axes = plt.subplots(1, 1, figsize=(8,2))\n",
    "axes.plot(tlist, [step_t(0.5, 1.5, 5, 0.0, t) for t in tlist], 'k')\n",
    "axes.set_ylim(0, 2)\n",
    "fig.tight_layout()"
   ]
  },
  {
   "cell_type": "markdown",
   "metadata": {},
   "source": [
    "Introducir un pluso de amplitud x wr y duración 0.05ns a la frecuencia de la cavidad desplaza la cavidad hacia -x en p\n",
    "\n",
    "Un pulso de -j x wr después de n 2pi/wr regresa la cavidad al estado vacío\n",
    "\n",
    "Dispersive shift: g^2/abs(wq-wr)\n",
    "\n",
    "Publication: Optimised coherent controlization! No hace falta esperar 4Dt, sino Dt+porción de vuelta exacta A en función de Gate Time+porción de vuelta exacta B en función de Gate Time+Dt"
   ]
  },
  {
   "cell_type": "code",
   "execution_count": null,
   "metadata": {},
   "outputs": [],
   "source": [
    "def ksi1_t(t, args=None):\n",
    "    return wr/(2*np.pi) * gaussianpulse(t,0.075,0.125) *abs(1)\n",
    "\n",
    "def ksi1_t1(t, args=None):\n",
    "    return wr/(2*np.pi) * gaussianpulse(t,0.075,0.125) *(1) * exp(-1j*wd1*(t))\n",
    "\n",
    "def ksi1_t2(t, args=None):\n",
    "    return wr/(2*np.pi) * gaussianpulse(t,0.075,0.125) *(1) * exp(1j*wd1*(t))\n",
    "\n",
    "def ksi2_t(t, args=None):\n",
    "    return 2.5*wr*((step_t(0.0, 1, 200.30, 0.0, t)-step_t(0.0, 1, 200.35, 0.0, t))*abs(1))\n",
    "\n",
    "def ksi2_t1(t, args=None):\n",
    "    return 2.5*wr*((step_t(0.0, 1, 200.30, 0.0, t)-step_t(0.0, 1, 200.35, 0.0, t))*(1)) * exp(-1j*wd1*(t-200.30))\n",
    "\n",
    "def ksi2_t2(t, args=None):\n",
    "    return 2.5*wr*((step_t(0.0, 1, 200.30, 0.0, t)-step_t(0.0, 1, 200.35, 0.0, t))*(1)) * exp(1j*wd1*(t-200.30))"
   ]
  },
  {
   "cell_type": "code",
   "execution_count": null,
   "metadata": {},
   "outputs": [],
   "source": [
    "psi0 = tensor(basis(N,0),(basis(2,0)+basis(2,1))/sqrt(2))\n",
    "H_t = [[a, ksi1_t1], [a.dag(), ksi1_t2], [a, ksi2_t1], [a.dag(), ksi2_t2], Hsyst]"
   ]
  },
  {
   "cell_type": "code",
   "execution_count": null,
   "metadata": {},
   "outputs": [],
   "source": [
    "res = mesolve(H_t, psi0, tlist, [], [])"
   ]
  },
  {
   "cell_type": "code",
   "execution_count": null,
   "metadata": {},
   "outputs": [],
   "source": [
    "fig, axes = plt.subplots(2, 1, sharex=True, figsize=(12,8))\n",
    "\n",
    "axes[0].plot(tlist, array(list(map(ksi1_t, tlist))) / (2*pi), 'b', linewidth=2, label=\"drive 1\")\n",
    "axes[0].plot(tlist, array(list(map(ksi2_t, tlist))) / (2*pi), 'r', linewidth=2, label=\"drive 2\")\n",
    "axes[0].set_ylim(0, 26)\n",
    "axes[0].set_ylabel(\"Energy (GHz)\", fontsize=16)\n",
    "axes[0].legend()\n",
    "\n",
    "axes[1].plot(tlist, real(expect(n, res.states)), 'r', linewidth=2, label=\"q\")\n",
    "#axes[1].plot(tlist, real(expect((a.dag() + a)/2, res.states)), 'r', linewidth=2, label=\"q\")\n",
    "#axes[1].plot(tlist, real(expect(1j*(a.dag() - a)/2, res.states)), 'g', linewidth=2, label=\"p\")\n",
    "axes[1].plot(tlist, real(expect(n1, res.states)), 'b', linewidth=2, label=\"qubit 1\")\n",
    "axes[1].set_ylim(0, 50)\n",
    "\n",
    "axes[1].set_xlabel(\"Time (ns)\", fontsize=16)\n",
    "axes[1].set_ylabel(\"Occupation probability\", fontsize=16)\n",
    "axes[1].legend()\n",
    "\n",
    "fig.tight_layout()"
   ]
  },
  {
   "cell_type": "code",
   "execution_count": null,
   "metadata": {},
   "outputs": [],
   "source": [
    "# extract the final state from the result of the simulation\n",
    "rho_final = res.states[49825]"
   ]
  },
  {
   "cell_type": "code",
   "execution_count": null,
   "metadata": {},
   "outputs": [],
   "source": [
    "# trace out the resonator mode and print the two-qubit density matrix\n",
    "rho_qubits = ptrace(rho_final, 1)\n",
    "rho_qubits"
   ]
  },
  {
   "cell_type": "code",
   "execution_count": null,
   "metadata": {},
   "outputs": [],
   "source": [
    "# compare to the ideal result of the sqrtiswap gate (plus phase correction) for the current initial state\n",
    "rho_qubits_ideal = ket2dm(tensor(basis(2,1),basis(2,1)))\n",
    "rho_qubits_ideal"
   ]
  },
  {
   "cell_type": "code",
   "execution_count": null,
   "metadata": {},
   "outputs": [],
   "source": [
    "fidelity(rho_qubits, rho_qubits_ideal)"
   ]
  },
  {
   "cell_type": "code",
   "execution_count": null,
   "metadata": {},
   "outputs": [],
   "source": [
    "concurrence(rho_qubits)"
   ]
  },
  {
   "cell_type": "code",
   "execution_count": null,
   "metadata": {},
   "outputs": [],
   "source": [
    "wd3"
   ]
  },
  {
   "cell_type": "code",
   "execution_count": null,
   "metadata": {},
   "outputs": [],
   "source": [
    "def plot_wigner_2d(psi):\n",
    "    #fig, axes = plt.subplots(1, 2, subplot_kw={'projection': '3d'}, figsize=(12, 6))\n",
    "    fig = plt.figure(figsize=(8, 8))\n",
    "    \n",
    "    ax = fig.add_subplot(1, 1, 1)\n",
    "    plot_wigner(psi, fig=fig, ax=ax, alpha_max=10);\n",
    "    \n",
    "    plt.close(fig)\n",
    "    return fig\n",
    "\n",
    "def plot_wigner_2d3(psi1, psi2, psi3):\n",
    "    #fig, axes = plt.subplots(1, 2, subplot_kw={'projection': '3d'}, figsize=(12, 6))\n",
    "    fig = plt.figure(figsize=(15, 5))\n",
    "    \n",
    "    ax = fig.add_subplot(1, 3, 1)\n",
    "    plot_wigner(psi1, fig=fig, ax=ax, alpha_max=10);\n",
    "    \n",
    "    ax = fig.add_subplot(1, 3, 2)\n",
    "    plot_wigner(psi2, fig=fig, ax=ax, alpha_max=10);\n",
    "    \n",
    "    ax = fig.add_subplot(1, 3, 3)\n",
    "    plot_wigner(psi3, fig=fig, ax=ax, alpha_max=10);\n",
    "    \n",
    "    \n",
    "    plt.close(fig)\n",
    "    return fig"
   ]
  },
  {
   "cell_type": "code",
   "execution_count": null,
   "metadata": {},
   "outputs": [],
   "source": [
    "#psi1 = ptrace(res.states[49924],0) #una vuelta = 0.2ns = 2pi/wr\n",
    "#psi2 = ptrace(res.states[49925],0) #una vuelta = 0.2ns = 2pi/wr\n",
    "#psi3 = ptrace(res.states[49926],0) #una vuelta = 0.2ns = 2pi/wr\n",
    "#plot_wigner_2d3(psi1,psi2,psi3)\n",
    "\n",
    "psi = ptrace(res.states[-1],0) #una vuelta = 0.2ns = 2pi/wr\n",
    "plot_wigner_2d(psi)"
   ]
  },
  {
   "cell_type": "code",
   "execution_count": null,
   "metadata": {},
   "outputs": [],
   "source": [
    "FFMpegWriter = manimation.writers['ffmpeg']\n",
    "metadata = dict(title='Movie Test', artist='Matplotlib',\n",
    "                comment='Movie support!')\n",
    "writer = FFMpegWriter(fps=15, metadata=metadata)\n",
    "\n",
    "fig = plt.figure(figsize=(5, 5))\n",
    "    \n",
    "ax = fig.add_subplot(1, 1, 1)\n",
    "\n",
    "with writer.saving(fig, \"writer_test5.mp4\", 60):\n",
    "    for i in range(137):\n",
    "        plot_wigner(ptrace(res.states[49800+i],0), fig=fig, ax=ax, alpha_max=10);\n",
    "        writer.grab_frame()"
   ]
  },
  {
   "cell_type": "code",
   "execution_count": null,
   "metadata": {},
   "outputs": [],
   "source": [
    "2*pi/(g1**2/abs(wq1-wr))"
   ]
  },
  {
   "cell_type": "code",
   "execution_count": 11,
   "metadata": {},
   "outputs": [],
   "source": [
    "N = 50\n",
    "\n",
    "wr = 7.0 * 2 * np.pi\n",
    "wq = np.array([5.0 * 2 * np.pi, 6.0 * 2 * np.pi, 8.0 * 2 * np.pi, 9.0 * 2 * np.pi])\n",
    "\n",
    "g = np.array([0.1*np.sqrt(2) * 2*np.pi, 0.1 * 2*np.pi, 0.1 * 2*np.pi, 0.1*np.sqrt(2) * 2*np.pi])\n",
    "\n",
    "D = wq - wr\n",
    "\n",
    "chi = g**2 / abs(wr-wq)"
   ]
  },
  {
   "cell_type": "code",
   "execution_count": 14,
   "metadata": {},
   "outputs": [
    {
     "data": {
      "text/plain": [
       "array([ 100.,  100.,  100.,  100.])"
      ]
     },
     "execution_count": 14,
     "metadata": {},
     "output_type": "execute_result"
    }
   ],
   "source": [
    "2*pi/chi"
   ]
  },
  {
   "cell_type": "code",
   "execution_count": 10,
   "metadata": {},
   "outputs": [
    {
     "data": {
      "text/plain": [
       "0.14142135623730953"
      ]
     },
     "execution_count": 10,
     "metadata": {},
     "output_type": "execute_result"
    }
   ],
   "source": [
    "0.1*np.sqrt(2)"
   ]
  },
  {
   "cell_type": "code",
   "execution_count": null,
   "metadata": {},
   "outputs": [],
   "source": []
  }
 ],
 "metadata": {
  "kernelspec": {
   "display_name": "Python 3",
   "language": "python",
   "name": "python3"
  },
  "language_info": {
   "codemirror_mode": {
    "name": "ipython",
    "version": 3
   },
   "file_extension": ".py",
   "mimetype": "text/x-python",
   "name": "python",
   "nbconvert_exporter": "python",
   "pygments_lexer": "ipython3",
   "version": "3.5.2"
  }
 },
 "nbformat": 4,
 "nbformat_minor": 2
}
