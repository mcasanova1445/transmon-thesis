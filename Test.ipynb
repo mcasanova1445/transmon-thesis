{
 "cells": [
  {
   "cell_type": "code",
   "execution_count": 1,
   "metadata": {
    "autoscroll": false,
    "ein.tags": "worksheet-0",
    "slideshow": {
     "slide_type": "-"
    }
   },
   "outputs": [],
   "source": [
    "%matplotlib inline\n",
    "import matplotlib.pyplot as plt\n",
    "import matplotlib as mpl\n",
    "import numpy as np\n",
    "from qutip import *\n",
    "import tgates"
   ]
  },
  {
   "cell_type": "code",
   "execution_count": 8,
   "metadata": {
    "autoscroll": false,
    "ein.tags": "worksheet-0",
    "slideshow": {
     "slide_type": "-"
    }
   },
   "outputs": [],
   "source": [
    "'''\n",
    "psi0 = tensor(\n",
    "    basis(50,0),\n",
    "    (basis(2,0)+basis(2,1))/np.sqrt(2),\n",
    "    (basis(2,0)+basis(2,1))/np.sqrt(2),\n",
    "    (basis(2,0)+basis(2,1))/np.sqrt(2),\n",
    "    (basis(2,0)+basis(2,1))/np.sqrt(2))\n",
    "'''\n",
    "\n",
    "psi0 = tensor(\n",
    "    (basis(2,0)+basis(2,1))/np.sqrt(2),\n",
    "    basis(2,0),\n",
    "    basis(2,0),\n",
    "    (basis(2,0)+basis(2,1))/np.sqrt(2))\n"
   ]
  },
  {
   "cell_type": "code",
   "execution_count": 9,
   "metadata": {
    "autoscroll": false,
    "ein.tags": "worksheet-0",
    "scrolled": false,
    "slideshow": {
     "slide_type": "-"
    }
   },
   "outputs": [
    {
     "data": {
      "text/latex": [
       "Quantum object: dims = [[2, 2], [2, 2]], shape = (4, 4), type = oper, isherm = True\\begin{equation*}\\left(\\begin{array}{*{11}c}0.428 & 0.177 & (0.426-3.163\\times10^{-04}j) & (0.176-1.443\\times10^{-04}j)\\\\0.177 & 0.073 & (0.176-1.443\\times10^{-04}j) & (0.073-6.508\\times10^{-05}j)\\\\(0.426+3.163\\times10^{-04}j) & (0.176+1.443\\times10^{-04}j) & 0.426 & 0.176\\\\(0.176+1.443\\times10^{-04}j) & (0.073+6.508\\times10^{-05}j) & 0.176 & 0.073\\\\\\end{array}\\right)\\end{equation*}"
      ],
      "text/plain": [
       "Quantum object: dims = [[2, 2], [2, 2]], shape = (4, 4), type = oper, isherm = True\n",
       "Qobj data =\n",
       "[[0.42770332+0.00000000e+00j 0.17704579+0.00000000e+00j\n",
       "  0.42554751-3.16312118e-04j 0.17615935-1.44267745e-04j]\n",
       " [0.17704579+0.00000000e+00j 0.07329569+0.00000000e+00j\n",
       "  0.17615935-1.44267745e-04j 0.07293146-6.50765287e-05j]\n",
       " [0.42554751+3.16312118e-04j 0.17615935+1.44267745e-04j\n",
       "  0.42599762+0.00000000e+00j 0.17633973+0.00000000e+00j]\n",
       " [0.17615935+1.44267745e-04j 0.07293146+6.50765287e-05j\n",
       "  0.17633973+0.00000000e+00j 0.07300338+0.00000000e+00j]]"
      ]
     },
     "execution_count": 9,
     "metadata": {},
     "output_type": "execute_result"
    }
   ],
   "source": [
    "control = 0\n",
    "target = 3\n",
    "theta = np.pi/2\n",
    "\n",
    "res = tgates.Ry(psi0,target,theta/2)\n",
    "ptrace(res.states[-1], [control,target])"
   ]
  },
  {
   "cell_type": "code",
   "execution_count": 10,
   "metadata": {},
   "outputs": [
    {
     "data": {
      "text/latex": [
       "Quantum object: dims = [[2, 2], [2, 2]], shape = (4, 4), type = oper, isherm = False\\begin{equation*}\\left(\\begin{array}{*{11}c}(0.431+5.886\\times10^{-12}j) & (0.181-0.002j) & (0.169+0.004j) & (0.397+0.023j)\\\\(0.181+0.002j) & (0.090+1.368\\times10^{-12}j) & (0.075+0.005j) & (0.169+0.012j)\\\\(0.169-0.004j) & (0.075-0.005j) & 0.078 & (0.165+0.004j)\\\\(0.397-0.023j) & (0.169-0.012j) & (0.165-0.004j) & (0.400-6.736\\times10^{-12}j)\\\\\\end{array}\\right)\\end{equation*}"
      ],
      "text/plain": [
       "Quantum object: dims = [[2, 2], [2, 2]], shape = (4, 4), type = oper, isherm = False\n",
       "Qobj data =\n",
       "[[0.43130474+5.88579301e-12j 0.1810502 -1.60091340e-03j\n",
       "  0.16913358+3.63615945e-03j 0.39706934+2.25907938e-02j]\n",
       " [0.1810502 +1.60091340e-03j 0.09029444+1.36824784e-12j\n",
       "  0.07533803+5.06877226e-03j 0.16877637+1.18557683e-02j]\n",
       " [0.16913358-3.63616154e-03j 0.07533803-5.06877225e-03j\n",
       "  0.07818138+0.00000000e+00j 0.16459805+3.92897534e-03j]\n",
       " [0.39706934-2.25907980e-02j 0.16877637-1.18557704e-02j\n",
       "  0.16459805-3.92897536e-03j 0.40021944-6.73608527e-12j]]"
      ]
     },
     "execution_count": 10,
     "metadata": {},
     "output_type": "execute_result"
    }
   ],
   "source": [
    "res = tgates.CNOT(res.states[-1],control,target)\n",
    "ptrace(res.states[-1], [control,target])"
   ]
  },
  {
   "cell_type": "code",
   "execution_count": 11,
   "metadata": {},
   "outputs": [
    {
     "data": {
      "text/latex": [
       "Quantum object: dims = [[2, 2], [2, 2]], shape = (4, 4), type = oper, isherm = False\\begin{equation*}\\left(\\begin{array}{*{11}c}(0.510+6.585\\times10^{-12}j) & (0.008-0.002j) & (0.336+0.015j) & (0.327+0.021j)\\\\(0.008+0.002j) & 0.013 & (0.006+0.004j) & (0.002+8.668\\times10^{-04}j)\\\\(0.336-0.015j) & (0.006-0.004j) & (0.242-7.638\\times10^{-12}j) & (0.229+0.004j)\\\\(0.327-0.021j) & (0.002-8.668\\times10^{-04}j) & (0.229-0.004j) & 0.236\\\\\\end{array}\\right)\\end{equation*}"
      ],
      "text/plain": [
       "Quantum object: dims = [[2, 2], [2, 2]], shape = (4, 4), type = oper, isherm = False\n",
       "Qobj data =\n",
       "[[0.50988714+6.58452343e-12j 0.00778909-1.59147103e-03j\n",
       "  0.3357678 +1.45062503e-02j 0.32695221+2.12963727e-02j]\n",
       " [0.00778909+1.59147103e-03j 0.01266788+0.00000000e+00j\n",
       "  0.00590654+3.90807740e-03j 0.00175852+8.66842331e-04j]\n",
       " [0.3357678 -1.45062539e-02j 0.00590654-3.90807677e-03j\n",
       "  0.24172848-7.63829976e-12j 0.22933463+3.91720608e-03j]\n",
       " [0.32695222-2.12963762e-02j 0.00175852-8.66842930e-04j\n",
       "  0.22933463-3.91720609e-03j 0.2357165 +0.00000000e+00j]]"
      ]
     },
     "execution_count": 11,
     "metadata": {},
     "output_type": "execute_result"
    }
   ],
   "source": [
    "res = tgates.Ry(res.states[-1],target,-theta/2)\n",
    "ptrace(res.states[-1], [control,target])"
   ]
  },
  {
   "cell_type": "code",
   "execution_count": 12,
   "metadata": {},
   "outputs": [
    {
     "data": {
      "text/latex": [
       "Quantum object: dims = [[2, 2], [2, 2]], shape = (4, 4), type = oper, isherm = False\\begin{equation*}\\left(\\begin{array}{*{11}c}(0.512+7.864\\times10^{-12}j) & (0.019-0.001j) & (0.310+0.026j) & (0.317+0.033j)\\\\(0.019+0.001j) & (0.029+4.450\\times10^{-12}j) & (0.005+0.005j) & (0.009+0.007j)\\\\(0.310-0.026j) & (0.005-0.005j) & (0.228-1.296\\times10^{-11}j) & (0.214+0.003j)\\\\(0.317-0.033j) & (0.009-0.007j) & (0.214-0.003j) & 0.232\\\\\\end{array}\\right)\\end{equation*}"
      ],
      "text/plain": [
       "Quantum object: dims = [[2, 2], [2, 2]], shape = (4, 4), type = oper, isherm = False\n",
       "Qobj data =\n",
       "[[0.51156694+7.86387536e-12j 0.01916168-1.06058385e-03j\n",
       "  0.30976743+2.64429223e-02j 0.31697458+3.26930625e-02j]\n",
       " [0.01916168+1.06058386e-03j 0.02881758+4.44989795e-12j\n",
       "  0.00486449+4.63451581e-03j 0.00862456+6.71527696e-03j]\n",
       " [0.30976743-2.64429276e-02j 0.00486449-4.63451995e-03j\n",
       "  0.22805662-1.29577795e-11j 0.21444318+2.67908426e-03j]\n",
       " [0.31697458-3.26930682e-02j 0.00862456-6.71527768e-03j\n",
       "  0.21444318-2.67908428e-03j 0.23155886+0.00000000e+00j]]"
      ]
     },
     "execution_count": 12,
     "metadata": {},
     "output_type": "execute_result"
    }
   ],
   "source": [
    "res = tgates.CNOT(res.states[-1],control,target)\n",
    "ptrace(res.states[-1], [control,target])"
   ]
  },
  {
   "cell_type": "code",
   "execution_count": 3,
   "metadata": {},
   "outputs": [
    {
     "data": {
      "text/latex": [
       "Quantum object: dims = [[2, 2], [2, 2]], shape = (4, 4), type = oper, isherm = True\\begin{equation*}\\left(\\begin{array}{*{11}c}0.503 & (0.009-0.491j) & (0.006+9.368\\times10^{-05}j) & 0.0\\\\(0.009+0.491j) & 0.497 & (-3.264\\times10^{-05}+0.006j) & 0.0\\\\(0.006-9.368\\times10^{-05}j) & (-3.264\\times10^{-05}-0.006j) & 7.731\\times10^{-05} & 0.0\\\\0.0 & 0.0 & 0.0 & 0.0\\\\\\end{array}\\right)\\end{equation*}"
      ],
      "text/plain": [
       "Quantum object: dims = [[2, 2], [2, 2]], shape = (4, 4), type = oper, isherm = True\n",
       "Qobj data =\n",
       "[[ 5.02559035e-01+0.00000000e+00j  9.27685443e-03-4.90738880e-01j\n",
       "   6.09186095e-03+9.36795625e-05j  0.00000000e+00+0.00000000e+00j]\n",
       " [ 9.27685443e-03+4.90738880e-01j  4.97363656e-01+0.00000000e+00j\n",
       "  -3.26374222e-05+6.20075384e-03j  0.00000000e+00+0.00000000e+00j]\n",
       " [ 6.09186095e-03-9.36795625e-05j -3.26374222e-05-6.20075384e-03j\n",
       "   7.73084504e-05+0.00000000e+00j  0.00000000e+00+0.00000000e+00j]\n",
       " [ 0.00000000e+00+0.00000000e+00j  0.00000000e+00+0.00000000e+00j\n",
       "   0.00000000e+00+0.00000000e+00j  0.00000000e+00+0.00000000e+00j]]"
      ]
     },
     "execution_count": 3,
     "metadata": {},
     "output_type": "execute_result"
    }
   ],
   "source": [
    "res = tgates.iSWAP(psi0, 0,1)\n",
    "ptrace(res.states[-1], [0,1])"
   ]
  },
  {
   "cell_type": "code",
   "execution_count": 4,
   "metadata": {},
   "outputs": [
    {
     "data": {
      "text/latex": [
       "Quantum object: dims = [[2, 2], [2, 2]], shape = (4, 4), type = oper, isherm = True\\begin{equation*}\\left(\\begin{array}{*{11}c}0.505 & (4.356\\times10^{-04}-0.012j) & (-0.488-0.017j) & 0.0\\\\(4.356\\times10^{-04}+0.012j) & 3.044\\times10^{-04} & (-6.748\\times10^{-05}-0.012j) & 0.0\\\\(-0.488+0.017j) & (-6.748\\times10^{-05}+0.012j) & 0.495 & 0.0\\\\0.0 & 0.0 & 0.0 & 0.0\\\\\\end{array}\\right)\\end{equation*}"
      ],
      "text/plain": [
       "Quantum object: dims = [[2, 2], [2, 2]], shape = (4, 4), type = oper, isherm = True\n",
       "Qobj data =\n",
       "[[ 5.05110036e-01+0.j          4.35645568e-04-0.01206804j\n",
       "  -4.88151288e-01-0.01732169j  0.00000000e+00+0.j        ]\n",
       " [ 4.35645568e-04+0.01206804j  3.04374388e-04+0.j\n",
       "  -6.74765159e-05-0.01226926j  0.00000000e+00+0.j        ]\n",
       " [-4.88151288e-01+0.01732169j -6.74765159e-05+0.01226926j\n",
       "   4.94585589e-01+0.j          0.00000000e+00+0.j        ]\n",
       " [ 0.00000000e+00+0.j          0.00000000e+00+0.j\n",
       "   0.00000000e+00+0.j          0.00000000e+00+0.j        ]]"
      ]
     },
     "execution_count": 4,
     "metadata": {},
     "output_type": "execute_result"
    }
   ],
   "source": [
    "res = tgates.iSWAP(res.states[-1], 0,1)\n",
    "ptrace(res.states[-1], [0,1])"
   ]
  },
  {
   "cell_type": "code",
   "execution_count": 5,
   "metadata": {},
   "outputs": [
    {
     "data": {
      "text/latex": [
       "Quantum object: dims = [[2, 2], [2, 2]], shape = (4, 4), type = oper, isherm = True\\begin{equation*}\\left(\\begin{array}{*{11}c}0.508 & (-0.025+0.486j) & (-0.018-9.081\\times10^{-04}j) & 0.0\\\\(-0.025-0.486j) & 0.492 & (-3.754\\times10^{-05}+0.018j) & 0.0\\\\(-0.018+9.081\\times10^{-04}j) & (-3.754\\times10^{-05}-0.018j) & 6.785\\times10^{-04} & 0.0\\\\0.0 & 0.0 & 0.0 & 0.0\\\\\\end{array}\\right)\\end{equation*}"
      ],
      "text/plain": [
       "Quantum object: dims = [[2, 2], [2, 2]], shape = (4, 4), type = oper, isherm = True\n",
       "Qobj data =\n",
       "[[ 5.07519106e-01+0.j         -2.52637054e-02+0.48551381j\n",
       "  -1.79795618e-02-0.00090814j  0.00000000e+00+0.j        ]\n",
       " [-2.52637054e-02-0.48551381j  4.91802349e-01+0.j\n",
       "  -3.75381345e-05+0.01826769j  0.00000000e+00+0.j        ]\n",
       " [-1.79795618e-02+0.00090814j -3.75381345e-05-0.01826769j\n",
       "   6.78544860e-04+0.j          0.00000000e+00+0.j        ]\n",
       " [ 0.00000000e+00+0.j          0.00000000e+00+0.j\n",
       "   0.00000000e+00+0.j          0.00000000e+00+0.j        ]]"
      ]
     },
     "execution_count": 5,
     "metadata": {},
     "output_type": "execute_result"
    }
   ],
   "source": [
    "res = tgates.iSWAP(res.states[-1], 0,1)\n",
    "ptrace(res.states[-1], [0,1])"
   ]
  },
  {
   "cell_type": "code",
   "execution_count": 6,
   "metadata": {},
   "outputs": [
    {
     "data": {
      "text/latex": [
       "Quantum object: dims = [[2, 2], [2, 2]], shape = (4, 4), type = oper, isherm = True\\begin{equation*}\\left(\\begin{array}{*{11}c}0.510 & (-0.002+0.024j) & (0.483+0.033j) & 0.0\\\\(-0.002-0.024j) & 0.001 & (-4.057\\times10^{-07}-0.024j) & 0.0\\\\(0.483-0.033j) & (-4.057\\times10^{-07}+0.024j) & 0.489 & 0.0\\\\0.0 & 0.0 & 0.0 & 0.0\\\\\\end{array}\\right)\\end{equation*}"
      ],
      "text/plain": [
       "Quantum object: dims = [[2, 2], [2, 2]], shape = (4, 4), type = oper, isherm = True\n",
       "Qobj data =\n",
       "[[ 5.09901475e-01+0.j         -1.57207900e-03+0.02388903j\n",
       "   4.82715575e-01+0.03318077j  0.00000000e+00+0.j        ]\n",
       " [-1.57207900e-03-0.02388903j  1.20390281e-03+0.j\n",
       "  -4.05683422e-07-0.0242607j   0.00000000e+00+0.j        ]\n",
       " [ 4.82715575e-01-0.03318077j -4.05683422e-07+0.0242607j\n",
       "   4.88894622e-01+0.j          0.00000000e+00+0.j        ]\n",
       " [ 0.00000000e+00+0.j          0.00000000e+00+0.j\n",
       "   0.00000000e+00+0.j          0.00000000e+00+0.j        ]]"
      ]
     },
     "execution_count": 6,
     "metadata": {},
     "output_type": "execute_result"
    }
   ],
   "source": [
    "res = tgates.iSWAP(res.states[-1], 0,1)\n",
    "ptrace(res.states[-1], [0,1])"
   ]
  },
  {
   "cell_type": "code",
   "execution_count": 7,
   "metadata": {},
   "outputs": [
    {
     "data": {
      "text/latex": [
       "Quantum object: dims = [[2, 2], [2, 2]], shape = (4, 4), type = oper, isherm = False\\begin{equation*}\\left(\\begin{array}{*{11}c}(0.503-1.315\\times10^{-10}j) & (0.012-0.010j) & (0.005-0.002j) & (0.468+0.036j)\\\\(0.012+0.010j) & (0.017+2.588\\times10^{-11}j) & (0.006+9.029\\times10^{-04}j) & (0.005+0.014j)\\\\(0.005+0.002j) & (0.006-9.029\\times10^{-04}j) & (0.009+7.299\\times10^{-11}j) & (0.002+0.003j)\\\\(0.468-0.036j) & (0.005-0.014j) & (0.002-0.003j) & (0.470+3.261\\times10^{-11}j)\\\\\\end{array}\\right)\\end{equation*}"
      ],
      "text/plain": [
       "Quantum object: dims = [[2, 2], [2, 2]], shape = (4, 4), type = oper, isherm = False\n",
       "Qobj data =\n",
       "[[0.50299088-1.31491389e-10j 0.01220309-1.04188078e-02j\n",
       "  0.00495079-1.75162472e-03j 0.46756124+3.58966468e-02j]\n",
       " [0.01220309+1.04188077e-02j 0.01735026+2.58848202e-11j\n",
       "  0.00583817+9.02894917e-04j 0.00527584+1.44372927e-02j]\n",
       " [0.0049508 +1.75164221e-03j 0.00583817-9.02894769e-04j\n",
       "  0.00934533+7.29931778e-11j 0.00160911+3.07908911e-03j]\n",
       " [0.46756123-3.58966224e-02j 0.00527582-1.44372858e-02j\n",
       "  0.00160911-3.07908887e-03j 0.47031353+3.26133909e-11j]]"
      ]
     },
     "execution_count": 7,
     "metadata": {},
     "output_type": "execute_result"
    }
   ],
   "source": [
    "res = tgates.CNOT(psi0, 0, 1)\n",
    "ptrace(res.states[-1], [0,1])"
   ]
  },
  {
   "cell_type": "code",
   "execution_count": 3,
   "metadata": {},
   "outputs": [
    {
     "data": {
      "text/latex": [
       "Quantum object: dims = [[2, 2], [2, 2]], shape = (4, 4), type = oper, isherm = False\\begin{equation*}\\left(\\begin{array}{*{11}c}(0.500-1.067\\times10^{-08}j) & (0.436+0.063j) & (0.015+0.011j) & (0.009+0.008j)\\\\(0.436-0.063j) & (0.454+1.070\\times10^{-08}j) & (0.012+0.006j) & (0.003+0.002j)\\\\(0.015-0.011j) & (0.012-0.006j) & (0.022-7.375\\times10^{-10}j) & (0.006+0.001j)\\\\(0.009-0.008j) & (0.003-0.002j) & (0.006-0.001j) & (0.025+7.012\\times10^{-10}j)\\\\\\end{array}\\right)\\end{equation*}"
      ],
      "text/plain": [
       "Quantum object: dims = [[2, 2], [2, 2]], shape = (4, 4), type = oper, isherm = False\n",
       "Qobj data =\n",
       "[[0.50014104-1.06654004e-08j 0.43637389+6.26010637e-02j\n",
       "  0.01455456+1.13872882e-02j 0.00949465+7.62847126e-03j]\n",
       " [0.43637385-6.26010001e-02j 0.45369104+1.07017148e-08j\n",
       "  0.01162558+6.43466745e-03j 0.00257907+1.80005085e-03j]\n",
       " [0.01455455-1.13873001e-02j 0.0116256 -6.43466262e-03j\n",
       "  0.02153116-7.37487122e-10j 0.00594569+1.00630504e-03j]\n",
       " [0.00949467-7.62845323e-03j 0.0025791 -1.80004236e-03j\n",
       "  0.00594569-1.00630402e-03j 0.02463677+7.01172705e-10j]]"
      ]
     },
     "execution_count": 3,
     "metadata": {},
     "output_type": "execute_result"
    }
   ],
   "source": [
    "res = tgates.SWAP(psi0, 0, 1)\n",
    "ptrace(res.states[-1], [0,1])"
   ]
  },
  {
   "cell_type": "code",
   "execution_count": 9,
   "metadata": {},
   "outputs": [
    {
     "data": {
      "text/latex": [
       "Quantum object: dims = [[2, 2, 2], [2, 2, 2]], shape = (8, 8), type = oper, isherm = False\\begin{equation*}\\left(\\begin{array}{*{11}c}0.265 & (0.245-0.018j) & (0.004-0.004j) & (-7.944\\times10^{-04}+0.001j) & (0.006-0.003j) & (1.188\\times10^{-04}-0.002j) & (0.248+0.015j) & (0.232+0.003j)\\\\(0.245+0.018j) & (0.239-1.040\\times10^{-12}j) & (0.004-0.004j) & (-8.690\\times10^{-04}+0.001j) & (0.006-0.003j) & (0.001-0.001j) & (0.227+0.029j) & (0.227+0.010j)\\\\(0.004+0.004j) & (0.004+0.004j) & 0.008 & (0.008-0.001j) & (0.001+5.344\\times10^{-04}j) & (8.268\\times10^{-04}+0.001j) & (0.002+0.005j) & (0.003+0.008j)\\\\(-7.944\\times10^{-04}-0.001j) & (-8.690\\times10^{-04}-0.001j) & (0.008+0.001j) & (0.008+1.010\\times10^{-12}j) & (0.001+5.835\\times10^{-04}j) & (0.001+3.331\\times10^{-04}j) & (-0.002-9.320\\times10^{-04}j) & (-0.002-4.843\\times10^{-04}j)\\\\(0.006+0.003j) & (0.006+0.003j) & (0.001-5.344\\times10^{-04}j) & (0.001-5.835\\times10^{-04}j) & 0.005 & (0.004-7.293\\times10^{-04}j) & (0.005+0.004j) & (0.005+0.004j)\\\\(1.188\\times10^{-04}+0.002j) & (0.001+0.001j) & (8.268\\times10^{-04}-0.001j) & (0.001-3.331\\times10^{-04}j) & (0.004+7.293\\times10^{-04}j) & 0.004 & (0.001+0.002j) & (0.001+0.002j)\\\\(0.248-0.015j) & (0.227-0.029j) & (0.002-0.005j) & (-0.002+9.320\\times10^{-04}j) & (0.005-0.004j) & (0.001-0.002j) & 0.244 & (0.229-0.021j)\\\\(0.232-0.003j) & (0.227-0.010j) & (0.003-0.008j) & (-0.002+4.843\\times10^{-04}j) & (0.005-0.004j) & (0.001-0.002j) & (0.229+0.021j) & 0.226\\\\\\end{array}\\right)\\end{equation*}"
      ],
      "text/plain": [
       "Quantum object: dims = [[2, 2, 2], [2, 2, 2]], shape = (8, 8), type = oper, isherm = False\n",
       "Qobj data =\n",
       "[[ 2.65222608e-01+0.00000000e+00j  2.45324566e-01-1.82669889e-02j\n",
       "   3.70262699e-03-4.46619786e-03j -7.94406168e-04+1.04595253e-03j\n",
       "   5.67636610e-03-3.28541925e-03j  1.18755202e-04-1.84732406e-03j\n",
       "   2.48178567e-01+1.54316753e-02j  2.31838129e-01+2.52661039e-03j]\n",
       " [ 2.45324566e-01+1.82669890e-02j  2.39137971e-01-1.04040049e-12j\n",
       "   3.61262285e-03-4.34949800e-03j -8.69021465e-04+1.18606979e-03j\n",
       "   5.69539948e-03-2.89681827e-03j  1.47094442e-03-1.17072393e-03j\n",
       "   2.26696188e-01+2.90927962e-02j  2.27150081e-01+1.03907513e-02j]\n",
       " [ 3.70262699e-03+4.46619786e-03j  3.61262298e-03+4.34949813e-03j\n",
       "   8.45908900e-03+0.00000000e+00j  7.84169709e-03-1.02108971e-03j\n",
       "   1.33717967e-03+5.34404842e-04j  8.26808956e-04+1.15612023e-03j\n",
       "   2.12493150e-03+5.37337380e-03j  3.09597571e-03+8.04922686e-03j]\n",
       " [-7.94406198e-04-1.04595258e-03j -8.69021465e-04-1.18606979e-03j\n",
       "   7.84169706e-03+1.02108961e-03j  7.67662826e-03+1.00953973e-12j\n",
       "   1.10353080e-03+5.83476572e-04j  1.05451325e-03+3.33139453e-04j\n",
       "  -2.00470483e-03-9.31991943e-04j -1.83402018e-03-4.84270719e-04j]\n",
       " [ 5.67636624e-03+3.28541925e-03j  5.69539948e-03+2.89681827e-03j\n",
       "   1.33717967e-03-5.34404700e-04j  1.10353080e-03-5.83476572e-04j\n",
       "   4.71540655e-03+0.00000000e+00j  4.34933032e-03-7.29344583e-04j\n",
       "   5.02090520e-03+4.46098138e-03j  5.12233099e-03+4.05106937e-03j]\n",
       " [ 1.18764899e-04+1.84731165e-03j  1.47094450e-03+1.17072398e-03j\n",
       "   8.26808808e-04-1.15612095e-03j  1.05451325e-03-3.33139308e-04j\n",
       "   4.34933034e-03+7.29344449e-04j  4.17542700e-03+0.00000000e+00j\n",
       "   1.16306868e-03+2.41028850e-03j  1.33573996e-03+2.01084636e-03j]\n",
       " [ 2.48178567e-01-1.54316751e-02j  2.26696188e-01-2.90927962e-02j\n",
       "   2.12493141e-03-5.37337373e-03j -2.00470483e-03+9.31991943e-04j\n",
       "   5.02090520e-03-4.46098138e-03j  1.16306857e-03-2.41028838e-03j\n",
       "   2.44171166e-01+0.00000000e+00j  2.28731407e-01-2.08447139e-02j]\n",
       " [ 2.31838152e-01-2.52661321e-03j  2.27150080e-01-1.03907512e-02j\n",
       "   3.09598836e-03-8.04921725e-03j -1.83402033e-03+4.84270723e-04j\n",
       "   5.12233108e-03-4.05106943e-03j  1.33573996e-03-2.01084636e-03j\n",
       "   2.28731407e-01+2.08447140e-02j  2.26441705e-01+0.00000000e+00j]]"
      ]
     },
     "execution_count": 9,
     "metadata": {},
     "output_type": "execute_result"
    }
   ],
   "source": [
    "res = tgates.CNOT(psi0, 0, 1)\n",
    "ptrace(res.states[-1], [0,1,3])"
   ]
  },
  {
   "cell_type": "code",
   "execution_count": null,
   "metadata": {
    "autoscroll": false,
    "ein.tags": "worksheet-0",
    "slideshow": {
     "slide_type": "-"
    }
   },
   "outputs": [],
   "source": [
    "qsave(res,'displaced_system2')"
   ]
  },
  {
   "cell_type": "code",
   "execution_count": null,
   "metadata": {
    "autoscroll": false,
    "ein.tags": "worksheet-0",
    "slideshow": {
     "slide_type": "-"
    }
   },
   "outputs": [],
   "source": [
    "res = qload('displaced_system2')"
   ]
  },
  {
   "cell_type": "code",
   "execution_count": null,
   "metadata": {
    "autoscroll": false,
    "ein.tags": "worksheet-0",
    "slideshow": {
     "slide_type": "-"
    }
   },
   "outputs": [],
   "source": [
    "fig = plt.figure(figsize=(8, 8))\n",
    "\n",
    "ax = fig.add_subplot(1, 1, 1)\n",
    "plot_wigner(ptrace(res.states[-1],0), fig=fig, ax=ax, alpha_max=10)"
   ]
  },
  {
   "cell_type": "code",
   "execution_count": null,
   "metadata": {
    "autoscroll": false,
    "ein.tags": "worksheet-0",
    "slideshow": {
     "slide_type": "-"
    }
   },
   "outputs": [],
   "source": [
    "res = gates.H(res.states[-1], 0)"
   ]
  },
  {
   "cell_type": "code",
   "execution_count": null,
   "metadata": {
    "autoscroll": false,
    "ein.tags": "worksheet-0",
    "slideshow": {
     "slide_type": "-"
    }
   },
   "outputs": [],
   "source": [
    "ptrace(res.states[-1],1)"
   ]
  },
  {
   "cell_type": "code",
   "execution_count": null,
   "metadata": {
    "autoscroll": false,
    "ein.tags": "worksheet-0",
    "slideshow": {
     "slide_type": "-"
    }
   },
   "outputs": [],
   "source": [
    "res = gates.H(res.states[-1], 3)"
   ]
  },
  {
   "cell_type": "code",
   "execution_count": null,
   "metadata": {
    "autoscroll": false,
    "ein.tags": "worksheet-0",
    "slideshow": {
     "slide_type": "-"
    }
   },
   "outputs": [],
   "source": [
    "ptrace(res.states[-1],[1,2,3,4])"
   ]
  },
  {
   "cell_type": "code",
   "execution_count": null,
   "metadata": {
    "autoscroll": false,
    "ein.tags": "worksheet-0",
    "slideshow": {
     "slide_type": "-"
    }
   },
   "outputs": [],
   "source": [
    "fidelity(ptrace(res.states[-1], [1,4]),tensor(basis(2,0),basis(2,0))/np.sqrt(2)+(tensor(basis(2,1),basis(2,0)) + tensor(basis(2,1),basis(2,1)))/2)"
   ]
  },
  {
   "cell_type": "code",
   "execution_count": 8,
   "metadata": {},
   "outputs": [
    {
     "data": {
      "text/plain": [
       "0.9768384930840827"
      ]
     },
     "execution_count": 8,
     "metadata": {},
     "output_type": "execute_result"
    }
   ],
   "source": [
    "fidelity(ptrace(res.states[-1], [0,1]),(tensor(basis(2,0),basis(2,0))+ tensor(basis(2,1),basis(2,1)))/np.sqrt(2))"
   ]
  },
  {
   "cell_type": "code",
   "execution_count": 4,
   "metadata": {},
   "outputs": [
    {
     "data": {
      "text/plain": [
       "0.9556620348021979"
      ]
     },
     "execution_count": 4,
     "metadata": {},
     "output_type": "execute_result"
    }
   ],
   "source": [
    "fidelity(ptrace(res.states[-1], [0,1]), tensor(basis(2,0), (basis(2,0)+basis(2,1))/np.sqrt(2)))"
   ]
  },
  {
   "cell_type": "code",
   "execution_count": 15,
   "metadata": {},
   "outputs": [
    {
     "data": {
      "text/plain": [
       "0.9597304058440735"
      ]
     },
     "execution_count": 15,
     "metadata": {},
     "output_type": "execute_result"
    }
   ],
   "source": [
    "fidelity(ptrace(res.states[-1], [control,target]), tensor(basis(2,0),basis(2,0))/np.sqrt(2) + (tensor(basis(2,1),basis(2,0)+basis(2,1)))/2)"
   ]
  },
  {
   "cell_type": "code",
   "execution_count": null,
   "metadata": {},
   "outputs": [],
   "source": []
  }
 ],
 "metadata": {
  "kernelspec": {
   "display_name": "Python 3",
   "language": "python",
   "name": "python3"
  },
  "language_info": {
   "codemirror_mode": {
    "name": "ipython",
    "version": 3
   },
   "file_extension": ".py",
   "mimetype": "text/x-python",
   "name": "python",
   "nbconvert_exporter": "python",
   "pygments_lexer": "ipython3",
   "version": "3.6.5"
  },
  "name": "Untitled.ipynb"
 },
 "nbformat": 4,
 "nbformat_minor": 2
}
