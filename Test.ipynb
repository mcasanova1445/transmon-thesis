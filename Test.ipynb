{
 "cells": [
  {
   "cell_type": "code",
   "execution_count": 1,
   "metadata": {
    "autoscroll": false,
    "ein.tags": "worksheet-0",
    "slideshow": {
     "slide_type": "-"
    }
   },
   "outputs": [],
   "source": [
    "%matplotlib inline\n",
    "import matplotlib.pyplot as plt\n",
    "import matplotlib as mpl\n",
    "import numpy as np\n",
    "from qutip import *\n",
    "import tgates"
   ]
  },
  {
   "cell_type": "code",
   "execution_count": 2,
   "metadata": {
    "autoscroll": false,
    "ein.tags": "worksheet-0",
    "slideshow": {
     "slide_type": "-"
    }
   },
   "outputs": [],
   "source": [
    "'''\n",
    "qchip = tgates1.QuantumChip(psi0 = [[0,1], [0,1], [0,1], [1,0]])\n",
    "\n",
    "qchip.psi0\n",
    "'''\n",
    "\n",
    "psi0 = tensor(\n",
    "    basis(2,0),\n",
    "    basis(2,0),\n",
    "    basis(2,0),\n",
    "    (basis(2,0)+basis(2,1))/np.sqrt(2))\n"
   ]
  },
  {
   "cell_type": "code",
   "execution_count": 6,
   "metadata": {},
   "outputs": [],
   "source": [
    "res = tgates.CCCRz(psi0, 0, 1, 2, 3, np.pi)"
   ]
  },
  {
   "cell_type": "code",
   "execution_count": 7,
   "metadata": {},
   "outputs": [
    {
     "data": {
      "text/latex": [
       "Quantum object: dims = [[2, 2, 2, 2], [1, 1, 1, 1]], shape = (16, 1), type = ket\\begin{equation*}\\left(\\begin{array}{*{11}c}(-0.501-0.496j)\\\\(-0.496-0.506j)\\\\(4.593\\times10^{-04}-5.758\\times10^{-05}j)\\\\(-8.540\\times10^{-04}-5.000\\times10^{-04}j)\\\\(-8.013\\times10^{-04}-9.750\\times10^{-04}j)\\\\\\vdots\\\\(-2.279\\times10^{-06}+8.633\\times10^{-08}j)\\\\(3.339\\times10^{-06}+7.430\\times10^{-06}j)\\\\(-1.415\\times10^{-08}+3.339\\times10^{-06}j)\\\\(4.760\\times10^{-06}+2.575\\times10^{-06}j)\\\\(-7.212\\times10^{-07}+3.076\\times10^{-06}j)\\\\\\end{array}\\right)\\end{equation*}"
      ],
      "text/plain": [
       "Quantum object: dims = [[2, 2, 2, 2], [1, 1, 1, 1]], shape = (16, 1), type = ket\n",
       "Qobj data =\n",
       "[[-5.00738646e-01-4.96278447e-01j]\n",
       " [-4.96459193e-01-5.06450736e-01j]\n",
       " [ 4.59271914e-04-5.75764168e-05j]\n",
       " [-8.53958402e-04-5.00009564e-04j]\n",
       " [-8.01274274e-04-9.75032706e-04j]\n",
       " [-9.43721617e-04-6.88163090e-04j]\n",
       " [-5.16190558e-05-7.78476813e-06j]\n",
       " [-1.03358746e-04+1.45571026e-04j]\n",
       " [-3.30173210e-04-1.99313361e-04j]\n",
       " [-3.02594039e-04-8.78784156e-05j]\n",
       " [-2.57303911e-06-1.95445235e-06j]\n",
       " [-2.27939686e-06+8.63327081e-08j]\n",
       " [ 3.33852738e-06+7.42961228e-06j]\n",
       " [-1.41524676e-08+3.33925028e-06j]\n",
       " [ 4.76020852e-06+2.57456824e-06j]\n",
       " [-7.21213446e-07+3.07636428e-06j]]"
      ]
     },
     "execution_count": 7,
     "metadata": {},
     "output_type": "execute_result"
    }
   ],
   "source": [
    "res.states[-1]"
   ]
  },
  {
   "cell_type": "code",
   "execution_count": 8,
   "metadata": {},
   "outputs": [
    {
     "data": {
      "text/latex": [
       "Quantum object: dims = [[2], [2]], shape = (2, 2), type = oper, isherm = True\\begin{equation*}\\left(\\begin{array}{*{11}c}0.497 & (0.500-0.007j)\\\\(0.500+0.007j) & 0.503\\\\\\end{array}\\right)\\end{equation*}"
      ],
      "text/plain": [
       "Quantum object: dims = [[2], [2]], shape = (2, 2), type = oper, isherm = True\n",
       "Qobj data =\n",
       "[[0.49703345+0.j         0.49993807-0.00721677j]\n",
       " [0.49993807+0.00721677j 0.50296655+0.j        ]]"
      ]
     },
     "execution_count": 8,
     "metadata": {},
     "output_type": "execute_result"
    }
   ],
   "source": [
    "ptrace(res.states[-1], 3)"
   ]
  },
  {
   "cell_type": "code",
   "execution_count": null,
   "metadata": {},
   "outputs": [],
   "source": [
    "qchip.gCNOT([0,1,2],3)\n",
    "qchip.psi0"
   ]
  },
  {
   "cell_type": "code",
   "execution_count": null,
   "metadata": {},
   "outputs": [],
   "source": [
    "r_i, i_i, r_m, i_m, r_d, i_d = 0, 0, 0, 0, 0, 0\n",
    "for i in range(16):\n",
    "    if np.abs(np.real(A[0,0]) - np.real(A[i,0])) < 1e-2:\n",
    "        r_i += 1\n",
    "    elif np.abs(np.real(A[0,0]) + np.real(A[i,0])) < 1e-2:\n",
    "        r_m += 1\n",
    "    else:\n",
    "        r_d += 1\n",
    "    \n",
    "    if np.abs(np.imag(A[0,0]) - np.imag(A[i,0])) < 1e-2:\n",
    "        i_i += 1\n",
    "    elif np.abs(np.imag(A[0,0]) + np.imag(A[i,0])) < 1e-2:\n",
    "        i_m += 1\n",
    "    else:\n",
    "        i_d += 1\n",
    "\n",
    "print(\"(r_i, r_m, r_d) = ({}, {}, {})\".format(r_i, r_m, r_d))\n",
    "print(\"(i_i, i_m, i_d) = ({}, {}, {})\".format(i_i, i_m, i_d))\n",
    "\n",
    "for i in range(16):\n",
    "    print(A[i,0])"
   ]
  },
  {
   "cell_type": "code",
   "execution_count": null,
   "metadata": {},
   "outputs": [],
   "source": [
    "A=ptrace(res.states[-1], [1,3])\n",
    "A"
   ]
  },
  {
   "cell_type": "code",
   "execution_count": null,
   "metadata": {
    "autoscroll": false,
    "ein.tags": "worksheet-0",
    "slideshow": {
     "slide_type": "-"
    }
   },
   "outputs": [],
   "source": [
    "qsave(res,'displaced_system2')"
   ]
  },
  {
   "cell_type": "code",
   "execution_count": null,
   "metadata": {
    "autoscroll": false,
    "ein.tags": "worksheet-0",
    "slideshow": {
     "slide_type": "-"
    }
   },
   "outputs": [],
   "source": [
    "res = qload('displaced_system2')"
   ]
  },
  {
   "cell_type": "code",
   "execution_count": null,
   "metadata": {
    "autoscroll": false,
    "ein.tags": "worksheet-0",
    "slideshow": {
     "slide_type": "-"
    }
   },
   "outputs": [],
   "source": [
    "fig = plt.figure(figsize=(8, 8))\n",
    "\n",
    "ax = fig.add_subplot(1, 1, 1)\n",
    "plot_wigner(ptrace(res.states[-1],0), fig=fig, ax=ax, alpha_max=10)"
   ]
  },
  {
   "cell_type": "code",
   "execution_count": null,
   "metadata": {},
   "outputs": [],
   "source": [
    "A=res.states[-1]\n",
    "B=tensor(basis(2,1),basis(2,1),basis(2,1),basis(2,1))"
   ]
  },
  {
   "cell_type": "code",
   "execution_count": null,
   "metadata": {},
   "outputs": [],
   "source": [
    "fidelity(A,B)"
   ]
  },
  {
   "cell_type": "code",
   "execution_count": null,
   "metadata": {},
   "outputs": [],
   "source": [
    "A"
   ]
  },
  {
   "cell_type": "markdown",
   "metadata": {},
   "source": [
    "# Testing suspicious gates\n",
    "\n",
    "- CRy\n",
    "- CP00\n",
    "- CCRy\n",
    "- CCCNOT\n",
    "- CCCRy"
   ]
  },
  {
   "cell_type": "code",
   "execution_count": null,
   "metadata": {},
   "outputs": [],
   "source": [
    "import tgates"
   ]
  },
  {
   "cell_type": "code",
   "execution_count": null,
   "metadata": {},
   "outputs": [],
   "source": [
    "res = tgates.CRy(psi0, 2, 3, np.pi/4)\n",
    "qsave(res, 'CRy1')\n",
    "res.states[-1]"
   ]
  },
  {
   "cell_type": "code",
   "execution_count": null,
   "metadata": {},
   "outputs": [],
   "source": [
    "res = tgates.CCRy(psi0, 1, 2, 3, np.pi/4)\n",
    "qsave(res, 'CCRy1')\n",
    "res.states[-1]"
   ]
  },
  {
   "cell_type": "code",
   "execution_count": null,
   "metadata": {},
   "outputs": [],
   "source": [
    "res = tgates.CCCRy(psi0, 0, 1, 2, 3, np.pi/4)\n",
    "qsave(res, 'CCCRy1')\n",
    "res.states[-1]"
   ]
  },
  {
   "cell_type": "code",
   "execution_count": null,
   "metadata": {},
   "outputs": [],
   "source": [
    "res = tgates.CP(psi0, 2, 3, np.pi/4, b=0b00)\n",
    "qsave(res, 'CP001')\n",
    "res.states[-1]"
   ]
  },
  {
   "cell_type": "code",
   "execution_count": null,
   "metadata": {},
   "outputs": [],
   "source": [
    "res = tgates.CCCNOT(psi0, 0, 1, 2, 3)\n",
    "qsave(res, 'CCCNOT1')\n",
    "res.states[-1]"
   ]
  },
  {
   "cell_type": "code",
   "execution_count": null,
   "metadata": {},
   "outputs": [],
   "source": [
    "# Section 2"
   ]
  },
  {
   "cell_type": "code",
   "execution_count": null,
   "metadata": {},
   "outputs": [],
   "source": [
    "psi0 = tensor(\n",
    "    basis(2,1),\n",
    "    basis(2,1),\n",
    "    basis(2,1),\n",
    "    basis(2,0))\n",
    "print('AHHHHHHHHHHHHHHHHHHHHHHHHHHHHH')"
   ]
  },
  {
   "cell_type": "code",
   "execution_count": null,
   "metadata": {},
   "outputs": [],
   "source": [
    "res = tgates.CRy(psi0, 2, 3, np.pi/4)\n",
    "qsave(res, 'CRy2')\n",
    "res.states[-1]"
   ]
  },
  {
   "cell_type": "code",
   "execution_count": null,
   "metadata": {},
   "outputs": [],
   "source": [
    "res = tgates.CCRy(psi0, 1, 2, 3, np.pi/4)\n",
    "qsave(res, 'CCRy2')\n",
    "res.states[-1]"
   ]
  },
  {
   "cell_type": "code",
   "execution_count": null,
   "metadata": {},
   "outputs": [],
   "source": [
    "res = tgates.CCCRy(psi0, 0, 1, 2, 3, np.pi/4)\n",
    "qsave(res, 'CCCRy2')\n",
    "res.states[-1]"
   ]
  },
  {
   "cell_type": "code",
   "execution_count": null,
   "metadata": {},
   "outputs": [],
   "source": [
    "res = tgates.CP(psi0, 2, 3, np.pi/4, b=0b00)\n",
    "qsave(res, 'CP002')\n",
    "res.states[-1]"
   ]
  },
  {
   "cell_type": "code",
   "execution_count": null,
   "metadata": {},
   "outputs": [],
   "source": [
    "res = tgates.CCCNOT(psi0, 0, 1, 2, 3)\n",
    "qsave(res, 'CCCNOT2')\n",
    "res.states[-1]"
   ]
  },
  {
   "cell_type": "code",
   "execution_count": null,
   "metadata": {},
   "outputs": [],
   "source": []
  }
 ],
 "metadata": {
  "kernelspec": {
   "display_name": "Python 3",
   "language": "python",
   "name": "python3"
  },
  "language_info": {
   "codemirror_mode": {
    "name": "ipython",
    "version": 3
   },
   "file_extension": ".py",
   "mimetype": "text/x-python",
   "name": "python",
   "nbconvert_exporter": "python",
   "pygments_lexer": "ipython3",
   "version": "3.7.0"
  },
  "name": "Untitled.ipynb"
 },
 "nbformat": 4,
 "nbformat_minor": 2
}
