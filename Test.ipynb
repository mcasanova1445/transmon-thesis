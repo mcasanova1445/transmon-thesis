{
 "cells": [
  {
   "cell_type": "code",
   "execution_count": 1,
   "metadata": {
    "autoscroll": false,
    "ein.tags": "worksheet-0",
    "slideshow": {
     "slide_type": "-"
    }
   },
   "outputs": [],
   "source": [
    "%matplotlib inline\n",
    "import matplotlib.pyplot as plt\n",
    "import matplotlib as mpl\n",
    "import numpy as np\n",
    "from qutip import *\n",
    "import tgates1"
   ]
  },
  {
   "cell_type": "code",
   "execution_count": 2,
   "metadata": {
    "autoscroll": false,
    "ein.tags": "worksheet-0",
    "slideshow": {
     "slide_type": "-"
    }
   },
   "outputs": [],
   "source": [
    "'''\n",
    "qchip = tgates1.QuantumChip(psi0 = [[0,1], [0,1], [0,1], [1,0]])\n",
    "\n",
    "qchip.psi0\n",
    "'''\n",
    "\n",
    "psi0 = tensor(\n",
    "    (basis(2,0)+basis(2,1))/np.sqrt(2),\n",
    "    (basis(2,0)+basis(2,1))/np.sqrt(2),\n",
    "    (basis(2,0)+basis(2,1))/np.sqrt(2),\n",
    "    (basis(2,0)+basis(2,1))/np.sqrt(2))\n"
   ]
  },
  {
   "cell_type": "code",
   "execution_count": 3,
   "metadata": {},
   "outputs": [
    {
     "data": {
      "text/latex": [
       "Quantum object: dims = [[2, 2, 2, 2], [1, 1, 1, 1]], shape = (16, 1), type = ket\\begin{equation*}\\left(\\begin{array}{*{11}c}0.250\\\\0.250\\\\0.250\\\\0.250\\\\0.250\\\\\\vdots\\\\0.250\\\\0.250\\\\0.250\\\\0.250\\\\0.250\\\\\\end{array}\\right)\\end{equation*}"
      ],
      "text/plain": [
       "Quantum object: dims = [[2, 2, 2, 2], [1, 1, 1, 1]], shape = (16, 1), type = ket\n",
       "Qobj data =\n",
       "[[0.25]\n",
       " [0.25]\n",
       " [0.25]\n",
       " [0.25]\n",
       " [0.25]\n",
       " [0.25]\n",
       " [0.25]\n",
       " [0.25]\n",
       " [0.25]\n",
       " [0.25]\n",
       " [0.25]\n",
       " [0.25]\n",
       " [0.25]\n",
       " [0.25]\n",
       " [0.25]\n",
       " [0.25]]"
      ]
     },
     "execution_count": 3,
     "metadata": {},
     "output_type": "execute_result"
    }
   ],
   "source": [
    "psi0"
   ]
  },
  {
   "cell_type": "code",
   "execution_count": 3,
   "metadata": {},
   "outputs": [
    {
     "ename": "NameError",
     "evalue": "name 'control' is not defined",
     "output_type": "error",
     "traceback": [
      "\u001b[0;31m---------------------------------------------------------------------------\u001b[0m",
      "\u001b[0;31mNameError\u001b[0m                                 Traceback (most recent call last)",
      "\u001b[0;32m<ipython-input-3-cb9cd8eeecd3>\u001b[0m in \u001b[0;36m<module>\u001b[0;34m()\u001b[0m\n\u001b[0;32m----> 1\u001b[0;31m \u001b[0mqchip\u001b[0m\u001b[0;34m.\u001b[0m\u001b[0mgCNOT\u001b[0m\u001b[0;34m(\u001b[0m\u001b[0;34m[\u001b[0m\u001b[0;36m0\u001b[0m\u001b[0;34m,\u001b[0m\u001b[0;36m1\u001b[0m\u001b[0;34m,\u001b[0m\u001b[0;36m2\u001b[0m\u001b[0;34m]\u001b[0m\u001b[0;34m,\u001b[0m\u001b[0;36m3\u001b[0m\u001b[0;34m)\u001b[0m\u001b[0;34m\u001b[0m\u001b[0m\n\u001b[0m\u001b[1;32m      2\u001b[0m \u001b[0mqchip\u001b[0m\u001b[0;34m.\u001b[0m\u001b[0mpsi0\u001b[0m\u001b[0;34m\u001b[0m\u001b[0m\n",
      "\u001b[0;32m~/Documents/transmon-thesis/tgates1.py\u001b[0m in \u001b[0;36mgCNOT\u001b[0;34m(self, control_list, target)\u001b[0m\n\u001b[1;32m    390\u001b[0m             \u001b[0mcontrol_list2\u001b[0m \u001b[0;34m=\u001b[0m \u001b[0;34m[\u001b[0m\u001b[0mcontrol1\u001b[0m\u001b[0;34m]\u001b[0m \u001b[0;34m+\u001b[0m \u001b[0mcontrol_list\u001b[0m\u001b[0;34m[\u001b[0m\u001b[0;36m2\u001b[0m\u001b[0;34m:\u001b[0m\u001b[0;34m]\u001b[0m\u001b[0;34m\u001b[0m\u001b[0m\n\u001b[1;32m    391\u001b[0m             \u001b[0mres\u001b[0m \u001b[0;34m=\u001b[0m \u001b[0mself\u001b[0m\u001b[0;34m.\u001b[0m\u001b[0mH\u001b[0m\u001b[0;34m(\u001b[0m\u001b[0mtarget\u001b[0m\u001b[0;34m)\u001b[0m\u001b[0;34m\u001b[0m\u001b[0m\n\u001b[0;32m--> 392\u001b[0;31m             \u001b[0mres\u001b[0m \u001b[0;34m=\u001b[0m \u001b[0mself\u001b[0m\u001b[0;34m.\u001b[0m\u001b[0mgCRz\u001b[0m\u001b[0;34m(\u001b[0m\u001b[0mcontrol_list1\u001b[0m\u001b[0;34m,\u001b[0m \u001b[0mtarget\u001b[0m\u001b[0;34m,\u001b[0m \u001b[0;34m-\u001b[0m\u001b[0mnp\u001b[0m\u001b[0;34m.\u001b[0m\u001b[0mpi\u001b[0m\u001b[0;34m/\u001b[0m\u001b[0;36m2\u001b[0m\u001b[0;34m)\u001b[0m\u001b[0;34m\u001b[0m\u001b[0m\n\u001b[0m\u001b[1;32m    393\u001b[0m             \u001b[0mres\u001b[0m \u001b[0;34m=\u001b[0m \u001b[0mself\u001b[0m\u001b[0;34m.\u001b[0m\u001b[0mCNOT\u001b[0m\u001b[0;34m(\u001b[0m\u001b[0mcontrol1\u001b[0m\u001b[0;34m,\u001b[0m \u001b[0mcontrol2\u001b[0m\u001b[0;34m)\u001b[0m\u001b[0;34m\u001b[0m\u001b[0m\n\u001b[1;32m    394\u001b[0m             \u001b[0mres\u001b[0m \u001b[0;34m=\u001b[0m \u001b[0mself\u001b[0m\u001b[0;34m.\u001b[0m\u001b[0mgCRz\u001b[0m\u001b[0;34m(\u001b[0m\u001b[0mcontrol_list1\u001b[0m\u001b[0;34m,\u001b[0m \u001b[0mtarget\u001b[0m\u001b[0;34m,\u001b[0m \u001b[0mnp\u001b[0m\u001b[0;34m.\u001b[0m\u001b[0mpi\u001b[0m\u001b[0;34m/\u001b[0m\u001b[0;36m2\u001b[0m\u001b[0;34m)\u001b[0m\u001b[0;34m\u001b[0m\u001b[0m\n",
      "\u001b[0;32m~/Documents/transmon-thesis/tgates1.py\u001b[0m in \u001b[0;36mgCRz\u001b[0;34m(self, control_list, target, theta)\u001b[0m\n\u001b[1;32m    425\u001b[0m \u001b[0;34m\u001b[0m\u001b[0m\n\u001b[1;32m    426\u001b[0m         \u001b[0;32melif\u001b[0m \u001b[0mlen\u001b[0m\u001b[0;34m(\u001b[0m\u001b[0mcontrol_list\u001b[0m\u001b[0;34m)\u001b[0m \u001b[0;34m==\u001b[0m \u001b[0;36m2\u001b[0m\u001b[0;34m:\u001b[0m\u001b[0;34m\u001b[0m\u001b[0m\n\u001b[0;32m--> 427\u001b[0;31m             \u001b[0mres\u001b[0m \u001b[0;34m=\u001b[0m \u001b[0mself\u001b[0m\u001b[0;34m.\u001b[0m\u001b[0mCCRz\u001b[0m\u001b[0;34m(\u001b[0m\u001b[0mcontrol\u001b[0m\u001b[0;34m[\u001b[0m\u001b[0;36m0\u001b[0m\u001b[0;34m]\u001b[0m\u001b[0;34m,\u001b[0m \u001b[0mcontrol\u001b[0m\u001b[0;34m[\u001b[0m\u001b[0;36m1\u001b[0m\u001b[0;34m]\u001b[0m\u001b[0;34m,\u001b[0m \u001b[0mtarget\u001b[0m\u001b[0;34m,\u001b[0m \u001b[0mtheta\u001b[0m\u001b[0;34m)\u001b[0m\u001b[0;34m\u001b[0m\u001b[0m\n\u001b[0m\u001b[1;32m    428\u001b[0m \u001b[0;34m\u001b[0m\u001b[0m\n\u001b[1;32m    429\u001b[0m         \u001b[0;32melse\u001b[0m\u001b[0;34m:\u001b[0m\u001b[0;34m\u001b[0m\u001b[0m\n",
      "\u001b[0;31mNameError\u001b[0m: name 'control' is not defined"
     ]
    }
   ],
   "source": [
    "qchip.gCNOT([0,1,2],3)\n",
    "qchip.psi0"
   ]
  },
  {
   "cell_type": "code",
   "execution_count": null,
   "metadata": {},
   "outputs": [],
   "source": [
    "r_i, i_i, r_m, i_m, r_d, i_d = 0, 0, 0, 0, 0, 0\n",
    "for i in range(16):\n",
    "    if np.abs(np.real(A[0,0]) - np.real(A[i,0])) < 1e-2:\n",
    "        r_i += 1\n",
    "    elif np.abs(np.real(A[0,0]) + np.real(A[i,0])) < 1e-2:\n",
    "        r_m += 1\n",
    "    else:\n",
    "        r_d += 1\n",
    "    \n",
    "    if np.abs(np.imag(A[0,0]) - np.imag(A[i,0])) < 1e-2:\n",
    "        i_i += 1\n",
    "    elif np.abs(np.imag(A[0,0]) + np.imag(A[i,0])) < 1e-2:\n",
    "        i_m += 1\n",
    "    else:\n",
    "        i_d += 1\n",
    "\n",
    "print(\"(r_i, r_m, r_d) = ({}, {}, {})\".format(r_i, r_m, r_d))\n",
    "print(\"(i_i, i_m, i_d) = ({}, {}, {})\".format(i_i, i_m, i_d))\n",
    "\n",
    "for i in range(16):\n",
    "    print(A[i,0])"
   ]
  },
  {
   "cell_type": "code",
   "execution_count": null,
   "metadata": {},
   "outputs": [],
   "source": [
    "A=ptrace(res.states[-1], [1,3])\n",
    "A"
   ]
  },
  {
   "cell_type": "code",
   "execution_count": null,
   "metadata": {
    "autoscroll": false,
    "ein.tags": "worksheet-0",
    "slideshow": {
     "slide_type": "-"
    }
   },
   "outputs": [],
   "source": [
    "qsave(res,'displaced_system2')"
   ]
  },
  {
   "cell_type": "code",
   "execution_count": null,
   "metadata": {
    "autoscroll": false,
    "ein.tags": "worksheet-0",
    "slideshow": {
     "slide_type": "-"
    }
   },
   "outputs": [],
   "source": [
    "res = qload('displaced_system2')"
   ]
  },
  {
   "cell_type": "code",
   "execution_count": null,
   "metadata": {
    "autoscroll": false,
    "ein.tags": "worksheet-0",
    "slideshow": {
     "slide_type": "-"
    }
   },
   "outputs": [],
   "source": [
    "fig = plt.figure(figsize=(8, 8))\n",
    "\n",
    "ax = fig.add_subplot(1, 1, 1)\n",
    "plot_wigner(ptrace(res.states[-1],0), fig=fig, ax=ax, alpha_max=10)"
   ]
  },
  {
   "cell_type": "code",
   "execution_count": null,
   "metadata": {},
   "outputs": [],
   "source": [
    "A=res.states[-1]\n",
    "B=tensor(basis(2,1),basis(2,1),basis(2,1),basis(2,1))"
   ]
  },
  {
   "cell_type": "code",
   "execution_count": null,
   "metadata": {},
   "outputs": [],
   "source": [
    "fidelity(A,B)"
   ]
  },
  {
   "cell_type": "code",
   "execution_count": null,
   "metadata": {},
   "outputs": [],
   "source": [
    "A"
   ]
  },
  {
   "cell_type": "markdown",
   "metadata": {},
   "source": [
    "# Testing suspicious gates\n",
    "\n",
    "- CRy\n",
    "- CP00\n",
    "- CCRy\n",
    "- CCCNOT\n",
    "- CCCRy"
   ]
  },
  {
   "cell_type": "code",
   "execution_count": 4,
   "metadata": {},
   "outputs": [],
   "source": [
    "import tgates"
   ]
  },
  {
   "cell_type": "code",
   "execution_count": 5,
   "metadata": {},
   "outputs": [
    {
     "data": {
      "text/latex": [
       "Quantum object: dims = [[2, 2, 2, 2], [1, 1, 1, 1]], shape = (16, 1), type = ket\\begin{equation*}\\left(\\begin{array}{*{11}c}(4.386\\times10^{-05}+0.250j)\\\\(9.797\\times10^{-05}+0.250j)\\\\(-4.531\\times10^{-05}+0.135j)\\\\(-1.336\\times10^{-04}+0.326j)\\\\(-4.175\\times10^{-05}+0.250j)\\\\\\vdots\\\\(2.058\\times10^{-05}+0.327j)\\\\(9.227\\times10^{-05}+0.250j)\\\\(1.475\\times10^{-04}+0.250j)\\\\(-1.764\\times10^{-05}+0.135j)\\\\(-6.764\\times10^{-05}+0.327j)\\\\\\end{array}\\right)\\end{equation*}"
      ],
      "text/plain": [
       "Quantum object: dims = [[2, 2, 2, 2], [1, 1, 1, 1]], shape = (16, 1), type = ket\n",
       "Qobj data =\n",
       "[[ 4.38613112e-05+0.24997065j]\n",
       " [ 9.79730206e-05+0.24989361j]\n",
       " [-4.53128963e-05+0.13520923j]\n",
       " [-1.33624908e-04+0.32643365j]\n",
       " [-4.17505042e-05+0.25019458j]\n",
       " [ 1.90001152e-05+0.25010452j]\n",
       " [-6.17738244e-06+0.13538865j]\n",
       " [-2.01800829e-05+0.32677365j]\n",
       " [-1.04445493e-05+0.2501371j ]\n",
       " [ 5.13146170e-05+0.25007062j]\n",
       " [ 1.06742356e-05+0.13530429j]\n",
       " [ 2.05753110e-05+0.32670084j]\n",
       " [ 9.22732171e-05+0.24995538j]\n",
       " [ 1.47525748e-04+0.24987303j]\n",
       " [-1.76418134e-05+0.13526529j]\n",
       " [-6.76405496e-05+0.32651359j]]"
      ]
     },
     "execution_count": 5,
     "metadata": {},
     "output_type": "execute_result"
    }
   ],
   "source": [
    "res = tgates.CRy(psi0, 2, 3, np.pi/4)\n",
    "qsave(res, 'CRy1')\n",
    "res.states[-1]"
   ]
  },
  {
   "cell_type": "code",
   "execution_count": 6,
   "metadata": {},
   "outputs": [
    {
     "data": {
      "text/latex": [
       "Quantum object: dims = [[2, 2, 2, 2], [1, 1, 1, 1]], shape = (16, 1), type = ket\\begin{equation*}\\left(\\begin{array}{*{11}c}(0.250-1.317\\times10^{-04}j)\\\\(0.250-1.909\\times10^{-04}j)\\\\(0.250+2.510\\times10^{-04}j)\\\\(0.250+3.175\\times10^{-04}j)\\\\(0.250+6.133\\times10^{-05}j)\\\\\\vdots\\\\(0.250-1.151\\times10^{-04}j)\\\\(0.250-2.765\\times10^{-04}j)\\\\(0.250-2.295\\times10^{-04}j)\\\\(0.135-7.714\\times10^{-05}j)\\\\(0.326-2.402\\times10^{-05}j)\\\\\\end{array}\\right)\\end{equation*}"
      ],
      "text/plain": [
       "Quantum object: dims = [[2, 2, 2, 2], [1, 1, 1, 1]], shape = (16, 1), type = ket\n",
       "Qobj data =\n",
       "[[0.24986013-1.31710662e-04j]\n",
       " [0.24974312-1.90879853e-04j]\n",
       " [0.24959623+2.50994726e-04j]\n",
       " [0.24957958+3.17494564e-04j]\n",
       " [0.25036339+6.13319053e-05j]\n",
       " [0.25013499+6.95839134e-05j]\n",
       " [0.13571645+3.82419710e-05j]\n",
       " [0.32701134+1.74714512e-04j]\n",
       " [0.25046927-1.03916860e-04j]\n",
       " [0.25053546-1.75989594e-04j]\n",
       " [0.25010026-1.64071594e-04j]\n",
       " [0.25024458-1.15054674e-04j]\n",
       " [0.2497119 -2.76533413e-04j]\n",
       " [0.24965196-2.29545188e-04j]\n",
       " [0.13522799-7.71403682e-05j]\n",
       " [0.32612996-2.40242602e-05j]]"
      ]
     },
     "execution_count": 6,
     "metadata": {},
     "output_type": "execute_result"
    }
   ],
   "source": [
    "res = tgates.CCRy(psi0, 1, 2, 3, np.pi/4)\n",
    "qsave(res, 'CCRy1')\n",
    "res.states[-1]"
   ]
  },
  {
   "cell_type": "code",
   "execution_count": 7,
   "metadata": {},
   "outputs": [
    {
     "data": {
      "text/latex": [
       "Quantum object: dims = [[2, 2, 2, 2], [1, 1, 1, 1]], shape = (16, 1), type = ket\\begin{equation*}\\left(\\begin{array}{*{11}c}(-0.176-0.177j)\\\\(-0.177-0.178j)\\\\(-0.176-0.178j)\\\\(-0.174-0.178j)\\\\(-0.177-0.177j)\\\\\\vdots\\\\(-0.176-0.177j)\\\\(-0.177-0.175j)\\\\(-0.177-0.176j)\\\\(-0.096-0.095j)\\\\(-0.231-0.230j)\\\\\\end{array}\\right)\\end{equation*}"
      ],
      "text/plain": [
       "Quantum object: dims = [[2, 2, 2, 2], [1, 1, 1, 1]], shape = (16, 1), type = ket\n",
       "Qobj data =\n",
       "[[-0.17591038-0.17658352j]\n",
       " [-0.17692382-0.17795418j]\n",
       " [-0.17591122-0.1776265j ]\n",
       " [-0.17446993-0.17806523j]\n",
       " [-0.17717401-0.17675343j]\n",
       " [-0.17646972-0.17711725j]\n",
       " [-0.17812939-0.17841958j]\n",
       " [-0.17574211-0.17701673j]\n",
       " [-0.17718419-0.17578308j]\n",
       " [-0.17838942-0.17804418j]\n",
       " [-0.17690452-0.17594134j]\n",
       " [-0.17598583-0.17683843j]\n",
       " [-0.17744881-0.17489324j]\n",
       " [-0.17729214-0.17616084j]\n",
       " [-0.09619208-0.09484515j]\n",
       " [-0.23083352-0.23010754j]]"
      ]
     },
     "execution_count": 7,
     "metadata": {},
     "output_type": "execute_result"
    }
   ],
   "source": [
    "res = tgates.CCCRy(psi0, 0, 1, 2, 3, np.pi/4)\n",
    "qsave(res, 'CCCRy1')\n",
    "res.states[-1]"
   ]
  },
  {
   "cell_type": "code",
   "execution_count": 8,
   "metadata": {},
   "outputs": [
    {
     "data": {
      "text/latex": [
       "Quantum object: dims = [[2, 2, 2, 2], [1, 1, 1, 1]], shape = (16, 1), type = ket\\begin{equation*}\\left(\\begin{array}{*{11}c}(-0.208-0.139j)\\\\(-0.245+0.049j)\\\\(-0.245+0.049j)\\\\(-0.245+0.048j)\\\\(-0.208-0.139j)\\\\\\vdots\\\\(-0.245+0.049j)\\\\(-0.208-0.139j)\\\\(-0.245+0.049j)\\\\(-0.245+0.049j)\\\\(-0.245+0.049j)\\\\\\end{array}\\right)\\end{equation*}"
      ],
      "text/plain": [
       "Quantum object: dims = [[2, 2, 2, 2], [1, 1, 1, 1]], shape = (16, 1), type = ket\n",
       "Qobj data =\n",
       "[[-0.20784261-0.13868869j]\n",
       " [-0.24502877+0.04871661j]\n",
       " [-0.24489614+0.04858931j]\n",
       " [-0.24496302+0.04846854j]\n",
       " [-0.20824065-0.13914678j]\n",
       " [-0.24530098+0.04870377j]\n",
       " [-0.24554422+0.04882272j]\n",
       " [-0.24530997+0.04871986j]\n",
       " [-0.20812499-0.13898051j]\n",
       " [-0.2455137 +0.04886606j]\n",
       " [-0.24523886+0.04880975j]\n",
       " [-0.24541884+0.04884237j]\n",
       " [-0.20793638-0.13854639j]\n",
       " [-0.24483524+0.04884484j]\n",
       " [-0.2450154 +0.04882208j]\n",
       " [-0.24491792+0.04864052j]]"
      ]
     },
     "execution_count": 8,
     "metadata": {},
     "output_type": "execute_result"
    }
   ],
   "source": [
    "res = tgates.CP(psi0, 2, 3, np.pi/4, b=0b00)\n",
    "qsave(res, 'CP001')\n",
    "res.states[-1]"
   ]
  },
  {
   "cell_type": "code",
   "execution_count": 9,
   "metadata": {},
   "outputs": [
    {
     "data": {
      "text/latex": [
       "Quantum object: dims = [[2, 2, 2, 2], [1, 1, 1, 1]], shape = (16, 1), type = ket\\begin{equation*}\\left(\\begin{array}{*{11}c}(-0.245-0.048j)\\\\(-0.245-0.050j)\\\\(-0.244-0.049j)\\\\(-0.243-0.051j)\\\\(-0.247-0.049j)\\\\\\vdots\\\\(-0.245-0.049j)\\\\(-0.245-0.047j)\\\\(-0.245-0.048j)\\\\(-0.244-0.047j)\\\\(-0.244-0.048j)\\\\\\end{array}\\right)\\end{equation*}"
      ],
      "text/plain": [
       "Quantum object: dims = [[2, 2, 2, 2], [1, 1, 1, 1]], shape = (16, 1), type = ket\n",
       "Qobj data =\n",
       "[[-0.24459182-0.0482856j ]\n",
       " [-0.24455443-0.04956027j]\n",
       " [-0.2438887 -0.04941529j]\n",
       " [-0.24300775-0.05066457j]\n",
       " [-0.24668259-0.04877965j]\n",
       " [-0.24531397-0.04959289j]\n",
       " [-0.24827925-0.04941783j]\n",
       " [-0.24577319-0.04949981j]\n",
       " [-0.2457732 -0.04740012j]\n",
       " [-0.24677752-0.04871532j]\n",
       " [-0.2447989 -0.04748699j]\n",
       " [-0.24478633-0.04867554j]\n",
       " [-0.24517315-0.04677254j]\n",
       " [-0.24545542-0.04832744j]\n",
       " [-0.24443112-0.04726083j]\n",
       " [-0.24429766-0.04785165j]]"
      ]
     },
     "execution_count": 9,
     "metadata": {},
     "output_type": "execute_result"
    }
   ],
   "source": [
    "res = tgates.CCCNOT(psi0, 0, 1, 2, 3)\n",
    "qsave(res, 'CCCNOT1')\n",
    "res.states[-1]"
   ]
  },
  {
   "cell_type": "code",
   "execution_count": 10,
   "metadata": {},
   "outputs": [],
   "source": [
    "# Section 2"
   ]
  },
  {
   "cell_type": "code",
   "execution_count": 11,
   "metadata": {},
   "outputs": [
    {
     "name": "stdout",
     "output_type": "stream",
     "text": [
      "AHHHHHHHHHHHHHHHHHHHHHHHHHHHHH\n"
     ]
    }
   ],
   "source": [
    "psi0 = tensor(\n",
    "    basis(2,1),\n",
    "    basis(2,1),\n",
    "    basis(2,1),\n",
    "    basis(2,0))\n",
    "print('AHHHHHHHHHHHHHHHHHHHHHHHHHHHHH')"
   ]
  },
  {
   "cell_type": "code",
   "execution_count": 12,
   "metadata": {},
   "outputs": [
    {
     "data": {
      "text/latex": [
       "Quantum object: dims = [[2, 2, 2, 2], [1, 1, 1, 1]], shape = (16, 1), type = ket\\begin{equation*}\\left(\\begin{array}{*{11}c}0.0\\\\0.0\\\\0.0\\\\0.0\\\\0.0\\\\\\vdots\\\\0.0\\\\(-2.832\\times10^{-06}-5.278\\times10^{-06}j)\\\\(-4.301\\times10^{-06}-3.477\\times10^{-06}j)\\\\(5.294\\times10^{-04}+0.924j)\\\\(2.719\\times10^{-04}+0.383j)\\\\\\end{array}\\right)\\end{equation*}"
      ],
      "text/plain": [
       "Quantum object: dims = [[2, 2, 2, 2], [1, 1, 1, 1]], shape = (16, 1), type = ket\n",
       "Qobj data =\n",
       "[[ 0.00000000e+00+0.00000000e+00j]\n",
       " [ 0.00000000e+00+0.00000000e+00j]\n",
       " [ 0.00000000e+00+0.00000000e+00j]\n",
       " [ 0.00000000e+00+0.00000000e+00j]\n",
       " [ 0.00000000e+00+0.00000000e+00j]\n",
       " [ 0.00000000e+00+0.00000000e+00j]\n",
       " [ 0.00000000e+00+0.00000000e+00j]\n",
       " [ 0.00000000e+00+0.00000000e+00j]\n",
       " [ 0.00000000e+00+0.00000000e+00j]\n",
       " [ 0.00000000e+00+0.00000000e+00j]\n",
       " [ 0.00000000e+00+0.00000000e+00j]\n",
       " [ 0.00000000e+00+0.00000000e+00j]\n",
       " [-2.83187437e-06-5.27812892e-06j]\n",
       " [-4.30081513e-06-3.47664027e-06j]\n",
       " [ 5.29427250e-04+9.23844046e-01j]\n",
       " [ 2.71872735e-04+3.82768630e-01j]]"
      ]
     },
     "execution_count": 12,
     "metadata": {},
     "output_type": "execute_result"
    }
   ],
   "source": [
    "res = tgates.CRy(psi0, 2, 3, np.pi/4)\n",
    "qsave(res, 'CRy2')\n",
    "res.states[-1]"
   ]
  },
  {
   "cell_type": "code",
   "execution_count": 13,
   "metadata": {},
   "outputs": [
    {
     "data": {
      "text/latex": [
       "Quantum object: dims = [[2, 2, 2, 2], [1, 1, 1, 1]], shape = (16, 1), type = ket\\begin{equation*}\\left(\\begin{array}{*{11}c}0.0\\\\0.0\\\\0.0\\\\0.0\\\\0.0\\\\\\vdots\\\\(7.695\\times10^{-06}+3.274\\times10^{-06}j)\\\\(7.244\\times10^{-05}-6.274\\times10^{-05}j)\\\\(3.620\\times10^{-05}-3.100\\times10^{-05}j)\\\\(0.924-0.002j)\\\\(0.383-0.001j)\\\\\\end{array}\\right)\\end{equation*}"
      ],
      "text/plain": [
       "Quantum object: dims = [[2, 2, 2, 2], [1, 1, 1, 1]], shape = (16, 1), type = ket\n",
       "Qobj data =\n",
       "[[ 0.00000000e+00+0.00000000e+00j]\n",
       " [ 0.00000000e+00+0.00000000e+00j]\n",
       " [ 0.00000000e+00+0.00000000e+00j]\n",
       " [ 0.00000000e+00+0.00000000e+00j]\n",
       " [ 0.00000000e+00+0.00000000e+00j]\n",
       " [ 0.00000000e+00+0.00000000e+00j]\n",
       " [ 0.00000000e+00+0.00000000e+00j]\n",
       " [ 0.00000000e+00+0.00000000e+00j]\n",
       " [-4.11589386e-06+2.53620050e-06j]\n",
       " [-8.98169857e-08-2.34401259e-07j]\n",
       " [ 4.56940781e-06+5.32562888e-06j]\n",
       " [ 7.69519679e-06+3.27374676e-06j]\n",
       " [ 7.24399990e-05-6.27443221e-05j]\n",
       " [ 3.62005999e-05-3.10025186e-05j]\n",
       " [ 9.23681431e-01-1.76003452e-03j]\n",
       " [ 3.83155603e-01-1.13498243e-03j]]"
      ]
     },
     "execution_count": 13,
     "metadata": {},
     "output_type": "execute_result"
    }
   ],
   "source": [
    "res = tgates.CCRy(psi0, 1, 2, 3, np.pi/4)\n",
    "qsave(res, 'CCRy2')\n",
    "res.states[-1]"
   ]
  },
  {
   "cell_type": "code",
   "execution_count": 14,
   "metadata": {},
   "outputs": [
    {
     "data": {
      "text/latex": [
       "Quantum object: dims = [[2, 2, 2, 2], [1, 1, 1, 1]], shape = (16, 1), type = ket\\begin{equation*}\\left(\\begin{array}{*{11}c}(-1.095\\times10^{-06}+4.950\\times10^{-06}j)\\\\(-1.423\\times10^{-07}-3.250\\times10^{-07}j)\\\\(-4.581\\times10^{-06}+2.148\\times10^{-06}j)\\\\(-1.197\\times10^{-06}-6.932\\times10^{-08}j)\\\\(1.304\\times10^{-04}+7.614\\times10^{-05}j)\\\\\\vdots\\\\(5.242\\times10^{-05}+5.734\\times10^{-05}j)\\\\(-2.083\\times10^{-04}+3.185\\times10^{-04}j)\\\\(-2.457\\times10^{-04}-1.146\\times10^{-04}j)\\\\(-0.664-0.642j)\\\\(-0.274-0.269j)\\\\\\end{array}\\right)\\end{equation*}"
      ],
      "text/plain": [
       "Quantum object: dims = [[2, 2, 2, 2], [1, 1, 1, 1]], shape = (16, 1), type = ket\n",
       "Qobj data =\n",
       "[[-1.09519685e-06+4.95018762e-06j]\n",
       " [-1.42250504e-07-3.25032433e-07j]\n",
       " [-4.58126233e-06+2.14750743e-06j]\n",
       " [-1.19712808e-06-6.93177121e-08j]\n",
       " [ 1.30362994e-04+7.61390851e-05j]\n",
       " [ 2.67197731e-05+3.09982038e-05j]\n",
       " [-5.73978344e-05-1.48939841e-04j]\n",
       " [ 6.70549066e-06-2.30501082e-05j]\n",
       " [ 1.91519268e-04-1.81866824e-04j]\n",
       " [ 4.37743376e-06-3.12332854e-05j]\n",
       " [ 2.22348750e-04+1.14345051e-04j]\n",
       " [ 5.24225049e-05+5.73370375e-05j]\n",
       " [-2.08297321e-04+3.18484308e-04j]\n",
       " [-2.45727253e-04-1.14603601e-04j]\n",
       " [-6.63967629e-01-6.41722350e-01j]\n",
       " [-2.74300864e-01-2.68510784e-01j]]"
      ]
     },
     "execution_count": 14,
     "metadata": {},
     "output_type": "execute_result"
    }
   ],
   "source": [
    "res = tgates.CCCRy(psi0, 0, 1, 2, 3, np.pi/4)\n",
    "qsave(res, 'CCCRy2')\n",
    "res.states[-1]"
   ]
  },
  {
   "cell_type": "code",
   "execution_count": 15,
   "metadata": {},
   "outputs": [
    {
     "data": {
      "text/latex": [
       "Quantum object: dims = [[2, 2, 2, 2], [1, 1, 1, 1]], shape = (16, 1), type = ket\\begin{equation*}\\left(\\begin{array}{*{11}c}0.0\\\\0.0\\\\0.0\\\\0.0\\\\0.0\\\\\\vdots\\\\0.0\\\\(-3.421\\times10^{-04}-1.182\\times10^{-04}j)\\\\(2.241\\times10^{-06}-4.564\\times10^{-06}j)\\\\(-0.980+0.197j)\\\\(-9.821\\times10^{-05}+5.759\\times10^{-05}j)\\\\\\end{array}\\right)\\end{equation*}"
      ],
      "text/plain": [
       "Quantum object: dims = [[2, 2, 2, 2], [1, 1, 1, 1]], shape = (16, 1), type = ket\n",
       "Qobj data =\n",
       "[[ 0.00000000e+00+0.00000000e+00j]\n",
       " [ 0.00000000e+00+0.00000000e+00j]\n",
       " [ 0.00000000e+00+0.00000000e+00j]\n",
       " [ 0.00000000e+00+0.00000000e+00j]\n",
       " [ 0.00000000e+00+0.00000000e+00j]\n",
       " [ 0.00000000e+00+0.00000000e+00j]\n",
       " [ 0.00000000e+00+0.00000000e+00j]\n",
       " [ 0.00000000e+00+0.00000000e+00j]\n",
       " [ 0.00000000e+00+0.00000000e+00j]\n",
       " [ 0.00000000e+00+0.00000000e+00j]\n",
       " [ 0.00000000e+00+0.00000000e+00j]\n",
       " [ 0.00000000e+00+0.00000000e+00j]\n",
       " [-3.42055099e-04-1.18206005e-04j]\n",
       " [ 2.24077784e-06-4.56416144e-06j]\n",
       " [-9.80462865e-01+1.96703905e-01j]\n",
       " [-9.82092733e-05+5.75897434e-05j]]"
      ]
     },
     "execution_count": 15,
     "metadata": {},
     "output_type": "execute_result"
    }
   ],
   "source": [
    "res = tgates.CP(psi0, 2, 3, np.pi/4, b=0b00)\n",
    "qsave(res, 'CP002')\n",
    "res.states[-1]"
   ]
  },
  {
   "cell_type": "code",
   "execution_count": 16,
   "metadata": {},
   "outputs": [
    {
     "data": {
      "text/latex": [
       "Quantum object: dims = [[2, 2, 2, 2], [1, 1, 1, 1]], shape = (16, 1), type = ket\\begin{equation*}\\left(\\begin{array}{*{11}c}(6.187\\times10^{-09}+4.013\\times10^{-09}j)\\\\(-4.829\\times10^{-08}-1.335\\times10^{-08}j)\\\\(-5.229\\times10^{-09}+6.206\\times10^{-07}j)\\\\(-2.014\\times10^{-06}-1.234\\times10^{-06}j)\\\\(1.792\\times10^{-07}-1.018\\times10^{-06}j)\\\\\\vdots\\\\(-3.997\\times10^{-04}-6.907\\times10^{-04}j)\\\\(-6.071\\times10^{-04}+2.330\\times10^{-05}j)\\\\(-4.644\\times10^{-04}-0.002j)\\\\(4.679\\times10^{-04}+0.003j)\\\\(-0.982-0.187j)\\\\\\end{array}\\right)\\end{equation*}"
      ],
      "text/plain": [
       "Quantum object: dims = [[2, 2, 2, 2], [1, 1, 1, 1]], shape = (16, 1), type = ket\n",
       "Qobj data =\n",
       "[[ 6.18663100e-09+4.01266227e-09j]\n",
       " [-4.82944904e-08-1.33531738e-08j]\n",
       " [-5.22904311e-09+6.20559559e-07j]\n",
       " [-2.01388960e-06-1.23370733e-06j]\n",
       " [ 1.79210368e-07-1.01751009e-06j]\n",
       " [-1.17610265e-06-1.61025989e-06j]\n",
       " [-6.49800957e-06-4.39182521e-06j]\n",
       " [ 9.75648643e-05-2.81562987e-04j]\n",
       " [ 6.64268513e-06+1.56893290e-07j]\n",
       " [-2.78886010e-06+1.09852898e-06j]\n",
       " [-3.53497512e-06-1.61159054e-04j]\n",
       " [-3.99667258e-04-6.90725490e-04j]\n",
       " [-6.07051479e-04+2.33020831e-05j]\n",
       " [-4.64435023e-04-1.66446235e-03j]\n",
       " [ 4.67910750e-04+3.04853030e-03j]\n",
       " [-9.82346999e-01-1.87031427e-01j]]"
      ]
     },
     "execution_count": 16,
     "metadata": {},
     "output_type": "execute_result"
    }
   ],
   "source": [
    "res = tgates.CCCNOT(psi0, 0, 1, 2, 3)\n",
    "qsave(res, 'CCCNOT2')\n",
    "res.states[-1]"
   ]
  },
  {
   "cell_type": "code",
   "execution_count": null,
   "metadata": {},
   "outputs": [],
   "source": []
  }
 ],
 "metadata": {
  "kernelspec": {
   "display_name": "Python 3",
   "language": "python",
   "name": "python3"
  },
  "language_info": {
   "codemirror_mode": {
    "name": "ipython",
    "version": 3
   },
   "file_extension": ".py",
   "mimetype": "text/x-python",
   "name": "python",
   "nbconvert_exporter": "python",
   "pygments_lexer": "ipython3",
   "version": "3.7.0"
  },
  "name": "Untitled.ipynb"
 },
 "nbformat": 4,
 "nbformat_minor": 2
}
